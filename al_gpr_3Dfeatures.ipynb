{
 "cells": [
  {
   "cell_type": "code",
   "execution_count": 1,
   "metadata": {},
   "outputs": [],
   "source": [
    "import numpy as np\n",
    "import os\n",
    "import matplotlib.pyplot as plt\n",
    "import matplotlib as mpl\n",
    "from sklearn.gaussian_process import GaussianProcessRegressor\n",
    "from sklearn.gaussian_process.kernels import Matern, RBF, WhiteKernel\n",
    "# from sklearn.ensemble import RandomForestRegressor, RandomForestClassifier\n",
    "from modAL.models import ActiveLearner, BayesianOptimizer\n",
    "# from modAL.acquisition import max_EI, optimizer_EI\n",
    "from modAL.uncertainty import uncertainty_sampling\n",
    "import pandas as pd"
   ]
  },
  {
   "cell_type": "markdown",
   "metadata": {},
   "source": [
    "# Active learning in 3D\n",
    "\n",
    "## Define functions to use"
   ]
  },
  {
   "cell_type": "code",
   "execution_count": 2,
   "metadata": {},
   "outputs": [],
   "source": [
    "def sample_initial_training_points(data):\n",
    "    X_raw = np.stack((data['Pipe_D'].astype('float'), \n",
    "                      data['Elbow angle'].astype('float'), \n",
    "                      data['Inlet_V'].astype('float')), axis=-1)\n",
    "    y_raw = np.array(data['Del_P'].astype('float'))\n",
    "\n",
    "    # Isolate our examples for labeled dataset.\n",
    "    n_labeled_examples = X_raw.shape[0]\n",
    "    training_indices = np.random.randint(low=0, high=n_labeled_examples, size=3)\n",
    "    # training_indices = [0, -1, 2000]\n",
    "\n",
    "    X_train = X_raw[training_indices]\n",
    "    y_train = y_raw[training_indices]\n",
    "\n",
    "    # Isolate the non-training examples we'll be querying.\n",
    "    X_pool = np.delete(X_raw, training_indices, axis=0)\n",
    "    y_pool = np.delete(y_raw, training_indices, axis=0)\n",
    "\n",
    "    return X_train, y_train, X_pool, y_pool"
   ]
  },
  {
   "cell_type": "code",
   "execution_count": 3,
   "metadata": {},
   "outputs": [],
   "source": [
    "def GP_regression_std(regressor, X):\n",
    "    _, std = regressor.predict(X, return_std=True)\n",
    "    query_idx = np.argmax(std)\n",
    "    print(np.max(std))\n",
    "    return query_idx, X[query_idx]\n",
    "\n",
    "def active_learner(X_train, y_train):\n",
    "    kernel = Matern(length_scale=[0.1, 0.1, 0.1]) \n",
    "    regressor = GaussianProcessRegressor(kernel=kernel, normalize_y=True, n_restarts_optimizer=64)\n",
    "\n",
    "    regressor_3d = ActiveLearner(\n",
    "        estimator=regressor,\n",
    "        query_strategy=GP_regression_std, #max_EI,\n",
    "        X_training=X_train, y_training=y_train\n",
    "    )\n",
    "    return regressor_3d"
   ]
  },
  {
   "cell_type": "code",
   "execution_count": null,
   "metadata": {},
   "outputs": [],
   "source": [
    "# come up with distributions\n",
    "D = np.linspace(0.005, 0.1, 1000)\n",
    "angle = np.linspace(1, 180, 1000, endpoint=False)\n",
    "vin = np.linspace(0.025, 0.005, 1000)\n",
    "x = np.column_stack((D, angle, vin))"
   ]
  },
  {
   "cell_type": "code",
   "execution_count": null,
   "metadata": {},
   "outputs": [],
   "source": [
    "pred_init, std_init = regressor_3d.predict(x.reshape(-1,3), return_std = True) \n",
    "\n",
    "with plt.style.context('seaborn-white'):\n",
    "    plt.figure(figsize=(8, 5))\n",
    "    plt.plot(x[:,1], pred_init, label='predicted')\n",
    "    plt.fill_between(x[:, 1], pred_init-std_init, pred_init+std_init, alpha=0.2)\n",
    "    plt.scatter(X_train[:,1], y_train, c='k', label='Analytic func') # label='CFD calc')\n",
    "    plt.title('Initial Estimation')\n",
    "    plt.xlabel('Bend Angle')\n",
    "    plt.ylabel(r'Predicted $\\Delta P/L$')\n",
    "    plt.legend()\n",
    "    plt.show()\n",
    "    plt.savefig('Init_known_func.svg')"
   ]
  },
  {
   "cell_type": "code",
   "execution_count": 8,
   "metadata": {
    "scrolled": true
   },
   "outputs": [],
   "source": [
    "def query_data(N_QUERIES, X_pool, y_pool, regressor_3d):\n",
    "    #performance_history = [unqueried_score]\n",
    "    Xs = np.empty((1,3))\n",
    "    ys = np.empty((1))\n",
    "    # Allow our model to query our unlabeled dataset for the most\n",
    "    # informative points according to our query strategy (uncertainty sampling).\n",
    "    for index in range(N_QUERIES):\n",
    "        query_index, query_instance = regressor_3d.query(X_pool)\n",
    "\n",
    "        # Teach our ActiveLearner model the record it has requested.\n",
    "        X, y = X_pool[query_index].reshape(-1, 3), y_pool[query_index].reshape(1, )\n",
    "        print(X, y)\n",
    "        regressor_3d.teach(X=X, y=y)\n",
    "\n",
    "        # Remove the queried instance from the unlabeled pool.\n",
    "        Xs = np.append(Xs, X, axis=0)\n",
    "        ys = np.append(ys, y, axis=0)\n",
    "        X_pool, y_pool = np.delete(X_pool, query_index, axis=0), np.delete(y_pool, query_index)\n",
    "\n",
    "        # Calculate and report our model's accuracy.\n",
    "        model_accuracy = regressor_3d.estimator.score(Xs.reshape(-1,3), ys.reshape(-1, 1))\n",
    "        print('Accuracy after query {n}: {acc:0.4f}'.format(n=index + 1, acc=model_accuracy))\n",
    "    \n",
    "    return Xs[1:], ys[1:], X_pool, y_pool, model_accuracy\n"
   ]
  },
  {
   "cell_type": "code",
   "execution_count": 5,
   "metadata": {},
   "outputs": [],
   "source": [
    "def create_train_dat(N_QUERIES, Xs, ys, iteration=0):\n",
    "    directory = f'cfd-sr-dim/active_learning/points{N_QUERIES}_{iteration}/'\n",
    "    if not os.path.exists(directory):\n",
    "        os.makedirs(directory)\n",
    "    # print(Xs, ys)\n",
    "    df = pd.DataFrame.from_dict({'Pipe_D': Xs[:,0], 'Elbow angle': Xs[:, 1], 'Inlet_V': Xs[:, 2], 'Del_P': ys})\n",
    "    df['angle'] = np.round(np.radians(df['Elbow angle']), decimals=4)\n",
    "    df['Density'] = np.ones(df.shape[0]) * 998.\n",
    "    df['Viscosity'] = np.ones(df.shape[0]) * 0.0009737\n",
    "\n",
    "    df.to_csv(directory + 'train.dat', sep=' ', \n",
    "                  columns=['Del_P', 'Pipe_D', 'angle', 'Inlet_V', 'Density', 'Viscosity'],\n",
    "                  index=True, index_label='materials')\n",
    "    sisso = f'''!_________________________________________________________________\n",
    "! keywords for the target properties\n",
    "!_________________________________________________________________\n",
    "ptype=1\n",
    "ntask=1\n",
    "nsample={df.shape[0]}                           ! number of samples for each task\n",
    "task_weighting=1\n",
    "desc_dim=3                            ! dimension of the descriptor\n",
    "restart=.false.                       ! set .true. to continue a job that was stopped but not yet finished\n",
    "!_________________________________________________________________\n",
    "!keywords for feature construction and sure independence screening\n",
    "!_________________________________________________________________\n",
    "nsf=5                                 ! number of scalar features (one feature is one number for each material)\n",
    "rung=2                                ! rung (<=3) of the feature space to be constructed (times of applying the opset recursively)\n",
    "opset='(+)(-)(*)(/)(exp)(exp-)(sin)(cos)'\n",
    "maxcomplexity=5                      ! max feature complexity (number of operators in a feature)\n",
    "dimclass=(1:1)(2:2)(3:3)(4:5)              ! group features according to their dimension/unit; those not in any () are dimensionless\n",
    "maxfval_lb=1e-6                       ! features having the max. abs. data value < maxfval_lb will not be selected\n",
    "maxfval_ub=1e4                        ! features having the max. abs. data value > maxfval_ub will not be selected\n",
    "subs_sis=2000                          ! size of the SIS-selected (single) subspace for each descriptor dimension\n",
    "!_________________________________________________________________\n",
    "!keywords for descriptor identification via a sparsifying operator\n",
    "!_________________________________________________________________\n",
    "method='L0'                           ! sparsification operator: 'L1L0' or 'L0'; L0 is recommended!\n",
    "fit_intercept=.false.                 ! fit to a nonzero intercept (.true.) or force the intercept to zero (.false.)\n",
    "metric='RMSE'                         ! for regression only, the metric for model selection: RMSE,MaxAE\n",
    "nm_output=100                          ! number of the best models to output'''\n",
    "\n",
    "    with open(directory + 'SISSO.in', 'w') as f:\n",
    "        f.write(sisso)\n",
    "    \n",
    "    return directory"
   ]
  },
  {
   "cell_type": "code",
   "execution_count": 6,
   "metadata": {},
   "outputs": [],
   "source": [
    "def create_test_dat(directory, X_pool, y_pool):\n",
    "    df = pd.DataFrame.from_dict({'Pipe_D': X_pool[:,0], 'Elbow angle': X_pool[:, 1], 'Inlet_V': X_pool[:, 2], 'Del_P': y_pool})\n",
    "    df['angle'] = np.round(np.radians(df['Elbow angle']), decimals=4)\n",
    "    df['Density'] = np.ones(df.shape[0]) * 998\n",
    "    df['Viscosity'] = np.ones(df.shape[0]) * 0.0009737\n",
    "    df['func'] = np.ones(df.shape[0])\n",
    "    # dimensionless groups from buckingham pi theorem\n",
    "    # df['pi1'] = df['Del_P'] * df['Pipe_D']**2 * df['Density'] / df['Viscosity']**2\n",
    "    # df['pi2'] = df['Density'] * df['Inlet_V'] / df['Del_P']\n",
    "    df.to_csv(directory + 'test.dat', index=True, index_label='materials')\n",
    "    return"
   ]
  },
  {
   "cell_type": "markdown",
   "metadata": {},
   "source": [
    "## Putting it all together"
   ]
  },
  {
   "cell_type": "code",
   "execution_count": 18,
   "metadata": {
    "scrolled": true
   },
   "outputs": [
    {
     "name": "stdout",
     "output_type": "stream",
     "text": [
      "0.08601812098987838\n",
      "[[0.005 1.    0.005]] [6.2256936] float64 float64\n"
     ]
    },
    {
     "name": "stderr",
     "output_type": "stream",
     "text": [
      "/home/hgandhi/.local/lib/python3.7/site-packages/sklearn/gaussian_process/kernels.py:418: ConvergenceWarning: The optimal value found for dimension 1 of parameter length_scale is close to the specified upper bound 100000.0. Increasing the bound and calling fit again may find a better value.\n",
      "  ConvergenceWarning)\n"
     ]
    },
    {
     "name": "stdout",
     "output_type": "stream",
     "text": [
      "Accuracy after query 1: 0.8274\n",
      "1.0850529754193887\n",
      "[[0.1  1.   0.01]] [0.03161475] float64 float64\n"
     ]
    },
    {
     "name": "stderr",
     "output_type": "stream",
     "text": [
      "/home/hgandhi/.local/lib/python3.7/site-packages/sklearn/gaussian_process/kernels.py:418: ConvergenceWarning: The optimal value found for dimension 1 of parameter length_scale is close to the specified upper bound 100000.0. Increasing the bound and calling fit again may find a better value.\n",
      "  ConvergenceWarning)\n"
     ]
    },
    {
     "name": "stdout",
     "output_type": "stream",
     "text": [
      "Accuracy after query 2: 0.9160\n",
      "1.299845062087611\n",
      "[[0.005 1.    0.013]] [16.197248] float64 float64\n"
     ]
    },
    {
     "name": "stderr",
     "output_type": "stream",
     "text": [
      "/home/hgandhi/.local/lib/python3.7/site-packages/sklearn/gaussian_process/kernels.py:418: ConvergenceWarning: The optimal value found for dimension 1 of parameter length_scale is close to the specified upper bound 100000.0. Increasing the bound and calling fit again may find a better value.\n",
      "  ConvergenceWarning)\n"
     ]
    },
    {
     "name": "stdout",
     "output_type": "stream",
     "text": [
      "Accuracy after query 3: 0.9120\n",
      "5.797322661722426\n",
      "[[5.57e-02 1.80e+02 5.00e-03]] [0.09846187] float64 float64\n",
      "Accuracy after query 4: 0.9428\n",
      "5.6275006987659895\n",
      "[[0.0113 1.     0.005 ]] [1.2123661] float64 float64\n",
      "Accuracy after query 5: 0.9537\n",
      "5.312527709981066\n",
      "[[0.0156 1.     0.005 ]] [0.64454992] float64 float64\n",
      "Accuracy after query 6: 0.9632\n",
      "5.068128486954735\n",
      "[[5.0e-03 1.2e+01 5.0e-03]] [6.3485633] float64 float64\n"
     ]
    },
    {
     "name": "stderr",
     "output_type": "stream",
     "text": [
      "/home/hgandhi/.local/lib/python3.7/site-packages/sklearn/gaussian_process/kernels.py:409: ConvergenceWarning: The optimal value found for dimension 2 of parameter length_scale is close to the specified lower bound 1e-05. Decreasing the bound and calling fit again may find a better value.\n",
      "  ConvergenceWarning)\n"
     ]
    },
    {
     "name": "stdout",
     "output_type": "stream",
     "text": [
      "Accuracy after query 7: 0.9549\n",
      "4.922340401761425\n",
      "[[0.0113 1.     0.006 ]] [1.4551755] float64 float64\n",
      "Accuracy after query 8: 0.9602\n",
      "4.719536083498551\n",
      "[[0.0177 1.     0.005 ]] [0.49982412] float64 float64\n",
      "Accuracy after query 9: 0.9668\n",
      "4.431463431831293\n",
      "[[1.0e-01 1.8e+02 2.0e-02]] [0.24269174] float64 float64\n"
     ]
    },
    {
     "name": "stderr",
     "output_type": "stream",
     "text": [
      "/home/hgandhi/.local/lib/python3.7/site-packages/sklearn/gaussian_process/kernels.py:409: ConvergenceWarning: The optimal value found for dimension 0 of parameter length_scale is close to the specified lower bound 1e-05. Decreasing the bound and calling fit again may find a better value.\n",
      "  ConvergenceWarning)\n"
     ]
    },
    {
     "name": "stdout",
     "output_type": "stream",
     "text": [
      "Accuracy after query 10: 0.9722\n",
      "4.446163009154584\n",
      "[[0.024 1.    0.005]] [0.27070681] float64 float64\n",
      "Accuracy after query 11: 0.9763\n",
      "4.112094747229096\n",
      "[[0.0789 1.     0.005 ]] [0.02518501] float64 float64\n",
      "Accuracy after query 12: 0.9799\n",
      "3.887031757604847\n",
      "[[1.56e-02 1.80e+02 2.00e-02]] [5.1933389] float64 float64\n",
      "Accuracy after query 13: 0.9771\n",
      "3.5557545689822354\n",
      "[[8.1e-02 1.8e+02 1.3e-02]] [0.1855183] float64 float64\n",
      "Accuracy after query 14: 0.9800\n",
      "3.3341936301574586\n",
      "[[0.043 1.    0.009]] [0.15256705] float64 float64\n",
      "Accuracy after query 15: 0.9824\n",
      "3.1430825522464323\n",
      "[[1.0e-01 1.8e+02 5.0e-03]] [0.03644257] float64 float64\n",
      "Accuracy after query 16: 0.9845\n",
      "3.0797566875924547\n",
      "[[0.0873 1.     0.02  ]] [0.08364167] float64 float64\n",
      "Accuracy after query 17: 0.9862\n",
      "2.9197440694172845\n",
      "[[2.4e-02 1.8e+02 1.3e-02]] [1.4220111] float64 float64\n",
      "Accuracy after query 18: 0.9866\n",
      "2.752955880437061\n",
      "[[6.83e-02 1.80e+02 8.30e-03]] [0.13585432] float64 float64\n",
      "Accuracy after query 19: 0.9878\n",
      "2.6489612965421068\n",
      "[[0.005 1.    0.02 ]] [24.93754] float64 float64\n",
      "Accuracy after query 20: 0.9895\n",
      "3.5380371214630877\n",
      "[[8.94e-02 1.60e+02 5.00e-03]] [0.04182628] float64 float64\n",
      "Accuracy after query 21: 0.9904\n",
      "3.24934576698287\n",
      "[[4.72e-02 1.80e+02 2.00e-02]] [0.80838956] float64 float64\n",
      "Accuracy after query 22: 0.9910\n",
      "3.498346769368025\n",
      "[[5.0e-03 1.8e+02 5.0e-03]] [8.3882479] float64 float64\n",
      "Accuracy after query 23: 0.9898\n",
      "2.925138616232368\n",
      "[[3.67e-02 1.80e+02 5.00e-03]] [0.20449601] float64 float64\n",
      "Accuracy after query 24: 0.9906\n",
      "2.5243917315866433\n",
      "[[0.0261 1.     0.02  ]] [0.9214029] float64 float64\n",
      "Accuracy after query 25: 0.9911\n",
      "2.330104110179425\n",
      "[[0.0746 1.     0.02  ]] [0.11416679] float64 float64\n",
      "Accuracy after query 26: 0.9918\n",
      "2.109217707309684\n",
      "[[0.062 1.    0.005]] [0.04071408] float64 float64\n",
      "Accuracy after query 27: 0.9924\n",
      "1.9362124545032813\n",
      "[[0.062 1.    0.02 ]] [0.16509029] float64 float64\n",
      "Accuracy after query 28: 0.9929\n",
      "1.8772938980297496\n",
      "[[9.37e-02 1.80e+02 1.40e-02]] [0.16279209] float64 float64\n",
      "Accuracy after query 29: 0.9933\n",
      "1.8208709422303218\n",
      "[[0.0493 1.     0.005 ]] [0.06423145] float64 float64\n",
      "Accuracy after query 30: 0.9938\n",
      "1.609878072338688\n",
      "[[0.0303 1.     0.011 ]] [0.3743822] float64 float64\n",
      "Accuracy after query 31: 0.9941\n",
      "1.4989500169566643\n",
      "[[3.04e-02 1.68e+02 2.00e-02]] [1.6406181] float64 float64\n",
      "Accuracy after query 32: 0.9942\n",
      "1.4221253049961204\n",
      "[[8.08e-02 1.80e+02 2.00e-02]] [0.33698133] float64 float64\n",
      "Accuracy after query 33: 0.9945\n",
      "1.3640362977410045\n",
      "[[0.0493 1.     0.013 ]] [0.16807081] float64 float64\n",
      "Accuracy after query 34: 0.9948\n",
      "1.3350068311864696\n",
      "[[0.0937 1.     0.02  ]] [0.07279829] float64 float64\n",
      "Accuracy after query 35: 0.9951\n",
      "1.303776695586239\n",
      "[[7.47e-02 1.80e+02 5.00e-03]] [0.05958329] float64 float64\n",
      "Accuracy after query 36: 0.9953\n",
      "1.2677551805356\n",
      "[[0.0937 1.     0.005 ]] [0.01788529] float64 float64\n",
      "Accuracy after query 37: 0.9956\n",
      "1.2416188390594494\n",
      "[[0.0177 1.     0.014 ]] [1.4042184] float64 float64\n",
      "Accuracy after query 38: 0.9957\n",
      "1.204603943584299\n",
      "[[0.0747 1.     0.012 ]] [0.06795919] float64 float64\n",
      "Accuracy after query 39: 0.9959\n",
      "1.1776864928680992\n",
      "[[6.2e-02 1.8e+02 1.3e-02]] [0.28951181] float64 float64\n",
      "Accuracy after query 40: 0.9960\n",
      "1.151618795569572\n",
      "[[3.03e-02 1.80e+02 5.00e-03]] [0.28717414] float64 float64\n",
      "Accuracy after query 41: 0.9962\n",
      "1.1207735829652865\n",
      "[[0.0873 1.     0.011 ]] [0.04565093] float64 float64\n",
      "Accuracy after query 42: 0.9964\n",
      "1.099921516950349\n",
      "[[0.043 1.    0.02 ]] [0.34107169] float64 float64\n",
      "Accuracy after query 43: 0.9965\n",
      "1.0813753538604072\n",
      "[[1.13e-02 1.80e+02 1.50e-02]] [6.32032] float64 float64\n",
      "Accuracy after query 44: 0.9962\n",
      "1.1181683371958355\n",
      "[[0.0113 1.     0.02  ]] [4.86071] float64 float64\n",
      "Accuracy after query 45: 0.9960\n",
      "1.460062242601752\n",
      "[[4.72e-02 1.80e+02 5.00e-03]] [0.13099462] float64 float64\n",
      "Accuracy after query 46: 0.9962\n",
      "1.3879485702167667\n",
      "[[ 0.0578 20.      0.02  ]] [0.25070079] float64 float64\n",
      "Accuracy after query 47: 0.9963\n",
      "1.322374341682582\n",
      "[[8.94e-02 1.80e+02 2.00e-02]] [0.28744725] float64 float64\n",
      "Accuracy after query 48: 0.9964\n",
      "1.2720758204035345\n",
      "[[0.0578 1.     0.01  ]] [0.09417394] float64 float64\n",
      "Accuracy after query 49: 0.9966\n",
      "1.2527656827544156\n",
      "[[0.0683 1.     0.005 ]] [0.03353529] float64 float64\n",
      "Accuracy after query 50: 0.9967\n",
      "1.1876044843084759\n",
      "[[3.67e-02 1.80e+02 2.00e-02]] [1.2343909] float64 float64\n",
      "Accuracy after query 51: 0.9968\n",
      "1.1573526527102231\n",
      "[[8.10e-02 1.68e+02 5.00e-03]] [0.05038135] float64 float64\n",
      "Accuracy after query 52: 0.9969\n",
      "1.1157955901925494\n",
      "[[0.0493 1.     0.02  ]] [0.26013949] float64 float64\n",
      "Accuracy after query 53: 0.9970\n",
      "1.098273188609338\n",
      "[[2.61e-02 1.80e+02 5.00e-03]] [0.37650026] float64 float64\n",
      "Accuracy after query 54: 0.9971\n",
      "1.0714943399802106\n",
      "[[0.0789 1.     0.02  ]] [0.10229661] float64 float64\n",
      "Accuracy after query 55: 0.9972\n",
      "1.0376466983443715\n",
      "[[2.40e-02 1.68e+02 2.00e-02]] [2.4188154] float64 float64\n",
      "Accuracy after query 56: 0.9971\n",
      "1.0147537201755068\n",
      "[[4.30e-02 1.68e+02 5.00e-03]] [0.15092111] float64 float64\n",
      "Accuracy after query 57: 0.9972\n",
      "0.9750384125292699\n",
      "[[4.3e-02 1.8e+02 1.4e-02]] [0.58562035] float64 float64\n",
      "Accuracy after query 58: 0.9973\n",
      "0.9325722521518132\n",
      "[[0.0177 1.     0.02  ]] [2.006859] float64 float64\n",
      "Accuracy after query 59: 0.9973\n",
      "0.9089539991203921\n",
      "[[0.0873 1.     0.005 ]] [0.02059181] float64 float64\n",
      "Accuracy after query 60: 0.9974\n",
      "0.886209752193077\n",
      "[[7.44e-02 1.80e+02 1.63e-02]] [0.29250689] float64 float64\n",
      "Accuracy after query 61: 0.9974\n",
      "0.8614020714071207\n",
      "[[1.77e-02 1.80e+02 8.00e-03]] [1.3360158] float64 float64\n",
      "Accuracy after query 62: 0.9974\n",
      "0.8358503195308418\n",
      "[[3.67e-02 1.80e+02 1.20e-02]] [0.62252478] float64 float64\n",
      "Accuracy after query 63: 0.9975\n",
      "0.8143781120574584\n",
      "[[5.78e-02 1.80e+02 5.00e-03]] [0.09217978] float64 float64\n",
      "Accuracy after query 64: 0.9976\n",
      "64_0 done with accuracy 0.9975620544612566\n"
     ]
    },
    {
     "name": "stderr",
     "output_type": "stream",
     "text": [
      "/home/hgandhi/.local/lib/python3.7/site-packages/sklearn/gaussian_process/kernels.py:418: ConvergenceWarning: The optimal value found for dimension 1 of parameter length_scale is close to the specified upper bound 100000.0. Increasing the bound and calling fit again may find a better value.\n",
      "  ConvergenceWarning)\n",
      "/home/hgandhi/.local/lib/python3.7/site-packages/sklearn/gaussian_process/kernels.py:418: ConvergenceWarning: The optimal value found for dimension 0 of parameter length_scale is close to the specified upper bound 100000.0. Increasing the bound and calling fit again may find a better value.\n",
      "  ConvergenceWarning)\n",
      "/home/hgandhi/.local/lib/python3.7/site-packages/sklearn/gaussian_process/kernels.py:418: ConvergenceWarning: The optimal value found for dimension 1 of parameter length_scale is close to the specified upper bound 100000.0. Increasing the bound and calling fit again may find a better value.\n",
      "  ConvergenceWarning)\n"
     ]
    },
    {
     "name": "stdout",
     "output_type": "stream",
     "text": [
      "0.24917416856544136\n",
      "[[0.005 1.    0.005]] [6.2256936] float64 float64\n",
      "Accuracy after query 1: 0.8343\n",
      "1.2291947922244517\n",
      "[[0.1   1.    0.009]] [0.02841715] float64 float64\n",
      "Accuracy after query 2: 0.9195\n",
      "1.3190595269444196\n",
      "[[2.61e-02 1.80e+02 2.00e-02]] [2.1691781] float64 float64\n",
      "Accuracy after query 3: 0.9053\n",
      "1.1720215063081731\n",
      "[[6.80e-02 1.56e+02 2.00e-02]] [0.42714579] float64 float64\n"
     ]
    },
    {
     "name": "stderr",
     "output_type": "stream",
     "text": [
      "/home/hgandhi/.local/lib/python3.7/site-packages/sklearn/gaussian_process/kernels.py:418: ConvergenceWarning: The optimal value found for dimension 1 of parameter length_scale is close to the specified upper bound 100000.0. Increasing the bound and calling fit again may find a better value.\n",
      "  ConvergenceWarning)\n"
     ]
    },
    {
     "name": "stdout",
     "output_type": "stream",
     "text": [
      "Accuracy after query 4: 0.9301\n",
      "0.6063554450567713\n",
      "[[0.0367 1.     0.005 ]] [0.11627406] float64 float64\n"
     ]
    },
    {
     "name": "stderr",
     "output_type": "stream",
     "text": [
      "/home/hgandhi/.local/lib/python3.7/site-packages/sklearn/gaussian_process/kernels.py:418: ConvergenceWarning: The optimal value found for dimension 1 of parameter length_scale is close to the specified upper bound 100000.0. Increasing the bound and calling fit again may find a better value.\n",
      "  ConvergenceWarning)\n"
     ]
    },
    {
     "name": "stdout",
     "output_type": "stream",
     "text": [
      "Accuracy after query 5: 0.9493\n",
      "0.6776471191016445\n",
      "[[0.0156 1.     0.005 ]] [0.64454992] float64 float64\n"
     ]
    },
    {
     "name": "stderr",
     "output_type": "stream",
     "text": [
      "/home/hgandhi/.local/lib/python3.7/site-packages/sklearn/gaussian_process/kernels.py:418: ConvergenceWarning: The optimal value found for dimension 2 of parameter length_scale is close to the specified upper bound 100000.0. Increasing the bound and calling fit again may find a better value.\n",
      "  ConvergenceWarning)\n",
      "/home/hgandhi/.local/lib/python3.7/site-packages/sklearn/gaussian_process/kernels.py:418: ConvergenceWarning: The optimal value found for dimension 2 of parameter length_scale is close to the specified upper bound 100000.0. Increasing the bound and calling fit again may find a better value.\n",
      "  ConvergenceWarning)\n"
     ]
    },
    {
     "name": "stdout",
     "output_type": "stream",
     "text": [
      "Accuracy after query 6: 0.9555\n",
      "1.8910120973007958\n",
      "[[0.0113 1.     0.005 ]] [1.2123661] float64 float64\n",
      "Accuracy after query 7: 0.9552\n",
      "1.793530737779625\n",
      "[[0.0578 1.     0.0067]] [0.06259325] float64 float64\n",
      "Accuracy after query 8: 0.9643\n",
      "1.738814039133306\n",
      "[[0.0894 1.     0.005 ]] [0.01960826] float64 float64\n",
      "Accuracy after query 9: 0.9710\n",
      "1.6593602026942933\n",
      "[[0.0746 1.     0.02  ]] [0.11416679] float64 float64\n"
     ]
    },
    {
     "name": "stderr",
     "output_type": "stream",
     "text": [
      "/home/hgandhi/.local/lib/python3.7/site-packages/sklearn/gaussian_process/kernels.py:418: ConvergenceWarning: The optimal value found for dimension 1 of parameter length_scale is close to the specified upper bound 100000.0. Increasing the bound and calling fit again may find a better value.\n",
      "  ConvergenceWarning)\n"
     ]
    },
    {
     "name": "stdout",
     "output_type": "stream",
     "text": [
      "Accuracy after query 10: 0.9755\n",
      "1.5619676780635208\n",
      "[[4.30e-02 1.68e+02 2.00e-02]] [0.91967909] float64 float64\n",
      "Accuracy after query 11: 0.9755\n",
      "1.3610938465812643\n",
      "[[9.37e-02 1.08e+02 2.00e-02]] [0.23683114] float64 float64\n",
      "Accuracy after query 12: 0.9782\n",
      "1.210913092962737\n",
      "[[0.0304 1.     0.02  ]] [0.68240659] float64 float64\n"
     ]
    },
    {
     "name": "stderr",
     "output_type": "stream",
     "text": [
      "/home/hgandhi/.local/lib/python3.7/site-packages/sklearn/gaussian_process/kernels.py:418: ConvergenceWarning: The optimal value found for dimension 1 of parameter length_scale is close to the specified upper bound 100000.0. Increasing the bound and calling fit again may find a better value.\n",
      "  ConvergenceWarning)\n"
     ]
    },
    {
     "name": "stdout",
     "output_type": "stream",
     "text": [
      "Accuracy after query 13: 0.9788\n",
      "1.10965369604321\n",
      "[[6.20e-02 1.68e+02 2.00e-02]] [0.50562035] float64 float64\n"
     ]
    },
    {
     "name": "stderr",
     "output_type": "stream",
     "text": [
      "/home/hgandhi/.local/lib/python3.7/site-packages/sklearn/gaussian_process/kernels.py:418: ConvergenceWarning: The optimal value found for dimension 2 of parameter length_scale is close to the specified upper bound 100000.0. Increasing the bound and calling fit again may find a better value.\n",
      "  ConvergenceWarning)\n"
     ]
    },
    {
     "name": "stdout",
     "output_type": "stream",
     "text": [
      "Accuracy after query 14: 0.9799\n",
      "0.7217008508289293\n",
      "[[0.024 1.    0.005]] [0.27070681] float64 float64\n"
     ]
    },
    {
     "name": "stderr",
     "output_type": "stream",
     "text": [
      "/home/hgandhi/.local/lib/python3.7/site-packages/sklearn/gaussian_process/kernels.py:409: ConvergenceWarning: The optimal value found for dimension 0 of parameter length_scale is close to the specified lower bound 1e-05. Decreasing the bound and calling fit again may find a better value.\n",
      "  ConvergenceWarning)\n"
     ]
    },
    {
     "name": "stdout",
     "output_type": "stream",
     "text": [
      "Accuracy after query 15: 0.9816\n",
      "1.4129693065105018\n",
      "[[0.0177 1.     0.005 ]] [0.49982412] float64 float64\n"
     ]
    },
    {
     "name": "stderr",
     "output_type": "stream",
     "text": [
      "/home/hgandhi/.local/lib/python3.7/site-packages/sklearn/gaussian_process/kernels.py:409: ConvergenceWarning: The optimal value found for dimension 0 of parameter length_scale is close to the specified lower bound 1e-05. Decreasing the bound and calling fit again may find a better value.\n",
      "  ConvergenceWarning)\n"
     ]
    },
    {
     "name": "stdout",
     "output_type": "stream",
     "text": [
      "Accuracy after query 16: 0.9824\n",
      "1.3770248998923478\n",
      "[[0.0472 1.     0.005 ]] [0.07008886] float64 float64\n",
      "Accuracy after query 17: 0.9842\n",
      "0.9244630905513436\n",
      "[[8.72e-02 1.80e+02 2.00e-02]] [0.2990012] float64 float64\n",
      "Accuracy after query 18: 0.9852\n",
      "0.8577763326403337\n",
      "[[5.57e-02 1.80e+02 5.00e-03]] [0.09846187] float64 float64\n",
      "Accuracy after query 19: 0.9865\n",
      "0.7870741174021856\n",
      "[[0.0789 1.     0.005 ]] [0.02518501] float64 float64\n",
      "Accuracy after query 20: 0.9878\n",
      "0.7432353344699638\n",
      "[[5.0e-03 1.8e+02 2.0e-02]] [39.169213] float64 float64\n",
      "Accuracy after query 21: 0.9964\n",
      "4.0570388685048355\n",
      "[[1.0e-01 1.8e+02 5.0e-03]] [0.03644257] float64 float64\n",
      "Accuracy after query 22: 0.9967\n",
      "3.5814166911923873\n",
      "[[1.56e-02 1.00e+02 5.00e-03]] [0.8506758] float64 float64\n",
      "Accuracy after query 23: 0.9969\n",
      "3.4342973075296888\n",
      "[[0.0156 1.     0.0133]] [1.7236126] float64 float64\n",
      "Accuracy after query 24: 0.9969\n",
      "4.612195522679281\n",
      "[[3.67e-02 1.80e+02 1.20e-02]] [0.62252478] float64 float64\n",
      "Accuracy after query 25: 0.9971\n",
      "3.7874489601739416\n",
      "[[6.2e-02 1.8e+02 1.3e-02]] [0.28951181] float64 float64\n",
      "Accuracy after query 26: 0.9972\n",
      "4.602043459860958\n",
      "[[3.67e-02 8.40e+01 5.00e-03]] [0.17594079] float64 float64\n",
      "Accuracy after query 27: 0.9974\n",
      "3.5197576359287064\n",
      "[[5.0e-03 1.8e+02 1.2e-02]] [21.77419] float64 float64\n",
      "Accuracy after query 28: 0.9964\n",
      "3.339842435437246\n",
      "[[6.83e-02 1.80e+02 5.00e-03]] [0.0692739] float64 float64\n",
      "Accuracy after query 29: 0.9966\n",
      "2.7651307417756157\n",
      "[[0.0156 1.     0.02  ]] [2.5905974] float64 float64\n",
      "Accuracy after query 30: 0.9966\n",
      "3.1072638820727017\n",
      "[[3.03e-02 1.80e+02 5.00e-03]] [0.28717414] float64 float64\n",
      "Accuracy after query 31: 0.9968\n",
      "4.346072919962083\n",
      "[[0.0493 1.     0.02  ]] [0.26013949] float64 float64\n",
      "Accuracy after query 32: 0.9969\n",
      "3.751391492832596\n",
      "[[0.005 1.    0.02 ]] [24.93754] float64 float64\n",
      "Accuracy after query 33: 0.9961\n",
      "3.2971388242088313\n",
      "[[8.73e-02 1.80e+02 5.00e-03]] [0.04561009] float64 float64\n",
      "Accuracy after query 34: 0.9964\n",
      "3.089753550411765\n",
      "[[1.0e-01 1.8e+02 2.0e-02]] [0.24269174] float64 float64\n",
      "Accuracy after query 35: 0.9965\n",
      "2.838947224942645\n",
      "[[0.0683 1.     0.012 ]] [0.08106009] float64 float64\n",
      "Accuracy after query 36: 0.9967\n",
      "2.663874058060492\n",
      "[[0.0873 1.     0.02  ]] [0.08364167] float64 float64\n",
      "Accuracy after query 37: 0.9969\n",
      "2.587950974407651\n",
      "[[0.062 1.    0.02 ]] [0.16509029] float64 float64\n",
      "Accuracy after query 38: 0.9970\n",
      "2.490475747794919\n",
      "[[5.0e-03 1.8e+02 5.0e-03]] [8.3882479] float64 float64\n",
      "Accuracy after query 39: 0.9968\n",
      "2.44555423496024\n",
      "[[1.56e-02 1.80e+02 2.00e-02]] [5.1933389] float64 float64\n",
      "Accuracy after query 40: 0.9967\n",
      "2.742034458720909\n",
      "[[4.3e-02 1.8e+02 6.0e-03]] [0.19371512] float64 float64\n",
      "Accuracy after query 41: 0.9968\n",
      "2.693003523373829\n",
      "[[9.37e-02 1.80e+02 1.10e-02]] [0.11643266] float64 float64\n",
      "Accuracy after query 42: 0.9969\n",
      "2.640134049726317\n",
      "[[7.47e-02 1.80e+02 1.10e-02]] [0.16995812] float64 float64\n",
      "Accuracy after query 43: 0.9971\n",
      "2.5551638021527574\n",
      "[[0.0367 1.     0.02  ]] [0.46941925] float64 float64\n",
      "Accuracy after query 44: 0.9972\n",
      "2.466027690567636\n",
      "[[2.4e-02 1.8e+02 1.1e-02]] [1.1487608] float64 float64\n",
      "Accuracy after query 45: 0.9973\n",
      "2.378994654762789\n",
      "[[0.043 1.    0.013]] [0.22097336] float64 float64\n",
      "Accuracy after query 46: 0.9974\n",
      "2.342149182571948\n",
      "[[7.89e-02 1.80e+02 2.00e-02]] [0.35024253] float64 float64\n",
      "Accuracy after query 47: 0.9975\n",
      "2.2247495618189173\n",
      "[[0.024 1.    0.02 ]] [1.0881076] float64 float64\n",
      "Accuracy after query 48: 0.9975\n",
      "2.151238414447021\n",
      "[[0.0303 1.     0.011 ]] [0.3743822] float64 float64\n",
      "Accuracy after query 49: 0.9976\n",
      "2.113022386834287\n",
      "[[0.0557 1.     0.015 ]] [0.15271437] float64 float64\n",
      "Accuracy after query 50: 0.9977\n",
      "2.0410063777583902\n",
      "[[7.89e-02 1.80e+02 5.00e-03]] [0.0542843] float64 float64\n",
      "Accuracy after query 51: 0.9978\n",
      "1.9878132452100765\n",
      "[[0.0683 1.     0.005 ]] [0.03353529] float64 float64\n",
      "Accuracy after query 52: 0.9979\n",
      "1.9250697809031425\n",
      "[[4.93e-02 1.80e+02 1.00e-02]] [0.29815468] float64 float64\n",
      "Accuracy after query 53: 0.9979\n",
      "1.8623730056787622\n",
      "[[0.1  1.   0.02]] [0.06394421] float64 float64\n",
      "Accuracy after query 54: 0.9980\n",
      "1.8352409307827469\n",
      "[[5.57e-02 1.68e+02 2.00e-02]] [0.60402099] float64 float64\n",
      "Accuracy after query 55: 0.9981\n",
      "1.7981504859503346\n",
      "[[1.13e-02 1.80e+02 1.30e-02]] [5.3188746] float64 float64\n",
      "Accuracy after query 56: 0.9980\n",
      "1.9470055842824996\n",
      "[[3.67e-02 1.80e+02 2.00e-02]] [1.2343909] float64 float64\n",
      "Accuracy after query 57: 0.9980\n",
      "1.9241099781413769\n",
      "[[6.2e-02 1.8e+02 5.0e-03]] [0.08180235] float64 float64\n",
      "Accuracy after query 58: 0.9981\n",
      "1.856502372264877\n",
      "[[0.081 1.    0.02 ]] [0.09732112] float64 float64\n",
      "Accuracy after query 59: 0.9981\n",
      "1.790684961532321\n",
      "[[0.0937 1.     0.005 ]] [0.01788529] float64 float64\n",
      "Accuracy after query 60: 0.9982\n",
      "1.745246653384795\n",
      "[[0.0894 1.     0.0133]] [0.05281744] float64 float64\n",
      "Accuracy after query 61: 0.9983\n",
      "1.675188051803179\n",
      "[[0.0113 1.     0.02  ]] [4.86071] float64 float64\n",
      "Accuracy after query 62: 0.9982\n",
      "1.9880547920558735\n",
      "[[0.0747 1.     0.005 ]] [0.02810256] float64 float64\n",
      "Accuracy after query 63: 0.9982\n",
      "1.7464634203236775\n",
      "[[3.03e-02 1.80e+02 1.40e-02]] [1.0493819] float64 float64\n",
      "Accuracy after query 64: 0.9983\n",
      "64_1 done with accuracy 0.9982682556546119\n",
      "0.1333352635483973\n",
      "[[5.0e-03 1.8e+02 5.0e-03]] [8.3882479] float64 float64\n",
      "Accuracy after query 1: 0.8472\n",
      "3.5060748361935765\n",
      "[[0.1   1.    0.005]] [0.01569931] float64 float64\n",
      "Accuracy after query 2: 0.9204\n",
      "1.6888946133475418\n",
      "[[1.00e-01 1.32e+02 2.00e-02]] [0.2244967] float64 float64\n",
      "Accuracy after query 3: 0.9514\n",
      "2.2668159871768525\n",
      "[[0.024 1.    0.02 ]] [1.0881076] float64 float64\n",
      "Accuracy after query 4: 0.9565\n",
      "2.8246474870033222\n",
      "[[0.0113 1.     0.005 ]] [1.2123661] float64 float64\n",
      "Accuracy after query 5: 0.9561\n",
      "1.861140270064915\n",
      "[[5.e-03 1.e+02 5.e-03]] [7.4305949] float64 float64\n",
      "Accuracy after query 6: 0.9429\n",
      "3.1169312742179995\n",
      "[[0.0557 1.     0.005 ]] [0.05047662] float64 float64\n",
      "Accuracy after query 7: 0.9567\n",
      "1.6153139719572362\n",
      "[[5.78e-02 1.80e+02 5.00e-03]] [0.09217978] float64 float64\n",
      "Accuracy after query 8: 0.9656\n",
      "2.9282837101617827\n",
      "[[8.72e-02 1.80e+02 2.00e-02]] [0.2990012] float64 float64\n",
      "Accuracy after query 9: 0.9711\n",
      "1.166084041078255\n",
      "[[3.03e-02 1.80e+02 1.40e-02]] [1.0493819] float64 float64\n",
      "Accuracy after query 10: 0.9728\n",
      "2.665644092336937\n",
      "[[0.0789 1.     0.005 ]] [0.02518501] float64 float64\n",
      "Accuracy after query 11: 0.9772\n",
      "2.176465377473144\n",
      "[[4.93e-02 1.80e+02 5.00e-03]] [0.12138131] float64 float64\n",
      "Accuracy after query 12: 0.9804\n",
      "1.0016698172133385\n",
      "[[2.61e-02 1.00e+02 5.00e-03]] [0.33204653] float64 float64\n",
      "Accuracy after query 13: 0.9824\n",
      "1.801676810784214\n",
      "[[1.77e-02 1.80e+02 5.00e-03]] [0.76858414] float64 float64\n",
      "Accuracy after query 14: 0.9834\n",
      "1.6336470888209949\n",
      "[[0.0937 1.     0.005 ]] [0.01788529] float64 float64\n",
      "Accuracy after query 15: 0.9854\n",
      "1.443221371701012\n",
      "[[0.0367 1.     0.005 ]] [0.11627406] float64 float64\n",
      "Accuracy after query 16: 0.9869\n",
      "2.3483288187260003\n",
      "[[0.0156 1.     0.005 ]] [0.64454992] float64 float64\n",
      "Accuracy after query 17: 0.9875\n",
      "1.2332200788130716\n",
      "[[7.44e-02 1.80e+02 2.00e-02]] [0.39052612] float64 float64\n",
      "Accuracy after query 18: 0.9884\n",
      "1.0892556236926798\n",
      "[[0.062 1.    0.02 ]] [0.16509029] float64 float64\n",
      "Accuracy after query 19: 0.9894\n",
      "0.8897429640632424\n",
      "[[3.67e-02 1.80e+02 2.00e-02]] [1.2343909] float64 float64\n",
      "Accuracy after query 20: 0.9892\n",
      "0.8609051434913452\n",
      "[[0.0873 1.     0.005 ]] [0.02059181] float64 float64\n",
      "Accuracy after query 21: 0.9902\n",
      "0.8072479766085554\n",
      "[[8.1e-02 1.8e+02 6.0e-03]] [0.06603336] float64 float64\n",
      "Accuracy after query 22: 0.9910\n",
      "0.7458119649714389\n",
      "[[0.0493 1.     0.02  ]] [0.26013949] float64 float64\n",
      "Accuracy after query 23: 0.9915\n",
      "0.7094164640598574\n",
      "[[9.37e-02 1.80e+02 5.00e-03]] [0.04065784] float64 float64\n",
      "Accuracy after query 24: 0.9922\n",
      "0.6837187903208932\n",
      "[[1.13e-02 1.80e+02 1.50e-02]] [6.32032] float64 float64\n",
      "Accuracy after query 25: 0.9909\n",
      "0.8462566851136449\n",
      "[[0.005 1.    0.02 ]] [24.93754] float64 float64\n",
      "Accuracy after query 26: 0.9945\n",
      "4.10672038722119\n",
      "[[0.1   1.    0.013]] [0.04124783] float64 float64\n",
      "Accuracy after query 27: 0.9949\n",
      "2.5436350919404025\n",
      "[[6.83e-02 1.80e+02 5.00e-03]] [0.0692739] float64 float64\n",
      "Accuracy after query 28: 0.9952\n",
      "2.3039091696067646\n",
      "[[0.0156 1.     0.02  ]] [2.5905974] float64 float64\n"
     ]
    },
    {
     "name": "stdout",
     "output_type": "stream",
     "text": [
      "Accuracy after query 29: 0.9951\n",
      "2.30834552919647\n",
      "[[0.0937 1.     0.02  ]] [0.07279829] float64 float64\n",
      "Accuracy after query 30: 0.9954\n",
      "2.198644255454412\n",
      "[[0.081 1.    0.02 ]] [0.09732112] float64 float64\n",
      "Accuracy after query 31: 0.9957\n",
      "2.0882596910760363\n",
      "[[5.57e-02 1.68e+02 2.00e-02]] [0.60402099] float64 float64\n",
      "Accuracy after query 32: 0.9958\n",
      "1.9651152591113492\n",
      "[[0.043 1.    0.005]] [0.08449803] float64 float64\n",
      "Accuracy after query 33: 0.9961\n",
      "1.6919473827219307\n",
      "[[7.47e-02 1.80e+02 1.10e-02]] [0.16995812] float64 float64\n",
      "Accuracy after query 34: 0.9963\n",
      "1.6197209243012167\n",
      "[[0.062 1.    0.01 ]] [0.08182944] float64 float64\n",
      "Accuracy after query 35: 0.9965\n",
      "1.5766331404666574\n",
      "[[0.0304 1.     0.02  ]] [0.68240659] float64 float64\n",
      "Accuracy after query 36: 0.9966\n",
      "1.5104987694885452\n",
      "[[4.72e-02 1.80e+02 1.33e-02]] [0.47086152] float64 float64\n",
      "Accuracy after query 37: 0.9967\n",
      "3.531201751848529\n",
      "[[6.20e-02 1.08e+02 2.00e-02]] [0.45857752] float64 float64\n",
      "Accuracy after query 38: 0.9968\n",
      "1.426206201797508\n",
      "[[1.77e-02 1.80e+02 1.30e-02]] [2.4164364] float64 float64\n",
      "Accuracy after query 39: 0.9967\n",
      "1.4464681043000691\n",
      "[[0.0303 1.     0.005 ]] [0.16958597] float64 float64\n",
      "Accuracy after query 40: 0.9969\n",
      "1.3932611191230646\n",
      "[[0.0894 1.     0.0133]] [0.05281744] float64 float64\n",
      "Accuracy after query 41: 0.9970\n",
      "1.2991445849338115\n",
      "[[0.0367 1.     0.0133]] [0.31178849] float64 float64\n",
      "Accuracy after query 42: 0.9971\n",
      "3.219760385976447\n",
      "[[7.46e-02 7.20e+01 2.00e-02]] [0.34391537] float64 float64\n",
      "Accuracy after query 43: 0.9972\n",
      "1.2377796758250073\n",
      "[[0.024 1.    0.012]] [0.65185166] float64 float64\n",
      "Accuracy after query 44: 0.9973\n",
      "1.1967079009176629\n",
      "[[5.0e-03 1.8e+02 1.3e-02]] [23.84079] float64 float64\n",
      "Accuracy after query 45: 0.9971\n",
      "1.6601992250674946\n",
      "[[5.57e-02 1.80e+02 1.20e-02]] [0.3110786] float64 float64\n",
      "Accuracy after query 46: 0.9972\n",
      "1.5178654946880321\n",
      "[[0.081 1.    0.013]] [0.0626878] float64 float64\n",
      "Accuracy after query 47: 0.9973\n",
      "1.414045528375293\n",
      "[[7.47e-02 1.80e+02 5.00e-03]] [0.05958329] float64 float64\n"
     ]
    },
    {
     "name": "stderr",
     "output_type": "stream",
     "text": [
      "/home/hgandhi/.local/lib/python3.7/site-packages/sklearn/gaussian_process/_gpr.py:506: ConvergenceWarning: lbfgs failed to converge (status=2):\n",
      "ABNORMAL_TERMINATION_IN_LNSRCH.\n",
      "\n",
      "Increase the number of iterations (max_iter) or scale the data as shown in:\n",
      "    https://scikit-learn.org/stable/modules/preprocessing.html\n",
      "  _check_optimize_result(\"lbfgs\", opt_res)\n"
     ]
    },
    {
     "name": "stdout",
     "output_type": "stream",
     "text": [
      "Accuracy after query 48: 0.9974\n",
      "1.3869038384030399\n",
      "[[9.37e-02 1.68e+02 1.30e-02]] [0.14191486] float64 float64\n",
      "Accuracy after query 49: 0.9975\n",
      "1.3101378588510995\n",
      "[[0.0113 1.     0.02  ]] [4.86071] float64 float64\n",
      "Accuracy after query 50: 0.9974\n",
      "1.3743839770845778\n",
      "[[6.2e-02 1.8e+02 5.0e-03]] [0.08180235] float64 float64\n",
      "Accuracy after query 51: 0.9975\n",
      "1.351532027921947\n",
      "[[4.3e-02 1.8e+02 1.2e-02]] [0.47663178] float64 float64\n",
      "Accuracy after query 52: 0.9976\n",
      "1.1986536732794022\n",
      "[[2.61e-02 1.80e+02 2.00e-02]] [2.1691781] float64 float64\n",
      "Accuracy after query 53: 0.9975\n",
      "1.1818762388847832\n",
      "[[0.0493 1.     0.011 ]] [0.14200809] float64 float64\n",
      "Accuracy after query 54: 0.9976\n",
      "1.1614294730544326\n",
      "[[7.89e-02 1.80e+02 1.67e-02]] [0.27346765] float64 float64\n",
      "Accuracy after query 55: 0.9977\n",
      "1.1330540603341699\n",
      "[[0.0578 1.     0.015 ]] [0.14182775] float64 float64\n",
      "Accuracy after query 56: 0.9978\n",
      "1.10862246204947\n",
      "[[1.77e-02 1.68e+02 2.00e-02]] [4.0627529] float64 float64\n",
      "Accuracy after query 57: 0.9977\n",
      "1.097379559559921\n",
      "[[8.73e-02 1.80e+02 1.10e-02]] [0.1320168] float64 float64\n",
      "Accuracy after query 58: 0.9977\n",
      "1.024191934642351\n",
      "[[0.0472 1.     0.005 ]] [0.07008886] float64 float64\n",
      "Accuracy after query 59: 0.9978\n",
      "1.0008979489552283\n",
      "[[0.024 1.    0.005]] [0.27070681] float64 float64\n",
      "Accuracy after query 60: 0.9979\n",
      "0.9725683923092047\n",
      "[[4.72e-02 1.80e+02 2.00e-02]] [0.80838956] float64 float64\n",
      "Accuracy after query 61: 0.9979\n",
      "0.9579595816263103\n",
      "[[8.94e-02 1.60e+02 5.00e-03]] [0.04182628] float64 float64\n",
      "Accuracy after query 62: 0.9980\n",
      "0.9128029881002597\n",
      "[[3.67e-02 1.80e+02 9.00e-03]] [0.42778267] float64 float64\n",
      "Accuracy after query 63: 0.9980\n",
      "0.8974247654212515\n",
      "[[0.0113 1.     0.011 ]] [2.6710931] float64 float64\n",
      "Accuracy after query 64: 0.9980\n",
      "64_2 done with accuracy 0.9979880848511997\n",
      "8.798540884053217\n",
      "[[0.005 1.    0.005]] [6.2256936] float64 float64\n",
      "Accuracy after query 1: -2.7869\n",
      "7.738706281585607\n",
      "[[0.0367 1.     0.005 ]] [0.11627406] float64 float64\n",
      "Accuracy after query 2: -0.8642\n",
      "7.702968351324301\n",
      "[[5.0e-03 1.2e+01 5.0e-03]] [6.3485633] float64 float64\n",
      "Accuracy after query 3: -0.1873\n",
      "7.03456941360255\n",
      "[[0.0113 1.     0.006 ]] [1.4551755] float64 float64\n"
     ]
    },
    {
     "name": "stderr",
     "output_type": "stream",
     "text": [
      "/home/hgandhi/.local/lib/python3.7/site-packages/sklearn/gaussian_process/kernels.py:409: ConvergenceWarning: The optimal value found for dimension 0 of parameter length_scale is close to the specified lower bound 1e-05. Decreasing the bound and calling fit again may find a better value.\n",
      "  ConvergenceWarning)\n"
     ]
    },
    {
     "name": "stdout",
     "output_type": "stream",
     "text": [
      "Accuracy after query 4: 0.1179\n",
      "6.774881033964472\n",
      "[[0.0156 1.     0.005 ]] [0.64454992] float64 float64\n",
      "Accuracy after query 5: 0.3651\n",
      "6.58255069624885\n",
      "[[0.0873 1.     0.005 ]] [0.02059181] float64 float64\n"
     ]
    },
    {
     "name": "stderr",
     "output_type": "stream",
     "text": [
      "/home/hgandhi/.local/lib/python3.7/site-packages/sklearn/gaussian_process/kernels.py:409: ConvergenceWarning: The optimal value found for dimension 0 of parameter length_scale is close to the specified lower bound 1e-05. Decreasing the bound and calling fit again may find a better value.\n",
      "  ConvergenceWarning)\n",
      "/home/hgandhi/.local/lib/python3.7/site-packages/sklearn/gaussian_process/kernels.py:409: ConvergenceWarning: The optimal value found for dimension 2 of parameter length_scale is close to the specified lower bound 1e-05. Decreasing the bound and calling fit again may find a better value.\n",
      "  ConvergenceWarning)\n"
     ]
    },
    {
     "name": "stdout",
     "output_type": "stream",
     "text": [
      "Accuracy after query 6: 0.5491\n",
      "6.428442759612187\n",
      "[[0.0113 1.     0.005 ]] [1.2123661] float64 float64\n",
      "Accuracy after query 7: 0.6192\n",
      "6.190796567272073\n",
      "[[0.024 1.    0.005]] [0.27070681] float64 float64\n",
      "Accuracy after query 8: 0.6972\n",
      "6.021240862710952\n",
      "[[6.20e-02 1.68e+02 2.00e-02]] [0.50562035] float64 float64\n",
      "Accuracy after query 9: 0.7470\n",
      "5.845864796550176\n",
      "[[1.0e-01 1.8e+02 2.0e-02]] [0.24269174] float64 float64\n",
      "Accuracy after query 10: 0.7892\n",
      "5.693906755096665\n",
      "[[0.0303 1.     0.005 ]] [0.16958597] float64 float64\n"
     ]
    },
    {
     "name": "stderr",
     "output_type": "stream",
     "text": [
      "/home/hgandhi/.local/lib/python3.7/site-packages/sklearn/gaussian_process/kernels.py:409: ConvergenceWarning: The optimal value found for dimension 2 of parameter length_scale is close to the specified lower bound 1e-05. Decreasing the bound and calling fit again may find a better value.\n",
      "  ConvergenceWarning)\n"
     ]
    },
    {
     "name": "stdout",
     "output_type": "stream",
     "text": [
      "Accuracy after query 11: 0.8223\n",
      "5.552153086347018\n",
      "[[0.005  1.     0.0067]] [8.3015823] float64 float64\n",
      "Accuracy after query 12: 0.8754\n",
      "5.492883051322919\n",
      "[[7.89e-02 1.80e+02 2.00e-02]] [0.35024253] float64 float64\n",
      "Accuracy after query 13: 0.8916\n",
      "5.392554433259761\n",
      "[[0.0113 1.     0.007 ]] [1.6981139] float64 float64\n",
      "Accuracy after query 14: 0.8979\n",
      "5.246299007790677\n",
      "[[1.0e-01 4.8e+01 5.0e-03]] [0.02594792] float64 float64\n"
     ]
    },
    {
     "name": "stderr",
     "output_type": "stream",
     "text": [
      "/home/hgandhi/.local/lib/python3.7/site-packages/sklearn/gaussian_process/_gpr.py:506: ConvergenceWarning: lbfgs failed to converge (status=2):\n",
      "ABNORMAL_TERMINATION_IN_LNSRCH.\n",
      "\n",
      "Increase the number of iterations (max_iter) or scale the data as shown in:\n",
      "    https://scikit-learn.org/stable/modules/preprocessing.html\n",
      "  _check_optimize_result(\"lbfgs\", opt_res)\n"
     ]
    },
    {
     "name": "stdout",
     "output_type": "stream",
     "text": [
      "Accuracy after query 15: 0.9114\n",
      "5.1307949441715195\n",
      "[[4.72e-02 1.80e+02 2.00e-02]] [0.80838956] float64 float64\n"
     ]
    },
    {
     "name": "stderr",
     "output_type": "stream",
     "text": [
      "/home/hgandhi/.local/lib/python3.7/site-packages/sklearn/gaussian_process/_gpr.py:506: ConvergenceWarning: lbfgs failed to converge (status=2):\n",
      "ABNORMAL_TERMINATION_IN_LNSRCH.\n",
      "\n",
      "Increase the number of iterations (max_iter) or scale the data as shown in:\n",
      "    https://scikit-learn.org/stable/modules/preprocessing.html\n",
      "  _check_optimize_result(\"lbfgs\", opt_res)\n"
     ]
    },
    {
     "name": "stdout",
     "output_type": "stream",
     "text": [
      "Accuracy after query 16: 0.9188\n",
      "4.995690588739704\n",
      "[[0.0683 1.     0.005 ]] [0.03353529] float64 float64\n",
      "Accuracy after query 17: 0.9283\n",
      "4.886379230152362\n",
      "[[0.0557 1.     0.005 ]] [0.05047662] float64 float64\n",
      "Accuracy after query 18: 0.9361\n",
      "4.765227023610319\n",
      "[[3.04e-02 1.68e+02 2.00e-02]] [1.6406181] float64 float64\n",
      "Accuracy after query 19: 0.9384\n",
      "4.597608841222717\n",
      "[[ 0.0894 20.      0.02  ]] [0.11815163] float64 float64\n"
     ]
    },
    {
     "name": "stderr",
     "output_type": "stream",
     "text": [
      "/home/hgandhi/.local/lib/python3.7/site-packages/sklearn/gaussian_process/_gpr.py:506: ConvergenceWarning: lbfgs failed to converge (status=2):\n",
      "ABNORMAL_TERMINATION_IN_LNSRCH.\n",
      "\n",
      "Increase the number of iterations (max_iter) or scale the data as shown in:\n",
      "    https://scikit-learn.org/stable/modules/preprocessing.html\n",
      "  _check_optimize_result(\"lbfgs\", opt_res)\n"
     ]
    },
    {
     "name": "stdout",
     "output_type": "stream",
     "text": [
      "Accuracy after query 20: 0.9443\n",
      "4.3887438757201265\n",
      "[[4.72e-02 1.80e+02 5.00e-03]] [0.13099462] float64 float64\n"
     ]
    },
    {
     "name": "stderr",
     "output_type": "stream",
     "text": [
      "/home/hgandhi/.local/lib/python3.7/site-packages/sklearn/gaussian_process/kernels.py:409: ConvergenceWarning: The optimal value found for dimension 2 of parameter length_scale is close to the specified lower bound 1e-05. Decreasing the bound and calling fit again may find a better value.\n",
      "  ConvergenceWarning)\n"
     ]
    },
    {
     "name": "stdout",
     "output_type": "stream",
     "text": [
      "Accuracy after query 21: 0.9493\n",
      "4.614227581607515\n",
      "[[0.005 1.    0.008]] [9.9628509] float64 float64\n",
      "Accuracy after query 22: 0.9601\n",
      "4.230865000602359\n",
      "[[0.0789 1.     0.005 ]] [0.02518501] float64 float64\n",
      "Accuracy after query 23: 0.9636\n",
      "3.955383933131399\n",
      "[[0.0683 1.     0.02  ]] [0.13615129] float64 float64\n"
     ]
    },
    {
     "name": "stderr",
     "output_type": "stream",
     "text": [
      "/home/hgandhi/.local/lib/python3.7/site-packages/sklearn/gaussian_process/_gpr.py:506: ConvergenceWarning: lbfgs failed to converge (status=2):\n",
      "ABNORMAL_TERMINATION_IN_LNSRCH.\n",
      "\n",
      "Increase the number of iterations (max_iter) or scale the data as shown in:\n",
      "    https://scikit-learn.org/stable/modules/preprocessing.html\n",
      "  _check_optimize_result(\"lbfgs\", opt_res)\n"
     ]
    },
    {
     "name": "stdout",
     "output_type": "stream",
     "text": [
      "Accuracy after query 24: 0.9665\n",
      "3.881592346658139\n",
      "[[0.0367 1.     0.02  ]] [0.46941925] float64 float64\n",
      "Accuracy after query 25: 0.9687\n",
      "3.7560146274167523\n",
      "[[0.0557 1.     0.02  ]] [0.20438557] float64 float64\n",
      "Accuracy after query 26: 0.9709\n",
      "4.501025899319107\n",
      "[[0.005 1.    0.009]] [11.209144] float64 float64\n",
      "Accuracy after query 27: 0.9749\n",
      "3.635942114157657\n",
      "[[9.37e-02 1.80e+02 5.00e-03]] [0.04065784] float64 float64\n",
      "Accuracy after query 28: 0.9767\n",
      "3.4744442033529466\n",
      "[[0.024 1.    0.02 ]] [1.0881076] float64 float64\n",
      "Accuracy after query 29: 0.9776\n",
      "3.326643156157064\n",
      "[[6.2e-02 1.8e+02 5.0e-03]] [0.08180235] float64 float64\n",
      "Accuracy after query 30: 0.9791\n",
      "3.1521669875025315\n",
      "[[7.47e-02 1.80e+02 5.00e-03]] [0.05958329] float64 float64\n"
     ]
    },
    {
     "name": "stderr",
     "output_type": "stream",
     "text": [
      "/home/hgandhi/.local/lib/python3.7/site-packages/sklearn/gaussian_process/kernels.py:409: ConvergenceWarning: The optimal value found for dimension 2 of parameter length_scale is close to the specified lower bound 1e-05. Decreasing the bound and calling fit again may find a better value.\n",
      "  ConvergenceWarning)\n"
     ]
    },
    {
     "name": "stdout",
     "output_type": "stream",
     "text": [
      "Accuracy after query 31: 0.9804\n",
      "4.4828529330382105\n",
      "[[0.005  1.     0.0083]] [10.378248] float64 float64\n",
      "Accuracy after query 32: 0.9812\n",
      "3.1312588486022785\n",
      "[[0.0113 1.     0.02  ]] [4.86071] float64 float64\n",
      "Accuracy after query 33: 0.9808\n",
      "2.9897735836622368\n",
      "[[0.043 1.    0.013]] [0.22097336] float64 float64\n",
      "Accuracy after query 34: 0.9819\n",
      "2.8164473188287524\n",
      "[[0.0746 1.     0.02  ]] [0.11416679] float64 float64\n",
      "Accuracy after query 35: 0.9829\n",
      "2.683900221713389\n",
      "[[3.67e-02 1.80e+02 1.10e-02]] [0.55527035] float64 float64\n",
      "Accuracy after query 36: 0.9837\n",
      "2.5875816654863373\n",
      "[[8.73e-02 1.80e+02 1.30e-02]] [0.16541054] float64 float64\n",
      "Accuracy after query 37: 0.9845\n",
      "2.520071162152648\n",
      "[[0.005 1.    0.02 ]] [24.93754] float64 float64\n",
      "Accuracy after query 38: 0.9901\n",
      "2.8730604799983035\n",
      "[[9.36e-02 1.80e+02 2.00e-02]] [0.26816858] float64 float64\n",
      "Accuracy after query 39: 0.9906\n",
      "2.5827905389786516\n",
      "[[0.0493 1.     0.012 ]] [0.15503133] float64 float64\n",
      "Accuracy after query 40: 0.9910\n",
      "2.463592410138967\n",
      "[[0.081 1.    0.02 ]] [0.09732112] float64 float64\n",
      "Accuracy after query 41: 0.9915\n",
      "2.3803250147277124\n",
      "[[2.61e-02 1.80e+02 1.17e-02]] [1.0708245] float64 float64\n",
      "Accuracy after query 42: 0.9917\n",
      "2.3315240580521417\n",
      "[[5.57e-02 1.80e+02 1.30e-02]] [0.34626952] float64 float64\n",
      "Accuracy after query 43: 0.9921\n",
      "2.2669676366115645\n",
      "[[0.0177 1.     0.02  ]] [2.006859] float64 float64\n",
      "Accuracy after query 44: 0.9921\n",
      "2.221757362283918\n",
      "[[6.83e-02 1.80e+02 1.30e-02]] [0.24598912] float64 float64\n",
      "Accuracy after query 45: 0.9925\n",
      "2.1748172891934145\n",
      "[[0.0937 1.     0.012 ]] [0.04330755] float64 float64\n",
      "Accuracy after query 46: 0.9928\n",
      "2.108515869952921\n",
      "[[8.1e-02 1.8e+02 6.0e-03]] [0.06603336] float64 float64\n",
      "Accuracy after query 47: 0.9931\n",
      "2.076946637589232\n",
      "[[0.062 1.    0.012]] [0.09836671] float64 float64\n",
      "Accuracy after query 48: 0.9934\n",
      "2.019689366447617\n",
      "[[4.30e-02 1.68e+02 5.00e-03]] [0.15092111] float64 float64\n",
      "Accuracy after query 49: 0.9937\n",
      "1.942431848641847\n",
      "[[4.30e-02 1.68e+02 2.00e-02]] [0.91967909] float64 float64\n",
      "Accuracy after query 50: 0.9938\n",
      "1.836500789957189\n",
      "[[0.1  1.   0.02]] [0.06394421] float64 float64\n",
      "Accuracy after query 51: 0.9941\n",
      "1.7228994449805617\n",
      "[[1.77e-02 1.80e+02 5.00e-03]] [0.76858414] float64 float64\n",
      "Accuracy after query 52: 0.9942\n",
      "1.6915353601157792\n",
      "[[0.0303 1.     0.014 ]] [0.47721555] float64 float64\n",
      "Accuracy after query 53: 0.9944\n",
      "1.6196877650304784\n",
      "[[0.0747 1.     0.011 ]] [0.06223522] float64 float64\n",
      "Accuracy after query 54: 0.9946\n",
      "1.6004434554995368\n",
      "[[1.56e-02 1.80e+02 2.00e-02]] [5.1933389] float64 float64\n",
      "Accuracy after query 55: 0.9944\n",
      "1.5831848434574023\n",
      "[[3.03e-02 1.80e+02 5.00e-03]] [0.28717414] float64 float64\n",
      "Accuracy after query 56: 0.9946\n",
      "1.5605815555781801\n",
      "[[1.0e-01 1.8e+02 1.1e-02]] [0.1048067] float64 float64\n",
      "Accuracy after query 57: 0.9948\n",
      "1.525226322744258\n",
      "[[0.0493 1.     0.02  ]] [0.26013949] float64 float64\n",
      "Accuracy after query 58: 0.9949\n",
      "1.4349424888821605\n",
      "[[8.72e-02 1.80e+02 2.00e-02]] [0.2990012] float64 float64\n",
      "Accuracy after query 59: 0.9951\n",
      "1.40965064113444\n",
      "[[0.0493 1.     0.005 ]] [0.06423145] float64 float64\n",
      "Accuracy after query 60: 0.9953\n",
      "1.386235330016683\n",
      "[[7.44e-02 1.80e+02 2.00e-02]] [0.39052612] float64 float64\n",
      "Accuracy after query 61: 0.9954\n",
      "1.3495612279311313\n",
      "[[5.78e-02 1.80e+02 5.00e-03]] [0.09217978] float64 float64\n",
      "Accuracy after query 62: 0.9955\n",
      "1.304034593532228\n",
      "[[5.78e-02 1.80e+02 2.00e-02]] [0.58552405] float64 float64\n",
      "Accuracy after query 63: 0.9956\n",
      "1.2924082745445549\n",
      "[[ 0.081 12.     0.012]] [0.06874423] float64 float64\n",
      "Accuracy after query 64: 0.9958\n",
      "64_3 done with accuracy 0.9957730049689895\n"
     ]
    },
    {
     "name": "stderr",
     "output_type": "stream",
     "text": [
      "/home/hgandhi/.local/lib/python3.7/site-packages/sklearn/gaussian_process/kernels.py:418: ConvergenceWarning: The optimal value found for dimension 1 of parameter length_scale is close to the specified upper bound 100000.0. Increasing the bound and calling fit again may find a better value.\n",
      "  ConvergenceWarning)\n"
     ]
    },
    {
     "name": "stdout",
     "output_type": "stream",
     "text": [
      "0.8681301548654894\n",
      "[[1.0e-01 1.8e+02 2.0e-02]] [0.24269174] float64 float64\n"
     ]
    },
    {
     "name": "stderr",
     "output_type": "stream",
     "text": [
      "/home/hgandhi/.local/lib/python3.7/site-packages/sklearn/gaussian_process/kernels.py:418: ConvergenceWarning: The optimal value found for dimension 1 of parameter length_scale is close to the specified upper bound 100000.0. Increasing the bound and calling fit again may find a better value.\n",
      "  ConvergenceWarning)\n"
     ]
    },
    {
     "name": "stdout",
     "output_type": "stream",
     "text": [
      "Accuracy after query 1: -31.1489\n",
      "0.6356812388635832\n",
      "[[0.043 1.    0.005]] [0.08449803] float64 float64\n"
     ]
    },
    {
     "name": "stderr",
     "output_type": "stream",
     "text": [
      "/home/hgandhi/.local/lib/python3.7/site-packages/sklearn/gaussian_process/kernels.py:418: ConvergenceWarning: The optimal value found for dimension 1 of parameter length_scale is close to the specified upper bound 100000.0. Increasing the bound and calling fit again may find a better value.\n",
      "  ConvergenceWarning)\n",
      "/home/hgandhi/.local/lib/python3.7/site-packages/sklearn/gaussian_process/kernels.py:418: ConvergenceWarning: The optimal value found for dimension 2 of parameter length_scale is close to the specified upper bound 100000.0. Increasing the bound and calling fit again may find a better value.\n",
      "  ConvergenceWarning)\n"
     ]
    },
    {
     "name": "stdout",
     "output_type": "stream",
     "text": [
      "Accuracy after query 2: -19.8379\n",
      "0.9894768200290395\n",
      "[[5.0e-03 1.8e+02 5.0e-03]] [8.3882479] float64 float64\n",
      "Accuracy after query 3: 0.9174\n",
      "1.9891666034206048\n",
      "[[0.1  1.   0.02]] [0.06394421] float64 float64\n",
      "Accuracy after query 4: 0.9427\n",
      "1.8732318474528926\n",
      "[[5.57e-02 1.68e+02 2.00e-02]] [0.60402099] float64 float64\n",
      "Accuracy after query 5: 0.9527\n",
      "1.3286797762512665\n",
      "[[2.61e-02 1.80e+02 5.00e-03]] [0.37650026] float64 float64\n",
      "Accuracy after query 6: 0.9613\n",
      "0.9650700913735873\n",
      "[[8.94e-02 1.80e+02 2.00e-02]] [0.28744725] float64 float64\n",
      "Accuracy after query 7: 0.9679\n",
      "2.538702655693775\n",
      "[[0.0113 1.     0.005 ]] [1.2123661] float64 float64\n",
      "Accuracy after query 8: 0.9685\n",
      "2.419643251108716\n",
      "[[0.062 1.    0.005]] [0.04071408] float64 float64\n",
      "Accuracy after query 9: 0.9740\n",
      "2.3409238266762746\n",
      "[[3.67e-02 1.80e+02 2.00e-02]] [1.2343909] float64 float64\n",
      "Accuracy after query 10: 0.9741\n",
      "2.244607621137757\n",
      "[[4.93e-02 1.80e+02 5.00e-03]] [0.12138131] float64 float64\n",
      "Accuracy after query 11: 0.9776\n",
      "2.191366945975008\n",
      "[[0.0937 1.     0.006 ]] [0.0214931] float64 float64\n"
     ]
    },
    {
     "name": "stderr",
     "output_type": "stream",
     "text": [
      "/home/hgandhi/.local/lib/python3.7/site-packages/sklearn/gaussian_process/kernels.py:418: ConvergenceWarning: The optimal value found for dimension 2 of parameter length_scale is close to the specified upper bound 100000.0. Increasing the bound and calling fit again may find a better value.\n",
      "  ConvergenceWarning)\n"
     ]
    },
    {
     "name": "stdout",
     "output_type": "stream",
     "text": [
      "Accuracy after query 12: 0.9808\n",
      "1.5702208083466374\n",
      "[[0.0261 1.     0.02  ]] [0.9214029] float64 float64\n",
      "Accuracy after query 13: 0.9812\n",
      "2.017835859256752\n",
      "[[6.83e-02 1.80e+02 2.00e-02]] [0.44351932] float64 float64\n",
      "Accuracy after query 14: 0.9825\n",
      "1.3366823825786684\n",
      "[[0.0789 1.     0.02  ]] [0.10229661] float64 float64\n",
      "Accuracy after query 15: 0.9844\n",
      "1.8076438327804532\n",
      "[[0.0304 1.     0.02  ]] [0.68240659] float64 float64\n",
      "Accuracy after query 16: 0.9849\n",
      "1.1679715449643733\n",
      "[[5.e-03 8.e+01 2.e-02]] [32.896909] float64 float64\n",
      "Accuracy after query 17: 0.9936\n",
      "7.20411886764886\n",
      "[[5.0e-03 3.6e+01 5.0e-03]] [6.6359936] float64 float64\n",
      "Accuracy after query 18: 0.9927\n",
      "7.08365602686172\n",
      "[[5.0e-03 1.2e+01 5.0e-03]] [6.3485633] float64 float64\n",
      "Accuracy after query 19: 0.9919\n",
      "6.960988975059102\n",
      "[[5.0e-03 1.4e+02 5.0e-03]] [7.9109987] float64 float64\n",
      "Accuracy after query 20: 0.9909\n",
      "6.883483194348192\n",
      "[[5.e-03 2.e+01 5.e-03]] [6.4418107] float64 float64\n",
      "Accuracy after query 21: 0.9901\n",
      "6.770733639923001\n",
      "[[0.0113 1.     0.007 ]] [1.6981139] float64 float64\n",
      "Accuracy after query 22: 0.9905\n",
      "4.314265777656585\n",
      "[[1.0e-01 1.8e+02 5.0e-03]] [0.03644257] float64 float64\n",
      "Accuracy after query 23: 0.9913\n",
      "4.104788709825415\n",
      "[[0.0472 1.     0.015 ]] [0.21185507] float64 float64\n",
      "Accuracy after query 24: 0.9920\n",
      "3.5918111158002444\n",
      "[[3.67e-02 1.80e+02 1.10e-02]] [0.55527035] float64 float64\n"
     ]
    },
    {
     "name": "stderr",
     "output_type": "stream",
     "text": [
      "/home/hgandhi/.local/lib/python3.7/site-packages/sklearn/gaussian_process/_gpr.py:506: ConvergenceWarning: lbfgs failed to converge (status=2):\n",
      "ABNORMAL_TERMINATION_IN_LNSRCH.\n",
      "\n",
      "Increase the number of iterations (max_iter) or scale the data as shown in:\n",
      "    https://scikit-learn.org/stable/modules/preprocessing.html\n",
      "  _check_optimize_result(\"lbfgs\", opt_res)\n"
     ]
    },
    {
     "name": "stdout",
     "output_type": "stream",
     "text": [
      "Accuracy after query 25: 0.9925\n",
      "3.2822378851411758\n",
      "[[8.73e-02 1.80e+02 1.10e-02]] [0.1320168] float64 float64\n",
      "Accuracy after query 26: 0.9930\n",
      "6.251772435099322\n",
      "[[0.0156 1.     0.005 ]] [0.64454992] float64 float64\n",
      "Accuracy after query 27: 0.9934\n",
      "6.158884392968665\n",
      "[[1.0e-01 4.8e+01 1.5e-02]] [0.11660526] float64 float64\n",
      "Accuracy after query 28: 0.9938\n",
      "6.0763730321639695\n",
      "[[5.00e-03 1.56e+02 5.00e-03]] [8.1101214] float64 float64\n"
     ]
    },
    {
     "name": "stderr",
     "output_type": "stream",
     "text": [
      "/home/hgandhi/.local/lib/python3.7/site-packages/sklearn/gaussian_process/_gpr.py:506: ConvergenceWarning: lbfgs failed to converge (status=2):\n",
      "ABNORMAL_TERMINATION_IN_LNSRCH.\n",
      "\n",
      "Increase the number of iterations (max_iter) or scale the data as shown in:\n",
      "    https://scikit-learn.org/stable/modules/preprocessing.html\n",
      "  _check_optimize_result(\"lbfgs\", opt_res)\n"
     ]
    },
    {
     "name": "stdout",
     "output_type": "stream",
     "text": [
      "Accuracy after query 29: 0.9932\n",
      "6.055699565478796\n",
      "[[5.78e-02 2.00e+01 5.00e-03]] [0.05381875] float64 float64\n"
     ]
    },
    {
     "name": "stderr",
     "output_type": "stream",
     "text": [
      "/home/hgandhi/.local/lib/python3.7/site-packages/sklearn/gaussian_process/kernels.py:409: ConvergenceWarning: The optimal value found for dimension 2 of parameter length_scale is close to the specified lower bound 1e-05. Decreasing the bound and calling fit again may find a better value.\n",
      "  ConvergenceWarning)\n"
     ]
    },
    {
     "name": "stdout",
     "output_type": "stream",
     "text": [
      "Accuracy after query 30: 0.9936\n",
      "5.982053425952099\n",
      "[[0.005  1.     0.0067]] [8.3015823] float64 float64\n",
      "Accuracy after query 31: 0.9930\n",
      "5.967989124975766\n",
      "[[0.024 1.    0.005]] [0.27070681] float64 float64\n"
     ]
    },
    {
     "name": "stderr",
     "output_type": "stream",
     "text": [
      "/home/hgandhi/.local/lib/python3.7/site-packages/sklearn/gaussian_process/_gpr.py:506: ConvergenceWarning: lbfgs failed to converge (status=2):\n",
      "ABNORMAL_TERMINATION_IN_LNSRCH.\n",
      "\n",
      "Increase the number of iterations (max_iter) or scale the data as shown in:\n",
      "    https://scikit-learn.org/stable/modules/preprocessing.html\n",
      "  _check_optimize_result(\"lbfgs\", opt_res)\n"
     ]
    },
    {
     "name": "stdout",
     "output_type": "stream",
     "text": [
      "Accuracy after query 32: 0.9934\n",
      "5.8983914652693725\n",
      "[[0.081 1.    0.005]] [0.0238934] float64 float64\n",
      "Accuracy after query 33: 0.9938\n",
      "2.5664437097578894\n",
      "[[0.062 1.    0.014]] [0.11495101] float64 float64\n",
      "Accuracy after query 34: 0.9942\n",
      "2.3060205152717113\n",
      "[[2.4e-02 1.8e+02 1.3e-02]] [1.4220111] float64 float64\n"
     ]
    },
    {
     "name": "stderr",
     "output_type": "stream",
     "text": [
      "/home/hgandhi/.local/lib/python3.7/site-packages/sklearn/gaussian_process/_gpr.py:506: ConvergenceWarning: lbfgs failed to converge (status=2):\n",
      "ABNORMAL_TERMINATION_IN_LNSRCH.\n",
      "\n",
      "Increase the number of iterations (max_iter) or scale the data as shown in:\n",
      "    https://scikit-learn.org/stable/modules/preprocessing.html\n",
      "  _check_optimize_result(\"lbfgs\", opt_res)\n"
     ]
    },
    {
     "name": "stdout",
     "output_type": "stream",
     "text": [
      "Accuracy after query 35: 0.9943\n",
      "2.1751732804876864\n",
      "[[6.83e-02 1.80e+02 5.00e-03]] [0.0692739] float64 float64\n",
      "Accuracy after query 36: 0.9946\n",
      "2.0430440978133735\n",
      "[[0.043 1.    0.02 ]] [0.34107169] float64 float64\n"
     ]
    },
    {
     "name": "stderr",
     "output_type": "stream",
     "text": [
      "/home/hgandhi/.local/lib/python3.7/site-packages/sklearn/gaussian_process/kernels.py:409: ConvergenceWarning: The optimal value found for dimension 2 of parameter length_scale is close to the specified lower bound 1e-05. Decreasing the bound and calling fit again may find a better value.\n",
      "  ConvergenceWarning)\n"
     ]
    },
    {
     "name": "stdout",
     "output_type": "stream",
     "text": [
      "Accuracy after query 37: 0.9949\n",
      "5.578744846440881\n",
      "[[0.005 1.    0.008]] [9.9628509] float64 float64\n"
     ]
    },
    {
     "name": "stderr",
     "output_type": "stream",
     "text": [
      "/home/hgandhi/.local/lib/python3.7/site-packages/sklearn/gaussian_process/_gpr.py:506: ConvergenceWarning: lbfgs failed to converge (status=2):\n",
      "ABNORMAL_TERMINATION_IN_LNSRCH.\n",
      "\n",
      "Increase the number of iterations (max_iter) or scale the data as shown in:\n",
      "    https://scikit-learn.org/stable/modules/preprocessing.html\n",
      "  _check_optimize_result(\"lbfgs\", opt_res)\n"
     ]
    },
    {
     "name": "stdout",
     "output_type": "stream",
     "text": [
      "Accuracy after query 38: 0.9943\n",
      "1.9264992254462405\n",
      "[[1.13e-02 1.68e+02 1.60e-02]] [6.6875502] float64 float64\n",
      "Accuracy after query 39: 0.9940\n",
      "2.400535073706148\n",
      "[[0.0303 1.     0.005 ]] [0.16958597] float64 float64\n",
      "Accuracy after query 40: 0.9943\n",
      "2.2601633993288903\n",
      "[[0.0937 1.     0.02  ]] [0.07279829] float64 float64\n",
      "Accuracy after query 41: 0.9946\n",
      "2.117198089729613\n",
      "[[7.44e-02 1.80e+02 2.00e-02]] [0.39052612] float64 float64\n"
     ]
    },
    {
     "name": "stderr",
     "output_type": "stream",
     "text": [
      "/home/hgandhi/.local/lib/python3.7/site-packages/sklearn/gaussian_process/_gpr.py:506: ConvergenceWarning: lbfgs failed to converge (status=2):\n",
      "ABNORMAL_TERMINATION_IN_LNSRCH.\n",
      "\n",
      "Increase the number of iterations (max_iter) or scale the data as shown in:\n",
      "    https://scikit-learn.org/stable/modules/preprocessing.html\n",
      "  _check_optimize_result(\"lbfgs\", opt_res)\n"
     ]
    },
    {
     "name": "stdout",
     "output_type": "stream",
     "text": [
      "Accuracy after query 42: 0.9948\n",
      "2.0453525568663165\n",
      "[[4.93e-02 1.68e+02 2.00e-02]] [0.73940751] float64 float64\n",
      "Accuracy after query 43: 0.9950\n",
      "1.958090755904475\n",
      "[[8.73e-02 1.80e+02 5.00e-03]] [0.04561009] float64 float64\n",
      "Accuracy after query 44: 0.9952\n",
      "1.9045425090875043\n",
      "[[5.57e-02 1.80e+02 1.20e-02]] [0.3110786] float64 float64\n",
      "Accuracy after query 45: 0.9954\n",
      "1.8607172008405335\n",
      "[[0.0367 1.     0.005 ]] [0.11627406] float64 float64\n",
      "Accuracy after query 46: 0.9956\n",
      "1.8162778289204569\n",
      "[[6.20e-02 1.68e+02 2.00e-02]] [0.50562035] float64 float64\n",
      "Accuracy after query 47: 0.9957\n",
      "1.770076064522147\n",
      "[[8.1e-02 1.8e+02 1.3e-02]] [0.1855183] float64 float64\n",
      "Accuracy after query 48: 0.9959\n",
      "1.6683242236795501\n",
      "[[1.77e-02 1.80e+02 1.20e-02]] [2.1871612] float64 float64\n",
      "Accuracy after query 49: 0.9959\n",
      "1.6224425907150752\n",
      "[[0.0683 1.     0.012 ]] [0.08106009] float64 float64\n"
     ]
    },
    {
     "name": "stderr",
     "output_type": "stream",
     "text": [
      "/home/hgandhi/.local/lib/python3.7/site-packages/sklearn/gaussian_process/_gpr.py:506: ConvergenceWarning: lbfgs failed to converge (status=2):\n",
      "ABNORMAL_TERMINATION_IN_LNSRCH.\n",
      "\n",
      "Increase the number of iterations (max_iter) or scale the data as shown in:\n",
      "    https://scikit-learn.org/stable/modules/preprocessing.html\n",
      "  _check_optimize_result(\"lbfgs\", opt_res)\n"
     ]
    },
    {
     "name": "stdout",
     "output_type": "stream",
     "text": [
      "Accuracy after query 50: 0.9961\n",
      "1.5485454572829918\n",
      "[[3.03e-02 1.80e+02 1.30e-02]] [0.95221411] float64 float64\n",
      "Accuracy after query 51: 0.9962\n",
      "1.474678737699211\n",
      "[[4.3e-02 1.8e+02 1.2e-02]] [0.47663178] float64 float64\n",
      "Accuracy after query 52: 0.9963\n",
      "1.4393802707686756\n",
      "[[9.37e-02 1.68e+02 1.30e-02]] [0.14191486] float64 float64\n",
      "Accuracy after query 53: 0.9964\n",
      "1.3326583540912067\n",
      "[[0.0113 1.     0.02  ]] [4.86071] float64 float64\n",
      "Accuracy after query 54: 0.9963\n",
      "1.7185243519437428\n",
      "[[0.0873 1.     0.02  ]] [0.08364167] float64 float64\n",
      "Accuracy after query 55: 0.9964\n",
      "4.891446920038141\n",
      "[[8.08e-02 1.44e+02 1.50e-02]] [0.21027027] float64 float64\n"
     ]
    },
    {
     "name": "stderr",
     "output_type": "stream",
     "text": [
      "/home/hgandhi/.local/lib/python3.7/site-packages/sklearn/gaussian_process/_gpr.py:506: ConvergenceWarning: lbfgs failed to converge (status=2):\n",
      "ABNORMAL_TERMINATION_IN_LNSRCH.\n",
      "\n",
      "Increase the number of iterations (max_iter) or scale the data as shown in:\n",
      "    https://scikit-learn.org/stable/modules/preprocessing.html\n",
      "  _check_optimize_result(\"lbfgs\", opt_res)\n"
     ]
    },
    {
     "name": "stdout",
     "output_type": "stream",
     "text": [
      "Accuracy after query 56: 0.9966\n",
      "1.5344525812095406\n",
      "[[0.0894 1.     0.005 ]] [0.01960826] float64 float64\n",
      "Accuracy after query 57: 0.9967\n",
      "1.475262580540921\n",
      "[[0.0578 1.     0.0167]] [0.15778209] float64 float64\n",
      "Accuracy after query 58: 0.9968\n",
      "1.4268024193610815\n",
      "[[0.0156 1.     0.015 ]] [1.9400723] float64 float64\n"
     ]
    },
    {
     "name": "stderr",
     "output_type": "stream",
     "text": [
      "/home/hgandhi/.local/lib/python3.7/site-packages/sklearn/gaussian_process/_gpr.py:506: ConvergenceWarning: lbfgs failed to converge (status=2):\n",
      "ABNORMAL_TERMINATION_IN_LNSRCH.\n",
      "\n",
      "Increase the number of iterations (max_iter) or scale the data as shown in:\n",
      "    https://scikit-learn.org/stable/modules/preprocessing.html\n",
      "  _check_optimize_result(\"lbfgs\", opt_res)\n"
     ]
    },
    {
     "name": "stdout",
     "output_type": "stream",
     "text": [
      "Accuracy after query 59: 0.9968\n",
      "1.35994642553343\n",
      "[[2.40e-02 1.68e+02 2.00e-02]] [2.4188154] float64 float64\n",
      "Accuracy after query 60: 0.9968\n",
      "1.3406995621153377\n",
      "[[0.0747 1.     0.005 ]] [0.02810256] float64 float64\n",
      "Accuracy after query 61: 0.9969\n",
      "1.3156388740144864\n",
      "[[0.0472 1.     0.005 ]] [0.07008886] float64 float64\n",
      "Accuracy after query 62: 0.9970\n",
      "1.2807826590363305\n",
      "[[1.77e-02 1.80e+02 5.00e-03]] [0.76858414] float64 float64\n"
     ]
    },
    {
     "name": "stderr",
     "output_type": "stream",
     "text": [
      "/home/hgandhi/.local/lib/python3.7/site-packages/sklearn/gaussian_process/_gpr.py:506: ConvergenceWarning: lbfgs failed to converge (status=2):\n",
      "ABNORMAL_TERMINATION_IN_LNSRCH.\n",
      "\n",
      "Increase the number of iterations (max_iter) or scale the data as shown in:\n",
      "    https://scikit-learn.org/stable/modules/preprocessing.html\n",
      "  _check_optimize_result(\"lbfgs\", opt_res)\n"
     ]
    },
    {
     "name": "stdout",
     "output_type": "stream",
     "text": [
      "Accuracy after query 63: 0.9970\n",
      "1.2526281434160889\n",
      "[[5.57e-02 1.80e+02 5.00e-03]] [0.09846187] float64 float64\n",
      "Accuracy after query 64: 0.9971\n",
      "64_4 done with accuracy 0.9971388294077594\n",
      "0.05497579345440191\n",
      "[[0.1   1.    0.005]] [0.01569931] float64 float64\n"
     ]
    },
    {
     "name": "stderr",
     "output_type": "stream",
     "text": [
      "/home/hgandhi/.local/lib/python3.7/site-packages/sklearn/gaussian_process/kernels.py:418: ConvergenceWarning: The optimal value found for dimension 1 of parameter length_scale is close to the specified upper bound 100000.0. Increasing the bound and calling fit again may find a better value.\n",
      "  ConvergenceWarning)\n"
     ]
    },
    {
     "name": "stdout",
     "output_type": "stream",
     "text": [
      "Accuracy after query 1: -314.6475\n",
      "0.11744300501877918\n",
      "[[0.005 1.    0.02 ]] [24.93754] float64 float64\n"
     ]
    },
    {
     "name": "stderr",
     "output_type": "stream",
     "text": [
      "/home/hgandhi/.local/lib/python3.7/site-packages/sklearn/gaussian_process/kernels.py:418: ConvergenceWarning: The optimal value found for dimension 1 of parameter length_scale is close to the specified upper bound 100000.0. Increasing the bound and calling fit again may find a better value.\n",
      "  ConvergenceWarning)\n",
      "/home/hgandhi/.local/lib/python3.7/site-packages/sklearn/gaussian_process/kernels.py:418: ConvergenceWarning: The optimal value found for dimension 1 of parameter length_scale is close to the specified upper bound 100000.0. Increasing the bound and calling fit again may find a better value.\n",
      "  ConvergenceWarning)\n"
     ]
    },
    {
     "name": "stdout",
     "output_type": "stream",
     "text": [
      "Accuracy after query 2: 0.9361\n",
      "4.694131874110025\n",
      "[[2.4e-02 1.8e+02 5.0e-03]] [0.43876606] float64 float64\n",
      "Accuracy after query 3: 0.9587\n",
      "8.351354514802763\n",
      "[[7.44e-02 1.20e+02 2.00e-02]] [0.34668055] float64 float64\n",
      "Accuracy after query 4: 0.9707\n",
      "8.635468307293978\n",
      "[[0.0113 1.     0.006 ]] [1.4551755] float64 float64\n",
      "Accuracy after query 5: 0.9756\n",
      "7.633079087654931\n",
      "[[5.0e-03 8.4e+01 5.0e-03]] [7.2352015] float64 float64\n",
      "Accuracy after query 6: 0.9698\n",
      "7.4543462636553794\n",
      "[[5.0e-03 1.8e+02 2.0e-02]] [39.169213] float64 float64\n",
      "Accuracy after query 7: 0.9639\n",
      "7.712954175428597\n",
      "[[1.0e-01 1.8e+02 1.0e-02]] [0.09187539] float64 float64\n",
      "Accuracy after query 8: 0.9715\n",
      "11.28240449565515\n",
      "[[1.0e-01 1.2e+02 1.1e-02]] [0.09176659] float64 float64\n",
      "Accuracy after query 9: 0.9768\n",
      "12.068950888218799\n",
      "[[0.0156 1.     0.005 ]] [0.64454992] float64 float64\n",
      "Accuracy after query 10: 0.9804\n",
      "6.186646041919303\n",
      "[[3.67e-02 1.80e+02 2.00e-02]] [1.2343909] float64 float64\n",
      "Accuracy after query 11: 0.9828\n",
      "8.161147685968766\n",
      "[[0.0747 1.     0.005 ]] [0.02810256] float64 float64\n"
     ]
    },
    {
     "name": "stderr",
     "output_type": "stream",
     "text": [
      "/home/hgandhi/.local/lib/python3.7/site-packages/sklearn/gaussian_process/kernels.py:409: ConvergenceWarning: The optimal value found for dimension 0 of parameter length_scale is close to the specified lower bound 1e-05. Decreasing the bound and calling fit again may find a better value.\n",
      "  ConvergenceWarning)\n"
     ]
    },
    {
     "name": "stdout",
     "output_type": "stream",
     "text": [
      "Accuracy after query 12: 0.9853\n",
      "11.025111363926655\n",
      "[[0.0177 1.     0.005 ]] [0.49982412] float64 float64\n"
     ]
    },
    {
     "name": "stderr",
     "output_type": "stream",
     "text": [
      "/home/hgandhi/.local/lib/python3.7/site-packages/sklearn/gaussian_process/kernels.py:409: ConvergenceWarning: The optimal value found for dimension 0 of parameter length_scale is close to the specified lower bound 1e-05. Decreasing the bound and calling fit again may find a better value.\n",
      "  ConvergenceWarning)\n"
     ]
    },
    {
     "name": "stdout",
     "output_type": "stream",
     "text": [
      "Accuracy after query 13: 0.9871\n",
      "10.73287437889937\n",
      "[[0.0303 1.     0.005 ]] [0.16958597] float64 float64\n",
      "Accuracy after query 14: 0.9887\n",
      "5.461966513807525\n",
      "[[0.0557 1.     0.02  ]] [0.20438557] float64 float64\n"
     ]
    },
    {
     "name": "stderr",
     "output_type": "stream",
     "text": [
      "/home/hgandhi/.local/lib/python3.7/site-packages/sklearn/gaussian_process/kernels.py:409: ConvergenceWarning: The optimal value found for dimension 0 of parameter length_scale is close to the specified lower bound 1e-05. Decreasing the bound and calling fit again may find a better value.\n",
      "  ConvergenceWarning)\n"
     ]
    },
    {
     "name": "stdout",
     "output_type": "stream",
     "text": [
      "Accuracy after query 15: 0.9900\n",
      "10.222826483064747\n",
      "[[0.0472 1.     0.005 ]] [0.07008886] float64 float64\n",
      "Accuracy after query 16: 0.9911\n",
      "4.858245911025779\n",
      "[[0.0261 1.     0.02  ]] [0.9214029] float64 float64\n",
      "Accuracy after query 17: 0.9918\n",
      "4.920712787275307\n",
      "[[7.89e-02 1.80e+02 5.00e-03]] [0.0542843] float64 float64\n",
      "Accuracy after query 18: 0.9927\n",
      "4.193855504096002\n",
      "[[0.081 1.    0.015]] [0.07247366] float64 float64\n",
      "Accuracy after query 19: 0.9933\n",
      "3.9614012456499323\n",
      "[[5.78e-02 1.80e+02 2.00e-02]] [0.58552405] float64 float64\n",
      "Accuracy after query 20: 0.9939\n",
      "3.836848452281868\n",
      "[[1.77e-02 1.80e+02 1.40e-02]] [2.6520951] float64 float64\n",
      "Accuracy after query 21: 0.9940\n",
      "4.75752277278555\n",
      "[[0.0873 1.     0.005 ]] [0.02059181] float64 float64\n",
      "Accuracy after query 22: 0.9945\n",
      "4.448845481826159\n",
      "[[3.67e-02 1.80e+02 5.00e-03]] [0.20449601] float64 float64\n",
      "Accuracy after query 23: 0.9949\n",
      "4.246303293108755\n",
      "[[0.062 1.    0.012]] [0.09836671] float64 float64\n",
      "Accuracy after query 24: 0.9953\n",
      "4.113344502612436\n",
      "[[0.1  1.   0.02]] [0.06394421] float64 float64\n",
      "Accuracy after query 25: 0.9956\n",
      "3.6638781023110054\n",
      "[[5.0e-03 1.8e+02 1.2e-02]] [21.77419] float64 float64\n",
      "Accuracy after query 26: 0.9944\n",
      "3.5606120810381183\n",
      "[[6.83e-02 1.80e+02 5.00e-03]] [0.0692739] float64 float64\n",
      "Accuracy after query 27: 0.9948\n",
      "3.240095134823012\n",
      "[[8.73e-02 1.80e+02 1.30e-02]] [0.16541054] float64 float64\n",
      "Accuracy after query 28: 0.9952\n",
      "3.0898861158412183\n",
      "[[1.0e-01 1.8e+02 2.0e-02]] [0.24269174] float64 float64\n",
      "Accuracy after query 29: 0.9955\n",
      "3.016543459992012\n",
      "[[0.0156 1.     0.02  ]] [2.5905974] float64 float64\n",
      "Accuracy after query 30: 0.9955\n",
      "3.62266662513059\n",
      "[[4.72e-02 1.80e+02 2.00e-02]] [0.80838956] float64 float64\n",
      "Accuracy after query 31: 0.9957\n",
      "3.3148527247576727\n",
      "[[0.0683 1.     0.02  ]] [0.13615129] float64 float64\n",
      "Accuracy after query 32: 0.9960\n",
      "3.0421443072938827\n",
      "[[2.61e-02 1.80e+02 2.00e-02]] [2.1691781] float64 float64\n",
      "Accuracy after query 33: 0.9960\n",
      "2.963533511261201\n",
      "[[0.062 1.    0.005]] [0.04071408] float64 float64\n",
      "Accuracy after query 34: 0.9963\n",
      "2.904836544462479\n",
      "[[9.37e-02 1.80e+02 5.00e-03]] [0.04065784] float64 float64\n",
      "Accuracy after query 35: 0.9965\n",
      "2.7621894332173\n",
      "[[0.0367 1.     0.02  ]] [0.46941925] float64 float64\n",
      "Accuracy after query 36: 0.9966\n",
      "2.711110992658178\n",
      "[[1.13e-02 1.80e+02 5.00e-03]] [1.7531244] float64 float64\n",
      "Accuracy after query 37: 0.9967\n",
      "2.6806181638828206\n",
      "[[0.0873 1.     0.02  ]] [0.08364167] float64 float64\n",
      "Accuracy after query 38: 0.9969\n",
      "2.6277391834094184\n",
      "[[4.72e-02 1.80e+02 5.00e-03]] [0.13099462] float64 float64\n",
      "Accuracy after query 39: 0.9970\n",
      "2.560327146241774\n",
      "[[3.03e-02 1.80e+02 1.20e-02]] [0.85786399] float64 float64\n",
      "Accuracy after query 40: 0.9971\n",
      "2.50228863991757\n",
      "[[6.8e-02 1.8e+02 1.5e-02]] [0.30014975] float64 float64\n"
     ]
    },
    {
     "name": "stderr",
     "output_type": "stream",
     "text": [
      "/home/hgandhi/.local/lib/python3.7/site-packages/sklearn/gaussian_process/_gpr.py:506: ConvergenceWarning: lbfgs failed to converge (status=2):\n",
      "ABNORMAL_TERMINATION_IN_LNSRCH.\n",
      "\n",
      "Increase the number of iterations (max_iter) or scale the data as shown in:\n",
      "    https://scikit-learn.org/stable/modules/preprocessing.html\n",
      "  _check_optimize_result(\"lbfgs\", opt_res)\n"
     ]
    },
    {
     "name": "stdout",
     "output_type": "stream",
     "text": [
      "Accuracy after query 41: 0.9972\n",
      "2.3745896112106957\n",
      "[[8.08e-02 1.80e+02 2.00e-02]] [0.33698133] float64 float64\n",
      "Accuracy after query 42: 0.9973\n",
      "2.1786119232020824\n",
      "[[0.0937 1.     0.012 ]] [0.04330755] float64 float64\n",
      "Accuracy after query 43: 0.9975\n",
      "2.111613850367248\n",
      "[[0.024 1.    0.012]] [0.65185166] float64 float64\n",
      "Accuracy after query 44: 0.9975\n",
      "2.093792104446238\n",
      "[[0.0472 1.     0.02  ]] [0.28335989] float64 float64\n",
      "Accuracy after query 45: 0.9976\n",
      "2.0000059959154517\n",
      "[[1.13e-02 1.68e+02 2.00e-02]] [8.7890988] float64 float64\n",
      "Accuracy after query 46: 0.9974\n",
      "2.9325990992848494\n",
      "[[0.0557 1.     0.005 ]] [0.05047662] float64 float64\n",
      "Accuracy after query 47: 0.9975\n",
      "2.813993962813158\n",
      "[[0.0367 1.     0.005 ]] [0.11627406] float64 float64\n",
      "Accuracy after query 48: 0.9976\n",
      "2.7613415114935362\n",
      "[[0.0304 1.     0.02  ]] [0.68240659] float64 float64\n",
      "Accuracy after query 49: 0.9977\n",
      "2.6782485357838994\n",
      "[[6.20e-02 1.68e+02 2.00e-02]] [0.50562035] float64 float64\n",
      "Accuracy after query 50: 0.9978\n",
      "2.599990948329419\n",
      "[[6.2e-02 1.8e+02 5.0e-03]] [0.08180235] float64 float64\n",
      "Accuracy after query 51: 0.9978\n",
      "2.5368345307568037\n",
      "[[4.30e-02 1.68e+02 5.00e-03]] [0.15092111] float64 float64\n",
      "Accuracy after query 52: 0.9979\n",
      "2.4707477784074388\n",
      "[[0.081 1.    0.005]] [0.0238934] float64 float64\n",
      "Accuracy after query 53: 0.9980\n",
      "2.4021833545190088\n",
      "[[0.0683 1.     0.005 ]] [0.03353529] float64 float64\n",
      "Accuracy after query 54: 0.9981\n",
      "2.280042474898958\n",
      "[[7.47e-02 1.80e+02 1.10e-02]] [0.16995812] float64 float64\n",
      "Accuracy after query 55: 0.9981\n",
      "2.2003932097961547\n",
      "[[0.0493 1.     0.013 ]] [0.16807081] float64 float64\n",
      "Accuracy after query 56: 0.9982\n",
      "2.1337915615319636\n",
      "[[4.30e-02 1.68e+02 2.00e-02]] [0.91967909] float64 float64\n",
      "Accuracy after query 57: 0.9982\n",
      "2.0731472450695443\n",
      "[[8.73e-02 1.80e+02 5.00e-03]] [0.04561009] float64 float64\n",
      "Accuracy after query 58: 0.9983\n",
      "2.029408408020087\n",
      "[[1.77e-02 1.80e+02 5.00e-03]] [0.76858414] float64 float64\n",
      "Accuracy after query 59: 0.9983\n",
      "2.0000566502013477\n",
      "[[0.0113 1.     0.015 ]] [3.6458719] float64 float64\n",
      "Accuracy after query 60: 0.9983\n",
      "1.9357735558770057\n",
      "[[8.94e-02 1.80e+02 2.00e-02]] [0.28744725] float64 float64\n",
      "Accuracy after query 61: 0.9983\n",
      "1.8640194505061136\n",
      "[[0.0789 1.     0.02  ]] [0.10229661] float64 float64\n",
      "Accuracy after query 62: 0.9984\n",
      "1.7869369442785379\n",
      "[[0.062 1.    0.02 ]] [0.16509029] float64 float64\n",
      "Accuracy after query 63: 0.9984\n",
      "1.7520201124743637\n",
      "[[0.0747 1.     0.014 ]] [0.07943553] float64 float64\n",
      "Accuracy after query 64: 0.9985\n",
      "64_5 done with accuracy 0.998476941102278\n",
      "6.854223917478243\n",
      "[[1.0e-01 1.8e+02 2.0e-02]] [0.24269174] float64 float64\n",
      "Accuracy after query 1: -454.6576\n",
      "6.163723444732869\n",
      "[[5.0e-03 1.4e+02 5.0e-03]] [7.9109987] float64 float64\n",
      "Accuracy after query 2: 0.6138\n",
      "4.628684628027518\n",
      "[[1.0e-01 7.2e+01 1.5e-02]] [0.14412578] float64 float64\n"
     ]
    },
    {
     "name": "stderr",
     "output_type": "stream",
     "text": [
      "/home/hgandhi/.local/lib/python3.7/site-packages/sklearn/gaussian_process/kernels.py:418: ConvergenceWarning: The optimal value found for dimension 1 of parameter length_scale is close to the specified upper bound 100000.0. Increasing the bound and calling fit again may find a better value.\n",
      "  ConvergenceWarning)\n"
     ]
    },
    {
     "name": "stdout",
     "output_type": "stream",
     "text": [
      "Accuracy after query 3: 0.5966\n",
      "5.695090704512857\n",
      "[[0.0113 1.     0.005 ]] [1.2123661] float64 float64\n",
      "Accuracy after query 4: 0.6792\n",
      "4.885660141529125\n",
      "[[4.3e-02 1.8e+02 1.5e-02]] [0.64255309] float64 float64\n",
      "Accuracy after query 5: 0.8637\n",
      "5.142762528143989\n",
      "[[1.0e-01 1.2e+02 2.0e-02]] [0.21518953] float64 float64\n",
      "Accuracy after query 6: 0.8068\n",
      "4.954281199979194\n",
      "[[0.0156 1.     0.005 ]] [0.64454992] float64 float64\n",
      "Accuracy after query 7: 0.8381\n",
      "4.756699101953298\n",
      "[[5.78e-02 2.00e+01 5.00e-03]] [0.05381875] float64 float64\n"
     ]
    },
    {
     "name": "stderr",
     "output_type": "stream",
     "text": [
      "/home/hgandhi/.local/lib/python3.7/site-packages/sklearn/gaussian_process/kernels.py:409: ConvergenceWarning: The optimal value found for dimension 0 of parameter length_scale is close to the specified lower bound 1e-05. Decreasing the bound and calling fit again may find a better value.\n",
      "  ConvergenceWarning)\n"
     ]
    },
    {
     "name": "stdout",
     "output_type": "stream",
     "text": [
      "Accuracy after query 8: 0.8698\n",
      "4.605542471085069\n",
      "[[0.0177 1.     0.005 ]] [0.49982412] float64 float64\n",
      "Accuracy after query 9: 0.8878\n",
      "3.2361649364521514\n",
      "[[0.1  1.   0.02]] [0.06394421] float64 float64\n",
      "Accuracy after query 10: 0.9059\n",
      "2.572251352842988\n",
      "[[5.57e-02 1.08e+02 5.00e-03]] [0.08766034] float64 float64\n",
      "Accuracy after query 11: 0.9197\n",
      "4.197626423315684\n",
      "[[0.024 1.    0.005]] [0.27070681] float64 float64\n",
      "Accuracy after query 12: 0.9293\n",
      "2.5924948232816387\n",
      "[[5.0e-03 1.8e+02 2.0e-02]] [39.169213] float64 float64\n",
      "Accuracy after query 13: 0.9870\n",
      "9.835577742182359\n",
      "[[0.0113 1.     0.006 ]] [1.4551755] float64 float64\n",
      "Accuracy after query 14: 0.9880\n",
      "9.425458664437333\n",
      "[[1.0e-01 1.8e+02 1.0e-02]] [0.09187539] float64 float64\n",
      "Accuracy after query 15: 0.9894\n",
      "8.92049748315313\n",
      "[[0.0557 1.     0.02  ]] [0.20438557] float64 float64\n",
      "Accuracy after query 16: 0.9905\n",
      "8.559738907042982\n",
      "[[0.0557 1.     0.01  ]] [0.10141411] float64 float64\n"
     ]
    },
    {
     "name": "stderr",
     "output_type": "stream",
     "text": [
      "/home/hgandhi/.local/lib/python3.7/site-packages/sklearn/gaussian_process/_gpr.py:506: ConvergenceWarning: lbfgs failed to converge (status=2):\n",
      "ABNORMAL_TERMINATION_IN_LNSRCH.\n",
      "\n",
      "Increase the number of iterations (max_iter) or scale the data as shown in:\n",
      "    https://scikit-learn.org/stable/modules/preprocessing.html\n",
      "  _check_optimize_result(\"lbfgs\", opt_res)\n",
      "/home/hgandhi/.local/lib/python3.7/site-packages/sklearn/gaussian_process/kernels.py:409: ConvergenceWarning: The optimal value found for dimension 2 of parameter length_scale is close to the specified lower bound 1e-05. Decreasing the bound and calling fit again may find a better value.\n",
      "  ConvergenceWarning)\n"
     ]
    },
    {
     "name": "stdout",
     "output_type": "stream",
     "text": [
      "Accuracy after query 17: 0.9914\n",
      "8.932694939457539\n",
      "[[0.005  1.     0.0067]] [8.3015823] float64 float64\n",
      "Accuracy after query 18: 0.9905\n",
      "7.825443502699231\n",
      "[[7.89e-02 1.80e+02 2.00e-02]] [0.35024253] float64 float64\n",
      "Accuracy after query 19: 0.9913\n",
      "6.919275271289708\n",
      "[[0.0304 1.     0.02  ]] [0.68240659] float64 float64\n",
      "Accuracy after query 20: 0.9919\n",
      "8.435841099579743\n",
      "[[0.0367 1.     0.005 ]] [0.11627406] float64 float64\n",
      "Accuracy after query 21: 0.9926\n",
      "6.081630629666644\n",
      "[[0.0873 1.     0.005 ]] [0.02059181] float64 float64\n",
      "Accuracy after query 22: 0.9932\n",
      "5.163168261370287\n",
      "[[6.80e-02 1.56e+02 2.00e-02]] [0.42714579] float64 float64\n",
      "Accuracy after query 23: 0.9937\n",
      "8.003315047525081\n",
      "[[0.005 1.    0.008]] [9.9628509] float64 float64\n"
     ]
    },
    {
     "name": "stderr",
     "output_type": "stream",
     "text": [
      "/home/hgandhi/.local/lib/python3.7/site-packages/sklearn/gaussian_process/_gpr.py:506: ConvergenceWarning: lbfgs failed to converge (status=2):\n",
      "ABNORMAL_TERMINATION_IN_LNSRCH.\n",
      "\n",
      "Increase the number of iterations (max_iter) or scale the data as shown in:\n",
      "    https://scikit-learn.org/stable/modules/preprocessing.html\n",
      "  _check_optimize_result(\"lbfgs\", opt_res)\n"
     ]
    },
    {
     "name": "stdout",
     "output_type": "stream",
     "text": [
      "Accuracy after query 24: 0.9928\n",
      "4.523467105338086\n",
      "[[ 0.0894 20.      0.02  ]] [0.11815163] float64 float64\n",
      "Accuracy after query 25: 0.9933\n",
      "4.032921023966369\n",
      "[[1.77e-02 1.68e+02 2.00e-02]] [4.0627529] float64 float64\n"
     ]
    },
    {
     "name": "stderr",
     "output_type": "stream",
     "text": [
      "/home/hgandhi/.local/lib/python3.7/site-packages/sklearn/gaussian_process/_gpr.py:506: ConvergenceWarning: lbfgs failed to converge (status=2):\n",
      "ABNORMAL_TERMINATION_IN_LNSRCH.\n",
      "\n",
      "Increase the number of iterations (max_iter) or scale the data as shown in:\n",
      "    https://scikit-learn.org/stable/modules/preprocessing.html\n",
      "  _check_optimize_result(\"lbfgs\", opt_res)\n"
     ]
    },
    {
     "name": "stdout",
     "output_type": "stream",
     "text": [
      "Accuracy after query 26: 0.9932\n",
      "4.08603939988413\n",
      "[[0.0472 1.     0.005 ]] [0.07008886] float64 float64\n"
     ]
    },
    {
     "name": "stderr",
     "output_type": "stream",
     "text": [
      "/home/hgandhi/.local/lib/python3.7/site-packages/sklearn/gaussian_process/_gpr.py:506: ConvergenceWarning: lbfgs failed to converge (status=2):\n",
      "ABNORMAL_TERMINATION_IN_LNSRCH.\n",
      "\n",
      "Increase the number of iterations (max_iter) or scale the data as shown in:\n",
      "    https://scikit-learn.org/stable/modules/preprocessing.html\n",
      "  _check_optimize_result(\"lbfgs\", opt_res)\n"
     ]
    },
    {
     "name": "stdout",
     "output_type": "stream",
     "text": [
      "Accuracy after query 27: 0.9937\n",
      "3.8483619023958457\n",
      "[[6.83e-02 1.80e+02 1.10e-02]] [0.19697935] float64 float64\n",
      "Accuracy after query 28: 0.9941\n",
      "3.6081935286599602\n",
      "[[8.1e-02 1.8e+02 1.2e-02]] [0.16642564] float64 float64\n",
      "Accuracy after query 29: 0.9945\n",
      "3.4369738798545684\n",
      "[[3.03e-02 1.80e+02 1.20e-02]] [0.85786399] float64 float64\n"
     ]
    },
    {
     "name": "stderr",
     "output_type": "stream",
     "text": [
      "/home/hgandhi/.local/lib/python3.7/site-packages/sklearn/gaussian_process/_gpr.py:506: ConvergenceWarning: lbfgs failed to converge (status=2):\n",
      "ABNORMAL_TERMINATION_IN_LNSRCH.\n",
      "\n",
      "Increase the number of iterations (max_iter) or scale the data as shown in:\n",
      "    https://scikit-learn.org/stable/modules/preprocessing.html\n",
      "  _check_optimize_result(\"lbfgs\", opt_res)\n"
     ]
    },
    {
     "name": "stdout",
     "output_type": "stream",
     "text": [
      "Accuracy after query 30: 0.9947\n",
      "3.34854023612877\n",
      "[[0.0472 1.     0.02  ]] [0.28335989] float64 float64\n",
      "Accuracy after query 31: 0.9950\n",
      "3.0627451059841055\n",
      "[[9.37e-02 1.80e+02 5.00e-03]] [0.04065784] float64 float64\n"
     ]
    },
    {
     "name": "stderr",
     "output_type": "stream",
     "text": [
      "/home/hgandhi/.local/lib/python3.7/site-packages/sklearn/gaussian_process/_gpr.py:506: ConvergenceWarning: lbfgs failed to converge (status=2):\n",
      "ABNORMAL_TERMINATION_IN_LNSRCH.\n",
      "\n",
      "Increase the number of iterations (max_iter) or scale the data as shown in:\n",
      "    https://scikit-learn.org/stable/modules/preprocessing.html\n",
      "  _check_optimize_result(\"lbfgs\", opt_res)\n"
     ]
    },
    {
     "name": "stdout",
     "output_type": "stream",
     "text": [
      "Accuracy after query 32: 0.9953\n",
      "2.9571717174585723\n",
      "[[3.67e-02 1.80e+02 2.00e-02]] [1.2343909] float64 float64\n",
      "Accuracy after query 33: 0.9954\n",
      "2.716023854785677\n",
      "[[8.94e-02 1.80e+02 1.17e-02]] [0.13606585] float64 float64\n",
      "Accuracy after query 34: 0.9957\n",
      "2.534181683522137\n",
      "[[0.024 1.    0.015]] [0.81584264] float64 float64\n",
      "Accuracy after query 35: 0.9958\n",
      "6.840773019146918\n",
      "[[5.e-03 6.e+01 5.e-03]] [6.9440554] float64 float64\n",
      "Accuracy after query 36: 0.9955\n",
      "2.3789120793429284\n",
      "[[0.0113 1.     0.02  ]] [4.86071] float64 float64\n",
      "Accuracy after query 37: 0.9954\n",
      "6.710224325125986\n",
      "[[5.e-03 4.e+01 2.e-02]] [28.715214] float64 float64\n",
      "Accuracy after query 38: 0.9950\n",
      "3.7818062074772683\n",
      "[[0.0746 1.     0.02  ]] [0.11416679] float64 float64\n",
      "Accuracy after query 39: 0.9953\n",
      "3.5746623958404684\n",
      "[[0.1   1.    0.005]] [0.01569931] float64 float64\n",
      "Accuracy after query 40: 0.9955\n",
      "3.4419616066386975\n",
      "[[5.78e-02 1.80e+02 2.00e-02]] [0.58552405] float64 float64\n",
      "Accuracy after query 41: 0.9957\n",
      "3.284552541180159\n",
      "[[0.0683 1.     0.005 ]] [0.03353529] float64 float64\n",
      "Accuracy after query 42: 0.9959\n",
      "3.157243035720372\n",
      "[[1.77e-02 1.80e+02 5.00e-03]] [0.76858414] float64 float64\n",
      "Accuracy after query 43: 0.9960\n",
      "3.153704876937749\n",
      "[[0.062 1.    0.02 ]] [0.16509029] float64 float64\n",
      "Accuracy after query 44: 0.9962\n",
      "2.951139116318825\n",
      "[[6.2e-02 1.8e+02 5.0e-03]] [0.08180235] float64 float64\n",
      "Accuracy after query 45: 0.9964\n",
      "2.8788702539983424\n",
      "[[4.30e-02 1.68e+02 5.00e-03]] [0.15092111] float64 float64\n",
      "Accuracy after query 46: 0.9965\n",
      "2.8353997362679757\n",
      "[[2.61e-02 1.80e+02 2.00e-02]] [2.1691781] float64 float64\n",
      "Accuracy after query 47: 0.9965\n",
      "2.683644405763594\n",
      "[[0.081 1.    0.02 ]] [0.09732112] float64 float64\n",
      "Accuracy after query 48: 0.9967\n",
      "2.611650309419424\n",
      "[[4.93e-02 1.80e+02 1.40e-02]] [0.46733357] float64 float64\n",
      "Accuracy after query 49: 0.9968\n",
      "2.4841269457663397\n",
      "[[9.36e-02 1.80e+02 2.00e-02]] [0.26816858] float64 float64\n",
      "Accuracy after query 50: 0.9969\n",
      "2.4160626207537277\n",
      "[[3.03e-02 1.80e+02 5.00e-03]] [0.28717414] float64 float64\n",
      "Accuracy after query 51: 0.9970\n",
      "2.344577300311071\n",
      "[[0.0937 1.     0.012 ]] [0.04330755] float64 float64\n",
      "Accuracy after query 52: 0.9971\n",
      "2.302024058115864\n",
      "[[0.0367 1.     0.016 ]] [0.37351775] float64 float64\n",
      "Accuracy after query 53: 0.9972\n",
      "2.2384023534913906\n",
      "[[7.89e-02 1.80e+02 5.00e-03]] [0.0542843] float64 float64\n",
      "Accuracy after query 54: 0.9973\n",
      "2.1745442359831935\n",
      "[[1.13e-02 1.80e+02 1.40e-02]] [5.8144658] float64 float64\n",
      "Accuracy after query 55: 0.9972\n",
      "2.4694659915524504\n",
      "[[0.081 1.    0.005]] [0.0238934] float64 float64\n",
      "Accuracy after query 56: 0.9973\n",
      "2.2645859422397083\n",
      "[[3.67e-02 1.80e+02 5.00e-03]] [0.20449601] float64 float64\n",
      "Accuracy after query 57: 0.9974\n",
      "2.2242628265541295\n",
      "[[8.72e-02 1.80e+02 2.00e-02]] [0.2990012] float64 float64\n",
      "Accuracy after query 58: 0.9975\n",
      "2.160400314284255\n",
      "[[2.4e-02 1.8e+02 5.0e-03]] [0.43876606] float64 float64\n",
      "Accuracy after query 59: 0.9976\n",
      "2.098032829066129\n",
      "[[0.043 1.    0.02 ]] [0.34107169] float64 float64\n",
      "Accuracy after query 60: 0.9976\n",
      "2.0639282015027556\n",
      "[[4.93e-02 1.80e+02 5.00e-03]] [0.12138131] float64 float64\n",
      "Accuracy after query 61: 0.9977\n",
      "2.028365067080318\n",
      "[[7.47e-02 1.80e+02 1.30e-02]] [0.21208005] float64 float64\n",
      "Accuracy after query 62: 0.9978\n",
      "1.998665652693079\n",
      "[[0.0303 1.     0.005 ]] [0.16958597] float64 float64\n",
      "Accuracy after query 63: 0.9978\n",
      "1.9308433914038394\n",
      "[[0.0683 1.     0.016 ]] [0.10857882] float64 float64\n",
      "Accuracy after query 64: 0.9979\n",
      "64_6 done with accuracy 0.9978925624670157\n",
      "1.0995462283384836\n",
      "[[4.93e-02 1.80e+02 1.50e-02]] [0.51261218] float64 float64\n"
     ]
    },
    {
     "name": "stderr",
     "output_type": "stream",
     "text": [
      "/home/hgandhi/.local/lib/python3.7/site-packages/sklearn/gaussian_process/kernels.py:418: ConvergenceWarning: The optimal value found for dimension 1 of parameter length_scale is close to the specified upper bound 100000.0. Increasing the bound and calling fit again may find a better value.\n",
      "  ConvergenceWarning)\n",
      "/home/hgandhi/.local/lib/python3.7/site-packages/sklearn/gaussian_process/kernels.py:418: ConvergenceWarning: The optimal value found for dimension 1 of parameter length_scale is close to the specified upper bound 100000.0. Increasing the bound and calling fit again may find a better value.\n",
      "  ConvergenceWarning)\n"
     ]
    },
    {
     "name": "stdout",
     "output_type": "stream",
     "text": [
      "Accuracy after query 1: -6.5874\n",
      "0.585131017072745\n",
      "[[0.0303 1.     0.005 ]] [0.16958597] float64 float64\n",
      "Accuracy after query 2: -4.0831\n",
      "1.1086383702499187\n",
      "[[0.0683 1.     0.02  ]] [0.13615129] float64 float64\n"
     ]
    },
    {
     "name": "stderr",
     "output_type": "stream",
     "text": [
      "/home/hgandhi/.local/lib/python3.7/site-packages/sklearn/gaussian_process/kernels.py:418: ConvergenceWarning: The optimal value found for dimension 1 of parameter length_scale is close to the specified upper bound 100000.0. Increasing the bound and calling fit again may find a better value.\n",
      "  ConvergenceWarning)\n"
     ]
    },
    {
     "name": "stdout",
     "output_type": "stream",
     "text": [
      "Accuracy after query 3: -1.2703\n",
      "1.0763606229841212\n",
      "[[5.00e-03 1.08e+02 5.00e-03]] [7.5273733] float64 float64\n",
      "Accuracy after query 4: 0.9890\n",
      "2.5416843047340287\n",
      "[[5.0e-03 1.4e+02 5.0e-03]] [7.9109987] float64 float64\n",
      "Accuracy after query 5: 0.9932\n",
      "2.742540625093156\n",
      "[[1.0e-01 8.4e+01 1.5e-02]] [0.14627136] float64 float64\n",
      "Accuracy after query 6: 0.9915\n",
      "3.0798251630970834\n",
      "[[5.e-03 2.e+01 5.e-03]] [6.4418107] float64 float64\n",
      "Accuracy after query 7: 0.9277\n",
      "2.1321587538903213\n",
      "[[6.83e-02 1.80e+02 5.00e-03]] [0.0692739] float64 float64\n",
      "Accuracy after query 8: 0.9440\n",
      "1.6175884501725437\n",
      "[[7.89e-02 1.80e+02 2.00e-02]] [0.35024253] float64 float64\n",
      "Accuracy after query 9: 0.9536\n",
      "1.3195461831693118\n",
      "[[0.0578 1.     0.0067]] [0.06259325] float64 float64\n",
      "Accuracy after query 10: 0.9619\n",
      "1.2111062939145678\n",
      "[[2.4e-02 1.8e+02 1.5e-02]] [1.7112222] float64 float64\n",
      "Accuracy after query 11: 0.9629\n",
      "1.08191107433332\n",
      "[[3.67e-02 1.80e+02 2.00e-02]] [1.2343909] float64 float64\n",
      "Accuracy after query 12: 0.9650\n",
      "1.4902002383987003\n",
      "[[5.0e-03 1.8e+02 2.0e-02]] [39.169213] float64 float64\n",
      "Accuracy after query 13: 0.9867\n",
      "9.396504380824997\n",
      "[[0.0113 1.     0.006 ]] [1.4551755] float64 float64\n",
      "Accuracy after query 14: 0.9878\n",
      "9.140623168167837\n",
      "[[0.0156 1.     0.005 ]] [0.64454992] float64 float64\n",
      "Accuracy after query 15: 0.9890\n",
      "8.919097776738198\n",
      "[[0.0113 1.     0.007 ]] [1.6981139] float64 float64\n",
      "Accuracy after query 16: 0.9897\n",
      "8.695707538459779\n",
      "[[0.0177 1.     0.005 ]] [0.49982412] float64 float64\n",
      "Accuracy after query 17: 0.9907\n",
      "6.96665698619338\n",
      "[[1.0e-01 1.8e+02 5.0e-03]] [0.03644257] float64 float64\n",
      "Accuracy after query 18: 0.9916\n",
      "4.816072002273925\n",
      "[[6.83e-02 1.80e+02 1.30e-02]] [0.24598912] float64 float64\n"
     ]
    },
    {
     "name": "stderr",
     "output_type": "stream",
     "text": [
      "/home/hgandhi/.local/lib/python3.7/site-packages/sklearn/gaussian_process/kernels.py:409: ConvergenceWarning: The optimal value found for dimension 2 of parameter length_scale is close to the specified lower bound 1e-05. Decreasing the bound and calling fit again may find a better value.\n",
      "  ConvergenceWarning)\n"
     ]
    },
    {
     "name": "stdout",
     "output_type": "stream",
     "text": [
      "Accuracy after query 19: 0.9924\n",
      "8.173565954582607\n",
      "[[0.005 1.    0.008]] [9.9628509] float64 float64\n",
      "Accuracy after query 20: 0.9912\n",
      "4.509997357951341\n",
      "[[0.081 1.    0.005]] [0.0238934] float64 float64\n",
      "Accuracy after query 21: 0.9920\n",
      "4.172410170027349\n",
      "[[4.30e-02 1.68e+02 5.00e-03]] [0.15092111] float64 float64\n",
      "Accuracy after query 22: 0.9927\n",
      "7.8169329409160575\n",
      "[[4.93e-02 8.40e+01 2.00e-02]] [0.66578451] float64 float64\n",
      "Accuracy after query 23: 0.9931\n",
      "7.700378309721249\n",
      "[[0.062 1.    0.005]] [0.04071408] float64 float64\n",
      "Accuracy after query 24: 0.9937\n",
      "3.75654255737868\n",
      "[[0.0177 1.     0.02  ]] [2.006859] float64 float64\n",
      "Accuracy after query 25: 0.9938\n",
      "5.105360159941453\n",
      "[[5.78e-02 1.80e+02 2.00e-02]] [0.58552405] float64 float64\n",
      "Accuracy after query 26: 0.9942\n",
      "4.0450497786848505\n",
      "[[0.0304 1.     0.02  ]] [0.68240659] float64 float64\n",
      "Accuracy after query 27: 0.9945\n",
      "7.049901906874614\n",
      "[[7.47e-02 1.20e+02 5.00e-03]] [0.05299666] float64 float64\n",
      "Accuracy after query 28: 0.9949\n",
      "3.6169640469295734\n",
      "[[0.0367 1.     0.011 ]] [0.25686036] float64 float64\n",
      "Accuracy after query 29: 0.9952\n",
      "6.674363079997576\n",
      "[[3.04e-02 1.20e+02 2.00e-02]] [1.4709141] float64 float64\n",
      "Accuracy after query 30: 0.9953\n",
      "3.4751547508908915\n",
      "[[0.0937 1.     0.005 ]] [0.01788529] float64 float64\n",
      "Accuracy after query 31: 0.9956\n",
      "6.355125904661349\n",
      "[[6.2e-02 4.8e+01 5.0e-03]] [0.05993729] float64 float64\n",
      "Accuracy after query 32: 0.9959\n",
      "3.2590512342434588\n",
      "[[0.0493 1.     0.005 ]] [0.06423145] float64 float64\n"
     ]
    },
    {
     "name": "stderr",
     "output_type": "stream",
     "text": [
      "/home/hgandhi/.local/lib/python3.7/site-packages/sklearn/gaussian_process/kernels.py:409: ConvergenceWarning: The optimal value found for dimension 0 of parameter length_scale is close to the specified lower bound 1e-05. Decreasing the bound and calling fit again may find a better value.\n",
      "  ConvergenceWarning)\n"
     ]
    },
    {
     "name": "stdout",
     "output_type": "stream",
     "text": [
      "Accuracy after query 33: 0.9961\n",
      "6.6654337042130765\n",
      "[[0.0472 1.     0.005 ]] [0.07008886] float64 float64\n",
      "Accuracy after query 34: 0.9963\n",
      "2.9501347228804984\n",
      "[[0.0873 1.     0.02  ]] [0.08364167] float64 float64\n",
      "Accuracy after query 35: 0.9965\n",
      "5.9267124578560475\n",
      "[[3.03e-02 6.00e+01 6.00e-03]] [0.28464398] float64 float64\n",
      "Accuracy after query 36: 0.9967\n",
      "2.73033846128743\n",
      "[[0.0789 1.     0.0133]] [0.06778202] float64 float64\n",
      "Accuracy after query 37: 0.9969\n",
      "5.722469665497589\n",
      "[[1.00e-01 1.32e+02 5.00e-03]] [0.03256443] float64 float64\n",
      "Accuracy after query 38: 0.9970\n",
      "2.5331969352905075\n",
      "[[0.1  1.   0.02]] [0.06394421] float64 float64\n",
      "Accuracy after query 39: 0.9972\n",
      "2.4987674420711117\n",
      "[[0.043 1.    0.02 ]] [0.34107169] float64 float64\n",
      "Accuracy after query 40: 0.9973\n",
      "2.3656416859678453\n",
      "[[1.13e-02 1.68e+02 2.00e-02]] [8.7890988] float64 float64\n",
      "Accuracy after query 41: 0.9970\n",
      "6.158867748675417\n",
      "[[1.0e-01 3.6e+01 1.5e-02]] [0.09216901] float64 float64\n",
      "Accuracy after query 42: 0.9971\n",
      "3.4306794794401223\n",
      "[[2.4e-02 1.8e+02 5.0e-03]] [0.43876606] float64 float64\n",
      "Accuracy after query 43: 0.9972\n",
      "3.2864685625194703\n",
      "[[7.44e-02 1.80e+02 2.00e-02]] [0.39052612] float64 float64\n",
      "Accuracy after query 44: 0.9973\n",
      "3.110055815774786\n",
      "[[0.062 1.    0.02 ]] [0.16509029] float64 float64\n",
      "Accuracy after query 45: 0.9974\n",
      "2.9851260595124933\n",
      "[[8.73e-02 1.80e+02 5.00e-03]] [0.04561009] float64 float64\n"
     ]
    },
    {
     "name": "stderr",
     "output_type": "stream",
     "text": [
      "/home/hgandhi/.local/lib/python3.7/site-packages/sklearn/gaussian_process/_gpr.py:506: ConvergenceWarning: lbfgs failed to converge (status=2):\n",
      "ABNORMAL_TERMINATION_IN_LNSRCH.\n",
      "\n",
      "Increase the number of iterations (max_iter) or scale the data as shown in:\n",
      "    https://scikit-learn.org/stable/modules/preprocessing.html\n",
      "  _check_optimize_result(\"lbfgs\", opt_res)\n"
     ]
    },
    {
     "name": "stdout",
     "output_type": "stream",
     "text": [
      "Accuracy after query 46: 0.9975\n",
      "5.865812419065209\n",
      "[[5.e-03 8.e+01 2.e-02]] [32.896909] float64 float64\n"
     ]
    },
    {
     "name": "stderr",
     "output_type": "stream",
     "text": [
      "/home/hgandhi/.local/lib/python3.7/site-packages/sklearn/gaussian_process/_gpr.py:506: ConvergenceWarning: lbfgs failed to converge (status=2):\n",
      "ABNORMAL_TERMINATION_IN_LNSRCH.\n",
      "\n",
      "Increase the number of iterations (max_iter) or scale the data as shown in:\n",
      "    https://scikit-learn.org/stable/modules/preprocessing.html\n",
      "  _check_optimize_result(\"lbfgs\", opt_res)\n"
     ]
    },
    {
     "name": "stdout",
     "output_type": "stream",
     "text": [
      "Accuracy after query 47: 0.9973\n",
      "2.9351710004681335\n",
      "[[3.67e-02 1.80e+02 5.00e-03]] [0.20449601] float64 float64\n",
      "Accuracy after query 48: 0.9974\n",
      "2.732721067167238\n",
      "[[5.57e-02 1.80e+02 5.00e-03]] [0.09846187] float64 float64\n",
      "Accuracy after query 49: 0.9975\n",
      "2.6941991461977866\n",
      "[[1.77e-02 1.80e+02 1.20e-02]] [2.1871612] float64 float64\n"
     ]
    },
    {
     "name": "stderr",
     "output_type": "stream",
     "text": [
      "/home/hgandhi/.local/lib/python3.7/site-packages/sklearn/gaussian_process/_gpr.py:506: ConvergenceWarning: lbfgs failed to converge (status=2):\n",
      "ABNORMAL_TERMINATION_IN_LNSRCH.\n",
      "\n",
      "Increase the number of iterations (max_iter) or scale the data as shown in:\n",
      "    https://scikit-learn.org/stable/modules/preprocessing.html\n",
      "  _check_optimize_result(\"lbfgs\", opt_res)\n"
     ]
    },
    {
     "name": "stdout",
     "output_type": "stream",
     "text": [
      "Accuracy after query 50: 0.9975\n",
      "2.582774772776128\n",
      "[[0.0557 1.     0.02  ]] [0.20438557] float64 float64\n",
      "Accuracy after query 51: 0.9976\n",
      "2.512585684510459\n",
      "[[0.024 1.    0.02 ]] [1.0881076] float64 float64\n",
      "Accuracy after query 52: 0.9976\n",
      "2.3468427475481524\n",
      "[[8.1e-02 1.8e+02 1.0e-02]] [0.13068969] float64 float64\n",
      "Accuracy after query 53: 0.9977\n",
      "2.2274689440108877\n",
      "[[8.72e-02 1.80e+02 2.00e-02]] [0.2990012] float64 float64\n",
      "Accuracy after query 54: 0.9978\n",
      "2.1682024807862637\n",
      "[[0.0683 1.     0.005 ]] [0.03353529] float64 float64\n",
      "Accuracy after query 55: 0.9979\n",
      "2.1298577850038503\n",
      "[[4.3e-02 1.8e+02 1.5e-02]] [0.64255309] float64 float64\n",
      "Accuracy after query 56: 0.9979\n",
      "2.0924004984819566\n",
      "[[0.0261 1.     0.01  ]] [0.45869788] float64 float64\n",
      "Accuracy after query 57: 0.9980\n",
      "2.0246877710626827\n",
      "[[9.37e-02 1.80e+02 9.00e-03]] [0.08911485] float64 float64\n",
      "Accuracy after query 58: 0.9981\n",
      "1.994290033636165\n",
      "[[1.13e-02 1.80e+02 5.00e-03]] [1.7531244] float64 float64\n"
     ]
    },
    {
     "name": "stderr",
     "output_type": "stream",
     "text": [
      "/home/hgandhi/.local/lib/python3.7/site-packages/sklearn/gaussian_process/_gpr.py:506: ConvergenceWarning: lbfgs failed to converge (status=2):\n",
      "ABNORMAL_TERMINATION_IN_LNSRCH.\n",
      "\n",
      "Increase the number of iterations (max_iter) or scale the data as shown in:\n",
      "    https://scikit-learn.org/stable/modules/preprocessing.html\n",
      "  _check_optimize_result(\"lbfgs\", opt_res)\n"
     ]
    },
    {
     "name": "stdout",
     "output_type": "stream",
     "text": [
      "Accuracy after query 59: 0.9981\n",
      "1.9752534092637017\n",
      "[[0.081 1.    0.02 ]] [0.09732112] float64 float64\n",
      "Accuracy after query 60: 0.9981\n",
      "1.9318751994804575\n",
      "[[6.2e-02 1.8e+02 1.3e-02]] [0.28951181] float64 float64\n",
      "Accuracy after query 61: 0.9982\n",
      "1.855124845909986\n",
      "[[0.0746 1.     0.02  ]] [0.11416679] float64 float64\n",
      "Accuracy after query 62: 0.9982\n",
      "1.7678842202082399\n",
      "[[0.0937 1.     0.016 ]] [0.05801333] float64 float64\n",
      "Accuracy after query 63: 0.9983\n",
      "1.7384960457235332\n",
      "[[4.93e-02 1.80e+02 5.00e-03]] [0.12138131] float64 float64\n",
      "Accuracy after query 64: 0.9983\n",
      "64_7 done with accuracy 0.9983499516889159\n",
      "0.048487938814654324\n",
      "[[0.005 1.    0.005]] [6.2256936] float64 float64\n"
     ]
    },
    {
     "name": "stderr",
     "output_type": "stream",
     "text": [
      "/home/hgandhi/.local/lib/python3.7/site-packages/sklearn/gaussian_process/kernels.py:418: ConvergenceWarning: The optimal value found for dimension 1 of parameter length_scale is close to the specified upper bound 100000.0. Increasing the bound and calling fit again may find a better value.\n",
      "  ConvergenceWarning)\n"
     ]
    },
    {
     "name": "stdout",
     "output_type": "stream",
     "text": [
      "Accuracy after query 1: 0.8617\n",
      "1.2093202943633068\n",
      "[[3.67e-02 1.80e+02 5.00e-03]] [0.20449601] float64 float64\n"
     ]
    },
    {
     "name": "stderr",
     "output_type": "stream",
     "text": [
      "/home/hgandhi/.local/lib/python3.7/site-packages/sklearn/gaussian_process/kernels.py:418: ConvergenceWarning: The optimal value found for dimension 1 of parameter length_scale is close to the specified upper bound 100000.0. Increasing the bound and calling fit again may find a better value.\n",
      "  ConvergenceWarning)\n",
      "/home/hgandhi/.local/lib/python3.7/site-packages/sklearn/gaussian_process/kernels.py:418: ConvergenceWarning: The optimal value found for dimension 2 of parameter length_scale is close to the specified upper bound 100000.0. Increasing the bound and calling fit again may find a better value.\n",
      "  ConvergenceWarning)\n"
     ]
    },
    {
     "name": "stdout",
     "output_type": "stream",
     "text": [
      "Accuracy after query 2: 0.9271\n",
      "1.2441683091701963\n",
      "[[1.0e-01 1.8e+02 2.0e-02]] [0.24269174] float64 float64\n"
     ]
    },
    {
     "name": "stderr",
     "output_type": "stream",
     "text": [
      "/home/hgandhi/.local/lib/python3.7/site-packages/sklearn/gaussian_process/kernels.py:418: ConvergenceWarning: The optimal value found for dimension 1 of parameter length_scale is close to the specified upper bound 100000.0. Increasing the bound and calling fit again may find a better value.\n",
      "  ConvergenceWarning)\n"
     ]
    },
    {
     "name": "stdout",
     "output_type": "stream",
     "text": [
      "Accuracy after query 3: 0.9510\n",
      "0.8687912360253045\n",
      "[[1.77e-02 1.80e+02 1.50e-02]] [2.8939022] float64 float64\n",
      "Accuracy after query 4: 0.9310\n",
      "0.9182086304535829\n",
      "[[0.0303 1.     0.015 ]] [0.51155211] float64 float64\n"
     ]
    },
    {
     "name": "stderr",
     "output_type": "stream",
     "text": [
      "/home/hgandhi/.local/lib/python3.7/site-packages/sklearn/gaussian_process/kernels.py:418: ConvergenceWarning: The optimal value found for dimension 1 of parameter length_scale is close to the specified upper bound 100000.0. Increasing the bound and calling fit again may find a better value.\n",
      "  ConvergenceWarning)\n",
      "/home/hgandhi/.local/lib/python3.7/site-packages/sklearn/gaussian_process/kernels.py:418: ConvergenceWarning: The optimal value found for dimension 1 of parameter length_scale is close to the specified upper bound 100000.0. Increasing the bound and calling fit again may find a better value.\n",
      "  ConvergenceWarning)\n"
     ]
    },
    {
     "name": "stdout",
     "output_type": "stream",
     "text": [
      "Accuracy after query 5: 0.9447\n",
      "0.7190493873266934\n",
      "[[0.0493 1.     0.02  ]] [0.26013949] float64 float64\n",
      "Accuracy after query 6: 0.9566\n",
      "0.36741554557470546\n",
      "[[5.78e-02 1.80e+02 5.00e-03]] [0.09217978] float64 float64\n"
     ]
    },
    {
     "name": "stderr",
     "output_type": "stream",
     "text": [
      "/home/hgandhi/.local/lib/python3.7/site-packages/sklearn/gaussian_process/kernels.py:418: ConvergenceWarning: The optimal value found for dimension 1 of parameter length_scale is close to the specified upper bound 100000.0. Increasing the bound and calling fit again may find a better value.\n",
      "  ConvergenceWarning)\n"
     ]
    },
    {
     "name": "stdout",
     "output_type": "stream",
     "text": [
      "Accuracy after query 7: 0.9660\n",
      "0.2241960866449755\n",
      "[[0.0113 1.     0.02  ]] [4.86071] float64 float64\n"
     ]
    },
    {
     "name": "stderr",
     "output_type": "stream",
     "text": [
      "/home/hgandhi/.local/lib/python3.7/site-packages/sklearn/gaussian_process/kernels.py:418: ConvergenceWarning: The optimal value found for dimension 1 of parameter length_scale is close to the specified upper bound 100000.0. Increasing the bound and calling fit again may find a better value.\n",
      "  ConvergenceWarning)\n",
      "/home/hgandhi/.local/lib/python3.7/site-packages/sklearn/gaussian_process/kernels.py:418: ConvergenceWarning: The optimal value found for dimension 1 of parameter length_scale is close to the specified upper bound 100000.0. Increasing the bound and calling fit again may find a better value.\n",
      "  ConvergenceWarning)\n"
     ]
    },
    {
     "name": "stdout",
     "output_type": "stream",
     "text": [
      "Accuracy after query 8: 0.9554\n",
      "0.20626202944001099\n",
      "[[0.0937 1.     0.02  ]] [0.07279829] float64 float64\n",
      "Accuracy after query 9: 0.9641\n",
      "0.1639447791469436\n",
      "[[0.043 1.    0.02 ]] [0.34107169] float64 float64\n"
     ]
    },
    {
     "name": "stderr",
     "output_type": "stream",
     "text": [
      "/home/hgandhi/.local/lib/python3.7/site-packages/sklearn/gaussian_process/kernels.py:418: ConvergenceWarning: The optimal value found for dimension 1 of parameter length_scale is close to the specified upper bound 100000.0. Increasing the bound and calling fit again may find a better value.\n",
      "  ConvergenceWarning)\n"
     ]
    },
    {
     "name": "stdout",
     "output_type": "stream",
     "text": [
      "Accuracy after query 10: 0.9689\n",
      "0.15664727669642875\n",
      "[[0.081 1.    0.02 ]] [0.09732112] float64 float64\n"
     ]
    },
    {
     "name": "stderr",
     "output_type": "stream",
     "text": [
      "/home/hgandhi/.local/lib/python3.7/site-packages/sklearn/gaussian_process/kernels.py:418: ConvergenceWarning: The optimal value found for dimension 1 of parameter length_scale is close to the specified upper bound 100000.0. Increasing the bound and calling fit again may find a better value.\n",
      "  ConvergenceWarning)\n"
     ]
    },
    {
     "name": "stdout",
     "output_type": "stream",
     "text": [
      "Accuracy after query 11: 0.9737\n",
      "0.14755310409774516\n",
      "[[2.4e-02 1.8e+02 5.0e-03]] [0.43876606] float64 float64\n"
     ]
    },
    {
     "name": "stderr",
     "output_type": "stream",
     "text": [
      "/home/hgandhi/.local/lib/python3.7/site-packages/sklearn/gaussian_process/kernels.py:418: ConvergenceWarning: The optimal value found for dimension 1 of parameter length_scale is close to the specified upper bound 100000.0. Increasing the bound and calling fit again may find a better value.\n",
      "  ConvergenceWarning)\n"
     ]
    },
    {
     "name": "stdout",
     "output_type": "stream",
     "text": [
      "Accuracy after query 12: 0.9762\n",
      "0.33108384592943263\n",
      "[[0.1   1.    0.005]] [0.01569931] float64 float64\n"
     ]
    },
    {
     "name": "stderr",
     "output_type": "stream",
     "text": [
      "/home/hgandhi/.local/lib/python3.7/site-packages/sklearn/gaussian_process/kernels.py:418: ConvergenceWarning: The optimal value found for dimension 1 of parameter length_scale is close to the specified upper bound 100000.0. Increasing the bound and calling fit again may find a better value.\n",
      "  ConvergenceWarning)\n"
     ]
    },
    {
     "name": "stdout",
     "output_type": "stream",
     "text": [
      "Accuracy after query 13: 0.9796\n",
      "0.2935494738462561\n",
      "[[0.062 1.    0.02 ]] [0.16509029] float64 float64\n",
      "Accuracy after query 14: 0.9819\n",
      "0.2534098153496589\n",
      "[[4.72e-02 1.80e+02 5.00e-03]] [0.13099462] float64 float64\n",
      "Accuracy after query 15: 0.9839\n",
      "0.20626274405792153\n",
      "[[5.0e-03 1.8e+02 2.0e-02]] [39.169213] float64 float64\n",
      "Accuracy after query 16: 0.9939\n",
      "8.707281827793611\n",
      "[[0.0113 1.     0.006 ]] [1.4551755] float64 float64\n",
      "Accuracy after query 17: 0.9942\n",
      "8.493057180125573\n",
      "[[0.005  1.     0.0067]] [8.3015823] float64 float64\n",
      "Accuracy after query 18: 0.9932\n",
      "8.359241144073525\n",
      "[[1.00e-01 1.80e+02 1.75e-02]] [0.19922474] float64 float64\n"
     ]
    },
    {
     "name": "stderr",
     "output_type": "stream",
     "text": [
      "/home/hgandhi/.local/lib/python3.7/site-packages/sklearn/gaussian_process/_gpr.py:506: ConvergenceWarning: lbfgs failed to converge (status=2):\n",
      "ABNORMAL_TERMINATION_IN_LNSRCH.\n",
      "\n",
      "Increase the number of iterations (max_iter) or scale the data as shown in:\n",
      "    https://scikit-learn.org/stable/modules/preprocessing.html\n",
      "  _check_optimize_result(\"lbfgs\", opt_res)\n"
     ]
    },
    {
     "name": "stdout",
     "output_type": "stream",
     "text": [
      "Accuracy after query 19: 0.9938\n",
      "8.198957756071671\n",
      "[[5.0e-03 1.2e+01 5.0e-03]] [6.3485633] float64 float64\n",
      "Accuracy after query 20: 0.9933\n",
      "8.047762477677546\n",
      "[[0.005 1.    0.008]] [9.9628509] float64 float64\n",
      "Accuracy after query 21: 0.9922\n",
      "7.995225401217148\n",
      "[[5.e-03 2.e+01 5.e-03]] [6.4418107] float64 float64\n",
      "Accuracy after query 22: 0.9917\n",
      "7.6913688002023735\n",
      "[[0.1   1.    0.013]] [0.04124783] float64 float64\n",
      "Accuracy after query 23: 0.9924\n",
      "7.474011609915338\n",
      "[[1.0e-01 1.8e+02 8.0e-03]] [0.068315] float64 float64\n",
      "Accuracy after query 24: 0.9930\n",
      "7.614564221613729\n",
      "[[0.0113 1.     0.007 ]] [1.6981139] float64 float64\n"
     ]
    },
    {
     "name": "stderr",
     "output_type": "stream",
     "text": [
      "/home/hgandhi/.local/lib/python3.7/site-packages/sklearn/gaussian_process/_gpr.py:506: ConvergenceWarning: lbfgs failed to converge (status=2):\n",
      "ABNORMAL_TERMINATION_IN_LNSRCH.\n",
      "\n",
      "Increase the number of iterations (max_iter) or scale the data as shown in:\n",
      "    https://scikit-learn.org/stable/modules/preprocessing.html\n",
      "  _check_optimize_result(\"lbfgs\", opt_res)\n"
     ]
    },
    {
     "name": "stdout",
     "output_type": "stream",
     "text": [
      "Accuracy after query 25: 0.9932\n",
      "6.610796632486781\n",
      "[[0.0557 1.     0.02  ]] [0.20438557] float64 float64\n",
      "Accuracy after query 26: 0.9937\n",
      "6.476837668364083\n",
      "[[6.83e-02 1.80e+02 5.00e-03]] [0.0692739] float64 float64\n",
      "Accuracy after query 27: 0.9942\n",
      "7.270647509307092\n",
      "[[0.005 1.    0.009]] [11.209144] float64 float64\n",
      "Accuracy after query 28: 0.9934\n",
      "6.249134272159433\n",
      "[[0.024 1.    0.02 ]] [1.0881076] float64 float64\n",
      "Accuracy after query 29: 0.9936\n",
      "7.192331446145353\n",
      "[[0.005 1.    0.01 ]] [12.45573] float64 float64\n",
      "Accuracy after query 30: 0.9928\n",
      "4.92097589759869\n",
      "[[8.72e-02 1.80e+02 2.00e-02]] [0.2990012] float64 float64\n",
      "Accuracy after query 31: 0.9933\n",
      "4.541586159497313\n",
      "[[3.04e-02 1.68e+02 2.00e-02]] [1.6406181] float64 float64\n",
      "Accuracy after query 32: 0.9935\n",
      "4.267012445081885\n",
      "[[0.062 1.    0.005]] [0.04071408] float64 float64\n",
      "Accuracy after query 33: 0.9939\n",
      "4.142812861824178\n",
      "[[0.043 1.    0.005]] [0.08449803] float64 float64\n",
      "Accuracy after query 34: 0.9942\n",
      "3.9705270537306436\n",
      "[[6.20e-02 1.68e+02 2.00e-02]] [0.50562035] float64 float64\n",
      "Accuracy after query 35: 0.9945\n",
      "5.5657693640210475\n",
      "[[8.10e-02 1.68e+02 5.00e-03]] [0.05038135] float64 float64\n",
      "Accuracy after query 36: 0.9948\n",
      "3.808208295048737\n",
      "[[4.72e-02 1.80e+02 2.00e-02]] [0.80838956] float64 float64\n",
      "Accuracy after query 37: 0.9950\n",
      "5.131422316356875\n",
      "[[9.37e-02 1.80e+02 5.00e-03]] [0.04065784] float64 float64\n"
     ]
    },
    {
     "name": "stderr",
     "output_type": "stream",
     "text": [
      "/home/hgandhi/.local/lib/python3.7/site-packages/sklearn/gaussian_process/_gpr.py:506: ConvergenceWarning: lbfgs failed to converge (status=2):\n",
      "ABNORMAL_TERMINATION_IN_LNSRCH.\n",
      "\n",
      "Increase the number of iterations (max_iter) or scale the data as shown in:\n",
      "    https://scikit-learn.org/stable/modules/preprocessing.html\n",
      "  _check_optimize_result(\"lbfgs\", opt_res)\n"
     ]
    },
    {
     "name": "stdout",
     "output_type": "stream",
     "text": [
      "Accuracy after query 38: 0.9953\n",
      "4.954499946474222\n",
      "[[0.0367 1.     0.02  ]] [0.46941925] float64 float64\n",
      "Accuracy after query 39: 0.9955\n",
      "3.597538693639202\n",
      "[[0.0747 1.     0.005 ]] [0.02810256] float64 float64\n",
      "Accuracy after query 40: 0.9957\n",
      "3.4321967716105655\n",
      "[[1.13e-02 1.80e+02 5.00e-03]] [1.7531244] float64 float64\n",
      "Accuracy after query 41: 0.9958\n",
      "4.2661490880132344\n",
      "[[0.0177 1.     0.005 ]] [0.49982412] float64 float64\n",
      "Accuracy after query 42: 0.9959\n",
      "4.04616339206836\n",
      "[[3.03e-02 1.80e+02 5.00e-03]] [0.28717414] float64 float64\n",
      "Accuracy after query 43: 0.9961\n",
      "3.786173255265269\n",
      "[[0.0746 1.     0.02  ]] [0.11416679] float64 float64\n",
      "Accuracy after query 44: 0.9963\n",
      "3.0171963588817414\n",
      "[[0.0894 1.     0.0133]] [0.05281744] float64 float64\n",
      "Accuracy after query 45: 0.9964\n",
      "2.9295056164763356\n",
      "[[0.0156 1.     0.02  ]] [2.5905974] float64 float64\n",
      "Accuracy after query 46: 0.9964\n",
      "2.886655979877295\n",
      "[[0.0493 1.     0.011 ]] [0.14200809] float64 float64\n"
     ]
    },
    {
     "name": "stderr",
     "output_type": "stream",
     "text": [
      "/home/hgandhi/.local/lib/python3.7/site-packages/sklearn/gaussian_process/_gpr.py:506: ConvergenceWarning: lbfgs failed to converge (status=2):\n",
      "ABNORMAL_TERMINATION_IN_LNSRCH.\n",
      "\n",
      "Increase the number of iterations (max_iter) or scale the data as shown in:\n",
      "    https://scikit-learn.org/stable/modules/preprocessing.html\n",
      "  _check_optimize_result(\"lbfgs\", opt_res)\n"
     ]
    },
    {
     "name": "stdout",
     "output_type": "stream",
     "text": [
      "Accuracy after query 47: 0.9966\n",
      "2.749753315725489\n",
      "[[0.0557 1.     0.011 ]] [0.1116468] float64 float64\n",
      "Accuracy after query 48: 0.9967\n",
      "2.654699519037601\n",
      "[[2.61e-02 1.80e+02 1.17e-02]] [1.0708245] float64 float64\n"
     ]
    },
    {
     "name": "stderr",
     "output_type": "stream",
     "text": [
      "/home/hgandhi/.local/lib/python3.7/site-packages/sklearn/gaussian_process/_gpr.py:506: ConvergenceWarning: lbfgs failed to converge (status=2):\n",
      "ABNORMAL_TERMINATION_IN_LNSRCH.\n",
      "\n",
      "Increase the number of iterations (max_iter) or scale the data as shown in:\n",
      "    https://scikit-learn.org/stable/modules/preprocessing.html\n",
      "  _check_optimize_result(\"lbfgs\", opt_res)\n"
     ]
    },
    {
     "name": "stdout",
     "output_type": "stream",
     "text": [
      "Accuracy after query 49: 0.9968\n",
      "2.5887781487207207\n",
      "[[7.89e-02 1.80e+02 1.33e-02]] [0.20051083] float64 float64\n",
      "Accuracy after query 50: 0.9969\n",
      "2.422297121350823\n",
      "[[4.3e-02 1.8e+02 1.2e-02]] [0.47663178] float64 float64\n",
      "Accuracy after query 51: 0.9970\n",
      "2.3269074197844364\n",
      "[[6.2e-02 1.8e+02 1.2e-02]] [0.26011882] float64 float64\n",
      "Accuracy after query 52: 0.9971\n",
      "2.2444254460246356\n",
      "[[0.0683 1.     0.012 ]] [0.08106009] float64 float64\n",
      "Accuracy after query 53: 0.9972\n",
      "2.1946453622806925\n",
      "[[3.67e-02 1.80e+02 1.30e-02]] [0.6919496] float64 float64\n"
     ]
    },
    {
     "name": "stderr",
     "output_type": "stream",
     "text": [
      "/home/hgandhi/.local/lib/python3.7/site-packages/sklearn/gaussian_process/_gpr.py:506: ConvergenceWarning: lbfgs failed to converge (status=2):\n",
      "ABNORMAL_TERMINATION_IN_LNSRCH.\n",
      "\n",
      "Increase the number of iterations (max_iter) or scale the data as shown in:\n",
      "    https://scikit-learn.org/stable/modules/preprocessing.html\n",
      "  _check_optimize_result(\"lbfgs\", opt_res)\n"
     ]
    },
    {
     "name": "stdout",
     "output_type": "stream",
     "text": [
      "Accuracy after query 54: 0.9973\n",
      "2.106840349149151\n",
      "[[1.56e-02 1.80e+02 1.00e-02]] [2.195084] float64 float64\n"
     ]
    },
    {
     "name": "stderr",
     "output_type": "stream",
     "text": [
      "/home/hgandhi/.local/lib/python3.7/site-packages/sklearn/gaussian_process/_gpr.py:506: ConvergenceWarning: lbfgs failed to converge (status=2):\n",
      "ABNORMAL_TERMINATION_IN_LNSRCH.\n",
      "\n",
      "Increase the number of iterations (max_iter) or scale the data as shown in:\n",
      "    https://scikit-learn.org/stable/modules/preprocessing.html\n",
      "  _check_optimize_result(\"lbfgs\", opt_res)\n"
     ]
    },
    {
     "name": "stdout",
     "output_type": "stream",
     "text": [
      "Accuracy after query 55: 0.9973\n",
      "2.0580639625384993\n",
      "[[9.37e-02 1.68e+02 1.30e-02]] [0.14191486] float64 float64\n",
      "Accuracy after query 56: 0.9974\n",
      "1.9944172267558538\n",
      "[[5.78e-02 1.80e+02 1.67e-02]] [0.45739357] float64 float64\n",
      "Accuracy after query 57: 0.9975\n",
      "1.8205752011503011\n",
      "[[0.0789 1.     0.005 ]] [0.02518501] float64 float64\n",
      "Accuracy after query 58: 0.9976\n",
      "1.7855748138719716\n",
      "[[0.0493 1.     0.005 ]] [0.06423145] float64 float64\n",
      "Accuracy after query 59: 0.9976\n",
      "1.7336285855419675\n",
      "[[2.61e-02 1.80e+02 2.00e-02]] [2.1691781] float64 float64\n",
      "Accuracy after query 60: 0.9976\n",
      "1.6950270821622015\n",
      "[[2.61e-02 2.00e+01 5.00e-03]] [0.24605109] float64 float64\n"
     ]
    },
    {
     "name": "stderr",
     "output_type": "stream",
     "text": [
      "/home/hgandhi/.local/lib/python3.7/site-packages/sklearn/gaussian_process/_gpr.py:506: ConvergenceWarning: lbfgs failed to converge (status=2):\n",
      "ABNORMAL_TERMINATION_IN_LNSRCH.\n",
      "\n",
      "Increase the number of iterations (max_iter) or scale the data as shown in:\n",
      "    https://scikit-learn.org/stable/modules/preprocessing.html\n",
      "  _check_optimize_result(\"lbfgs\", opt_res)\n"
     ]
    },
    {
     "name": "stdout",
     "output_type": "stream",
     "text": [
      "Accuracy after query 61: 0.9977\n",
      "1.66153512511846\n",
      "[[0.081 1.    0.011]] [0.05293508] float64 float64\n",
      "Accuracy after query 62: 0.9978\n",
      "1.6012182342997778\n",
      "[[0.0557 1.     0.005 ]] [0.05047662] float64 float64\n"
     ]
    },
    {
     "name": "stderr",
     "output_type": "stream",
     "text": [
      "/home/hgandhi/.local/lib/python3.7/site-packages/sklearn/gaussian_process/_gpr.py:506: ConvergenceWarning: lbfgs failed to converge (status=2):\n",
      "ABNORMAL_TERMINATION_IN_LNSRCH.\n",
      "\n",
      "Increase the number of iterations (max_iter) or scale the data as shown in:\n",
      "    https://scikit-learn.org/stable/modules/preprocessing.html\n",
      "  _check_optimize_result(\"lbfgs\", opt_res)\n"
     ]
    },
    {
     "name": "stdout",
     "output_type": "stream",
     "text": [
      "Accuracy after query 63: 0.9978\n",
      "1.5730039017549033\n",
      "[[8.73e-02 1.80e+02 1.20e-02]] [0.14830043] float64 float64\n",
      "Accuracy after query 64: 0.9979\n",
      "64_8 done with accuracy 0.9979080580287624\n"
     ]
    },
    {
     "name": "stderr",
     "output_type": "stream",
     "text": [
      "/home/hgandhi/.local/lib/python3.7/site-packages/sklearn/gaussian_process/kernels.py:418: ConvergenceWarning: The optimal value found for dimension 1 of parameter length_scale is close to the specified upper bound 100000.0. Increasing the bound and calling fit again may find a better value.\n",
      "  ConvergenceWarning)\n"
     ]
    },
    {
     "name": "stdout",
     "output_type": "stream",
     "text": [
      "0.5438158539242371\n",
      "[[0.005 1.    0.005]] [6.2256936] float64 float64\n",
      "Accuracy after query 1: 0.7964\n",
      "2.3923056898189174\n",
      "[[9.37e-02 1.80e+02 9.00e-03]] [0.08911485] float64 float64\n"
     ]
    },
    {
     "name": "stderr",
     "output_type": "stream",
     "text": [
      "/home/hgandhi/.local/lib/python3.7/site-packages/sklearn/gaussian_process/kernels.py:418: ConvergenceWarning: The optimal value found for dimension 1 of parameter length_scale is close to the specified upper bound 100000.0. Increasing the bound and calling fit again may find a better value.\n",
      "  ConvergenceWarning)\n",
      "/home/hgandhi/.local/lib/python3.7/site-packages/sklearn/gaussian_process/kernels.py:418: ConvergenceWarning: The optimal value found for dimension 1 of parameter length_scale is close to the specified upper bound 100000.0. Increasing the bound and calling fit again may find a better value.\n",
      "  ConvergenceWarning)\n"
     ]
    },
    {
     "name": "stdout",
     "output_type": "stream",
     "text": [
      "Accuracy after query 2: 0.8986\n",
      "1.4239873040669924\n",
      "[[0.0493 1.     0.005 ]] [0.06423145] float64 float64\n",
      "Accuracy after query 3: 0.9363\n",
      "0.6255987902950658\n",
      "[[0.0177 1.     0.005 ]] [0.49982412] float64 float64\n",
      "Accuracy after query 4: 0.9490\n",
      "2.070501340112845\n",
      "[[6.2e-02 1.8e+02 5.0e-03]] [0.08180235] float64 float64\n",
      "Accuracy after query 5: 0.9620\n",
      "1.9869259169525526\n",
      "[[1.13e-02 1.68e+02 1.80e-02]] [7.7200895] float64 float64\n"
     ]
    },
    {
     "name": "stderr",
     "output_type": "stream",
     "text": [
      "/home/hgandhi/.local/lib/python3.7/site-packages/sklearn/gaussian_process/kernels.py:418: ConvergenceWarning: The optimal value found for dimension 2 of parameter length_scale is close to the specified upper bound 100000.0. Increasing the bound and calling fit again may find a better value.\n",
      "  ConvergenceWarning)\n"
     ]
    },
    {
     "name": "stdout",
     "output_type": "stream",
     "text": [
      "Accuracy after query 6: 0.9511\n",
      "2.4966350095245136\n",
      "[[0.0873 1.     0.02  ]] [0.08364167] float64 float64\n",
      "Accuracy after query 7: 0.9619\n",
      "2.221143441572489\n",
      "[[4.3e-02 1.8e+02 1.5e-02]] [0.64255309] float64 float64\n",
      "Accuracy after query 8: 0.9666\n",
      "2.0361471806996625\n",
      "[[0.0683 1.     0.02  ]] [0.13615129] float64 float64\n",
      "Accuracy after query 9: 0.9724\n",
      "1.6075889293268064\n",
      "[[0.0367 1.     0.02  ]] [0.46941925] float64 float64\n",
      "Accuracy after query 10: 0.9755\n",
      "1.5546206139119088\n",
      "[[7.89e-02 1.80e+02 2.00e-02]] [0.35024253] float64 float64\n",
      "Accuracy after query 11: 0.9784\n",
      "1.3155704746719796\n",
      "[[0.1   1.    0.005]] [0.01569931] float64 float64\n"
     ]
    },
    {
     "name": "stderr",
     "output_type": "stream",
     "text": [
      "/home/hgandhi/.local/lib/python3.7/site-packages/sklearn/gaussian_process/kernels.py:418: ConvergenceWarning: The optimal value found for dimension 1 of parameter length_scale is close to the specified upper bound 100000.0. Increasing the bound and calling fit again may find a better value.\n",
      "  ConvergenceWarning)\n"
     ]
    },
    {
     "name": "stdout",
     "output_type": "stream",
     "text": [
      "Accuracy after query 12: 0.9815\n",
      "1.58272678052358\n",
      "[[0.0557 1.     0.02  ]] [0.20438557] float64 float64\n"
     ]
    },
    {
     "name": "stderr",
     "output_type": "stream",
     "text": [
      "/home/hgandhi/.local/lib/python3.7/site-packages/sklearn/gaussian_process/kernels.py:418: ConvergenceWarning: The optimal value found for dimension 1 of parameter length_scale is close to the specified upper bound 100000.0. Increasing the bound and calling fit again may find a better value.\n",
      "  ConvergenceWarning)\n"
     ]
    },
    {
     "name": "stdout",
     "output_type": "stream",
     "text": [
      "Accuracy after query 13: 0.9836\n",
      "1.486101242063063\n",
      "[[2.40e-02 1.68e+02 2.00e-02]] [2.4188154] float64 float64\n",
      "Accuracy after query 14: 0.9817\n",
      "0.9273682795240061\n",
      "[[5.0e-03 1.8e+02 5.0e-03]] [8.3882479] float64 float64\n",
      "Accuracy after query 15: 0.9797\n",
      "0.7733492412808574\n",
      "[[0.0261 1.     0.02  ]] [0.9214029] float64 float64\n"
     ]
    },
    {
     "name": "stderr",
     "output_type": "stream",
     "text": [
      "/home/hgandhi/.local/lib/python3.7/site-packages/sklearn/gaussian_process/kernels.py:409: ConvergenceWarning: The optimal value found for dimension 0 of parameter length_scale is close to the specified lower bound 1e-05. Decreasing the bound and calling fit again may find a better value.\n",
      "  ConvergenceWarning)\n"
     ]
    },
    {
     "name": "stdout",
     "output_type": "stream",
     "text": [
      "Accuracy after query 16: 0.9807\n",
      "2.625992690723784\n",
      "[[0.0156 1.     0.005 ]] [0.64454992] float64 float64\n",
      "Accuracy after query 17: 0.9820\n",
      "0.8712909874790161\n",
      "[[5.57e-02 1.80e+02 1.50e-02]] [0.41922174] float64 float64\n",
      "Accuracy after query 18: 0.9834\n",
      "0.7660718447802601\n",
      "[[8.73e-02 1.08e+02 6.00e-03]] [0.05030067] float64 float64\n",
      "Accuracy after query 19: 0.9850\n",
      "0.7171228652656316\n",
      "[[6.83e-02 1.80e+02 2.00e-02]] [0.44351932] float64 float64\n",
      "Accuracy after query 20: 0.9860\n",
      "0.6510723946235004\n",
      "[[4.93e-02 1.08e+02 2.00e-02]] [0.65166283] float64 float64\n"
     ]
    },
    {
     "name": "stderr",
     "output_type": "stream",
     "text": [
      "/home/hgandhi/.local/lib/python3.7/site-packages/sklearn/gaussian_process/kernels.py:418: ConvergenceWarning: The optimal value found for dimension 2 of parameter length_scale is close to the specified upper bound 100000.0. Increasing the bound and calling fit again may find a better value.\n",
      "  ConvergenceWarning)\n"
     ]
    },
    {
     "name": "stdout",
     "output_type": "stream",
     "text": [
      "Accuracy after query 21: 0.9867\n",
      "0.608500676173909\n",
      "[[6.2e-02 7.2e+01 5.0e-03]] [0.06835921] float64 float64\n",
      "Accuracy after query 22: 0.9878\n",
      "0.5795716592117116\n",
      "[[9.37e-02 4.80e+01 2.00e-02]] [0.19357198] float64 float64\n",
      "Accuracy after query 23: 0.9887\n",
      "0.5355806677310835\n",
      "[[3.67e-02 1.08e+02 6.00e-03]] [0.22934454] float64 float64\n",
      "Accuracy after query 24: 0.9895\n",
      "0.5309666780976258\n",
      "[[0.081 1.    0.005]] [0.0238934] float64 float64\n",
      "Accuracy after query 25: 0.9903\n",
      "0.5170988125366085\n",
      "[[1.77e-02 1.08e+02 5.00e-03]] [0.68303447] float64 float64\n",
      "Accuracy after query 26: 0.9906\n",
      "0.7506317958867287\n",
      "[[0.043 1.    0.005]] [0.08449803] float64 float64\n",
      "Accuracy after query 27: 0.9912\n",
      "0.7130741276130199\n",
      "[[8.94e-02 1.80e+02 2.00e-02]] [0.28744725] float64 float64\n",
      "Accuracy after query 28: 0.9917\n",
      "0.9654455942851343\n",
      "[[0.005 1.    0.02 ]] [24.93754] float64 float64\n",
      "Accuracy after query 29: 0.9951\n",
      "4.6442103930420995\n",
      "[[0.005 1.    0.011]] [13.702611] float64 float64\n",
      "Accuracy after query 30: 0.9942\n",
      "2.9886600848596125\n",
      "[[2.61e-02 2.00e+01 5.00e-03]] [0.24605109] float64 float64\n",
      "Accuracy after query 31: 0.9945\n",
      "2.6156161942091534\n",
      "[[6.83e-02 1.80e+02 5.00e-03]] [0.0692739] float64 float64\n",
      "Accuracy after query 32: 0.9948\n",
      "2.0374248297379283\n",
      "[[1.0e-01 1.8e+02 5.0e-03]] [0.03644257] float64 float64\n",
      "Accuracy after query 33: 0.9951\n",
      "1.9583543313723881\n",
      "[[4.72e-02 1.80e+02 5.00e-03]] [0.13099462] float64 float64\n",
      "Accuracy after query 34: 0.9954\n",
      "4.577876373177688\n",
      "[[4.93e-02 1.20e+01 1.00e-02]] [0.14402872] float64 float64\n",
      "Accuracy after query 35: 0.9956\n",
      "2.1369505435286418\n",
      "[[0.0177 1.     0.02  ]] [2.006859] float64 float64\n",
      "Accuracy after query 36: 0.9956\n",
      "1.9877991961448218\n",
      "[[6.20e-02 1.68e+02 2.00e-02]] [0.50562035] float64 float64\n",
      "Accuracy after query 37: 0.9958\n",
      "1.7843556116844528\n",
      "[[7.47e-02 1.80e+02 5.00e-03]] [0.05958329] float64 float64\n",
      "Accuracy after query 38: 0.9960\n",
      "1.7154980766443433\n",
      "[[5.57e-02 1.80e+02 5.00e-03]] [0.09846187] float64 float64\n",
      "Accuracy after query 39: 0.9962\n",
      "1.5063805560963155\n",
      "[[8.1e-02 1.8e+02 1.3e-02]] [0.1855183] float64 float64\n",
      "Accuracy after query 40: 0.9964\n",
      "1.4672794560930476\n",
      "[[3.03e-02 1.80e+02 5.00e-03]] [0.28717414] float64 float64\n",
      "Accuracy after query 41: 0.9965\n",
      "1.4377928271854656\n",
      "[[2.4e-02 1.8e+02 1.2e-02]] [1.2833279] float64 float64\n",
      "Accuracy after query 42: 0.9966\n",
      "1.338008410803122\n",
      "[[1.13e-02 1.80e+02 5.00e-03]] [1.7531244] float64 float64\n",
      "Accuracy after query 43: 0.9966\n",
      "1.2936201369359253\n",
      "[[0.1   1.    0.013]] [0.04124783] float64 float64\n",
      "Accuracy after query 44: 0.9967\n",
      "1.2607386075948763\n",
      "[[0.043 1.    0.02 ]] [0.34107169] float64 float64\n",
      "Accuracy after query 45: 0.9968\n",
      "1.217326215530196\n",
      "[[0.062 1.    0.013]] [0.10665302] float64 float64\n",
      "Accuracy after query 46: 0.9969\n",
      "1.149788685138903\n",
      "[[1.56e-02 1.80e+02 1.33e-02]] [3.1157872] float64 float64\n",
      "Accuracy after query 47: 0.9968\n",
      "1.141364721775973\n",
      "[[7.44e-02 1.80e+02 2.00e-02]] [0.39052612] float64 float64\n",
      "Accuracy after query 48: 0.9969\n",
      "1.1224748594748266\n",
      "[[0.0937 1.     0.005 ]] [0.01788529] float64 float64\n",
      "Accuracy after query 49: 0.9971\n",
      "1.084005358887183\n",
      "[[0.0303 1.     0.011 ]] [0.3743822] float64 float64\n",
      "Accuracy after query 50: 0.9972\n",
      "1.052658407143086\n",
      "[[0.0894 1.     0.0133]] [0.05281744] float64 float64\n",
      "Accuracy after query 51: 0.9973\n",
      "1.0199083745651105\n",
      "[[0.0683 1.     0.012 ]] [0.08106009] float64 float64\n",
      "Accuracy after query 52: 0.9974\n",
      "0.9743623257563856\n",
      "[[3.67e-02 1.80e+02 1.33e-02]] [0.71556517] float64 float64\n",
      "Accuracy after query 53: 0.9974\n",
      "0.9293628206552327\n",
      "[[0.0113 1.     0.012 ]] [2.9146265] float64 float64\n",
      "Accuracy after query 54: 0.9973\n",
      "0.937995974458923\n",
      "[[0.081 1.    0.02 ]] [0.09732112] float64 float64\n",
      "Accuracy after query 55: 0.9974\n",
      "0.89705061237454\n",
      "[[0.0578 1.     0.01  ]] [0.09417394] float64 float64\n",
      "Accuracy after query 56: 0.9975\n",
      "0.8069821793637656\n",
      "[[7.89e-02 1.80e+02 5.00e-03]] [0.0542843] float64 float64\n",
      "Accuracy after query 57: 0.9976\n",
      "0.787383730510994\n",
      "[[2.4e-02 1.8e+02 5.0e-03]] [0.43876606] float64 float64\n",
      "Accuracy after query 58: 0.9977\n",
      "0.7637838794820259\n",
      "[[8.73e-02 1.80e+02 1.40e-02]] [0.18382047] float64 float64\n",
      "Accuracy after query 59: 0.9977\n",
      "0.7518981357168494\n",
      "[[5.78e-02 1.80e+02 2.00e-02]] [0.58552405] float64 float64\n",
      "Accuracy after query 60: 0.9978\n",
      "0.74108166675039\n",
      "[[0.0472 1.     0.015 ]] [0.21185507] float64 float64\n",
      "Accuracy after query 61: 0.9978\n",
      "0.7252116255575078\n",
      "[[1.56e-02 1.80e+02 2.00e-02]] [5.1933389] float64 float64\n",
      "Accuracy after query 62: 0.9977\n",
      "0.7349438916472061\n",
      "[[0.0789 1.     0.0117]] [0.05921104] float64 float64\n",
      "Accuracy after query 63: 0.9978\n",
      "0.7214355304493496\n",
      "[[5.00e-03 1.80e+02 1.67e-02]] [31.692917] float64 float64\n",
      "Accuracy after query 64: 0.9980\n",
      "64_9 done with accuracy 0.9980462589904421\n"
     ]
    }
   ],
   "source": [
    "input_file = 'train.dat'\n",
    "rho = 998 # [kg m^-3]\n",
    "muo = 9.737e-4 # [Pa s]\n",
    "data = pd.read_csv(input_file, delimiter=',')\n",
    "\n",
    "for i, j in enumerate(np.arange(64, 65, 1)):\n",
    "    for k in range(10):\n",
    "        X_train, y_train, X_pool, y_pool = sample_initial_training_points(data)\n",
    "        regressor_3d = active_learner(X_train, y_train)\n",
    "        N_QUERIES = j\n",
    "        Xs, ys, X_test, y_test, model_accuracy = query_data(N_QUERIES, X_pool, y_pool, regressor_3d)\n",
    "        directory = create_train_dat(N_QUERIES, Xs, ys, iteration=k)\n",
    "        create_test_dat(directory, X_test, y_test)\n",
    "        print(f'{N_QUERIES}_{k} done with accuracy {model_accuracy}')\n",
    "    "
   ]
  },
  {
   "cell_type": "code",
   "execution_count": null,
   "metadata": {},
   "outputs": [],
   "source": []
  },
  {
   "cell_type": "code",
   "execution_count": 12,
   "metadata": {},
   "outputs": [
    {
     "data": {
      "text/plain": [
       "(array([39.16921298,  6.2256936 ,  0.05801333,  9.9628509 ,  1.4551755 ,\n",
       "        22.43890801, 12.45573   , 25.94080001,  0.06910459,  8.3015823 ]),\n",
       " array([7.77876061e-05, 7.77876492e-05, 7.77877356e-05, 7.77878651e-05,\n",
       "        7.77879515e-05, 7.77876924e-05, 7.77877356e-05, 7.77876924e-05,\n",
       "        7.77878651e-05, 7.77877788e-05]))"
      ]
     },
     "execution_count": 12,
     "metadata": {},
     "output_type": "execute_result"
    }
   ],
   "source": [
    "pred, std = regressor_3d.predict(Xs.reshape(-1,3), return_std = True) \n",
    "# pred = regressor_3d.predict(x.reshape(-1,3))\n",
    "# std = RF_regression_std(regressor_3d, x.reshape(-1,3), return_std=True)\n",
    "pred[:10], std[:10]"
   ]
  },
  {
   "cell_type": "code",
   "execution_count": 13,
   "metadata": {},
   "outputs": [
    {
     "data": {
      "image/png": "[encoded data removed]",
      "text/plain": [
       "<Figure size 432x288 with 1 Axes>"
      ]
     },
     "metadata": {},
     "output_type": "display_data"
    },
    {
     "data": {
      "text/plain": [
       "<Figure size 432x288 with 0 Axes>"
      ]
     },
     "metadata": {},
     "output_type": "display_data"
    }
   ],
   "source": [
    "# plotting after active learning\n",
    "with plt.style.context('seaborn-white'):\n",
    "    plt.figure(figsize=(6, 4))\n",
    "    plt.scatter(Xs[:,1], pred, label='predicted', alpha=0.5)\n",
    "#     plt.fill_between(x[:, 1], pred-std, pred+std, alpha=0.2)\n",
    "    plt.scatter(Xs[1:,1], ys[1:], c ='r', label='CFD', alpha=0.3)\n",
    "    # plt.scatter(X_train[:,1], y_train, c='k', label='CFD calc')\n",
    "    plt.title(f'Estimation after {N_QUERIES} queries')\n",
    "    plt.xlabel('Bend Angle (degrees)')\n",
    "    plt.ylabel(r'Predicted $\\Delta P/L$')\n",
    "    plt.legend()\n",
    "    plt.show()\n",
    "    plt.savefig('final_{N_QUERIES}_queries_bendangle.svg')"
   ]
  },
  {
   "cell_type": "code",
   "execution_count": 14,
   "metadata": {},
   "outputs": [
    {
     "data": {
      "image/png": "[encoded data removed]",
      "text/plain": [
       "<Figure size 432x288 with 1 Axes>"
      ]
     },
     "metadata": {},
     "output_type": "display_data"
    },
    {
     "data": {
      "text/plain": [
       "<Figure size 432x288 with 0 Axes>"
      ]
     },
     "metadata": {},
     "output_type": "display_data"
    }
   ],
   "source": [
    "# plotting after active learning\n",
    "with plt.style.context('seaborn-white'):\n",
    "    plt.figure(figsize=(6, 4))\n",
    "    plt.scatter(Xs[1:,0], pred[1:], label='predicted', alpha=0.5)\n",
    "#     plt.fill_between(x[:, 0], pred-std, pred+std, alpha=0.2)\n",
    "    plt.scatter(Xs[1:,0], ys[1:], c ='r', label='CFD', alpha=0.3)\n",
    "    #plt.scatter(X_raw[:,0], y_raw, c='k', label='CFD calc')\n",
    "    plt.title(f'Estimation after {N_QUERIES} queries')\n",
    "    plt.xlabel('pipe diameter (m)')\n",
    "    plt.ylabel(r'Predicted $\\Delta P/L$')\n",
    "    plt.legend()\n",
    "    plt.show()\n",
    "    plt.savefig(f'final_{N_QUERIES}_queries_pipeD.svg')"
   ]
  },
  {
   "cell_type": "code",
   "execution_count": 15,
   "metadata": {},
   "outputs": [
    {
     "data": {
      "image/png": "[encoded data removed]",
      "text/plain": [
       "<Figure size 432x288 with 1 Axes>"
      ]
     },
     "metadata": {},
     "output_type": "display_data"
    },
    {
     "data": {
      "text/plain": [
       "<Figure size 432x288 with 0 Axes>"
      ]
     },
     "metadata": {},
     "output_type": "display_data"
    }
   ],
   "source": [
    "# plotting after active learning\n",
    "with plt.style.context('seaborn-white'):\n",
    "    plt.figure(figsize=(6, 4))\n",
    "    plt.scatter(Xs[:,2], pred, label='predicted', alpha=0.5)\n",
    "#     plt.fill_between(x[:, 2], pred-std, pred+std, alpha=0.2)\n",
    "    plt.scatter(Xs[1:,2], ys[1:], c ='r', label='CFD', alpha=0.3)\n",
    "#     plt.scatter(X_raw[:,2], y_raw, c='k', label='CFD calc')\n",
    "    plt.title(f'Estimation after {N_QUERIES} queries')\n",
    "    plt.xlabel('Inlet velocity (m/s)')\n",
    "    plt.ylabel(r'Predicted $\\Delta P/L$')\n",
    "    plt.legend()\n",
    "    plt.show()\n",
    "    plt.savefig(f'final_{N_QUERIES}_queries_inletV.svg')"
   ]
  },
  {
   "cell_type": "code",
   "execution_count": 16,
   "metadata": {},
   "outputs": [
    {
     "data": {
      "image/png": "[encoded data removed]",
      "text/plain": [
       "<Figure size 432x288 with 1 Axes>"
      ]
     },
     "metadata": {},
     "output_type": "display_data"
    },
    {
     "data": {
      "text/plain": [
       "72.29169216098018"
      ]
     },
     "execution_count": 16,
     "metadata": {},
     "output_type": "execute_result"
    },
    {
     "data": {
      "text/plain": [
       "<Figure size 432x288 with 0 Axes>"
      ]
     },
     "metadata": {},
     "output_type": "display_data"
    }
   ],
   "source": [
    "pred_test= regressor_3d.predict(X_pool.reshape(-1,3))\n",
    "rmse_test = np.sqrt(np.sum((y_pool - pred_test)**2))\n",
    "# plotting after active learning\n",
    "with plt.style.context('seaborn-white'):\n",
    "    plt.figure(figsize=(6, 4))\n",
    "    plt.scatter(X_pool[:,1], y_pool, c ='r', label='CFD', alpha=0.3)\n",
    "    plt.scatter(X_pool[:,1], pred_test, label='predicted', alpha=0.5)\n",
    "#     plt.fill_between(x[:, 1], pred-std, pred+std, alpha=0.2)\n",
    "    # plt.scatter(X_train[:,1], y_train, c='k', label='CFD calc')\n",
    "    plt.title(f'Estimation after {N_QUERIES} queries')\n",
    "    plt.xlabel('Bend Angle (degrees)')\n",
    "    plt.ylabel(r'Predicted $\\Delta P/L$')\n",
    "    plt.legend()\n",
    "    plt.show()\n",
    "    plt.savefig('final_{N_QUERIES}_queries_bendangle.svg')\n",
    "rmse_test"
   ]
  },
  {
   "cell_type": "code",
   "execution_count": 17,
   "metadata": {},
   "outputs": [
    {
     "data": {
      "image/png": "[encoded data removed]",
      "text/plain": [
       "<Figure size 432x288 with 1 Axes>"
      ]
     },
     "metadata": {},
     "output_type": "display_data"
    },
    {
     "data": {
      "text/plain": [
       "72.29169216098018"
      ]
     },
     "execution_count": 17,
     "metadata": {},
     "output_type": "execute_result"
    },
    {
     "data": {
      "text/plain": [
       "<Figure size 432x288 with 0 Axes>"
      ]
     },
     "metadata": {},
     "output_type": "display_data"
    }
   ],
   "source": [
    "with plt.style.context('seaborn-white'):\n",
    "    plt.figure(figsize=(6, 4))\n",
    "    plt.scatter(X_pool[:,0], y_pool, c ='r', label='CFD', alpha=0.1)\n",
    "    plt.scatter(X_pool[:,0], pred_test, label='predicted', alpha=0.5)\n",
    "#     plt.fill_between(x[:, 1], pred-std, pred+std, alpha=0.2)\n",
    "    # plt.scatter(X_train[:,1], y_train, c='k', label='CFD calc')\n",
    "#     plt.title(f'Estimation after {N_QUERIES} queries')\n",
    "    plt.xlabel('Pipe D (m)')\n",
    "    plt.ylabel(r'Predicted $\\Delta P/L$')\n",
    "    plt.legend()\n",
    "    plt.show()\n",
    "    plt.savefig('final_{N_QUERIES}_queries_d.svg')\n",
    "\n",
    "rmse_test = np.sqrt(np.sum((y_pool - pred_test)**2))\n",
    "rmse_test"
   ]
  },
  {
   "cell_type": "markdown",
   "metadata": {},
   "source": [
    "## Test analytic function with noise"
   ]
  },
  {
   "cell_type": "code",
   "execution_count": 39,
   "metadata": {},
   "outputs": [
    {
     "data": {
      "text/plain": [
       "(array([[ 0.78539816,  0.78539816,  0.78539816],\n",
       "        [-0.78539816, -0.78539816, -0.78539816],\n",
       "        [-1.83259571, -1.83259571, -1.83259571],\n",
       "        [-2.0943951 , -2.0943951 , -2.0943951 ],\n",
       "        [-2.61799388, -2.61799388, -2.61799388]]),\n",
       " array([ 2.58959936, -0.53032894, -1.40069386, -2.07159817, -1.58376185]))"
      ]
     },
     "execution_count": 39,
     "metadata": {},
     "output_type": "execute_result"
    }
   ],
   "source": [
    "X = np.linspace(-np.pi, np.pi, 25)\n",
    "\n",
    "X_raw = np.column_stack((X, X, X))\n",
    "y_raw = np.sin(X_raw[:,0]) + np.cos(X_raw[:,1]) + np.sin(X_raw[:,2]) + np.random.random(size=X_raw.shape[0])\n",
    "\n",
    "n_labeled_examples = X_raw.shape[0]\n",
    "training_indices = np.random.randint(low=0, high=n_labeled_examples, size=5)\n",
    "\n",
    "X_train = X_raw[training_indices]\n",
    "y_train = y_raw[training_indices]\n",
    "\n",
    "# Isolate the non-training examples we'll be querying.\n",
    "X_pool = np.delete(X_raw, training_indices, axis=0)\n",
    "y_pool = np.delete(y_raw, training_indices, axis=0)\n",
    "\n",
    "X_train, y_train"
   ]
  },
  {
   "cell_type": "code",
   "execution_count": 40,
   "metadata": {},
   "outputs": [],
   "source": [
    "def GP_regression_std(regressor, X):\n",
    "    _, std = regressor.predict(X, return_std=True)\n",
    "    return np.argmax(std)\n",
    "\n",
    "kernel = Matern(length_scale=2.0)\n",
    "regressor = GaussianProcessRegressor(kernel=kernel)\n",
    "\n",
    "regressor_3d = BayesianOptimizer(\n",
    "    estimator=regressor,\n",
    "    query_strategy=max_EI,\n",
    "    X_training=X_train, y_training=y_train\n",
    ")"
   ]
  },
  {
   "cell_type": "code",
   "execution_count": 41,
   "metadata": {},
   "outputs": [],
   "source": [
    "x_1d = np.linspace(-np.pi, np.pi, 1000)\n",
    "x = np.column_stack((x_1d, x_1d, x_1d))"
   ]
  },
  {
   "cell_type": "code",
   "execution_count": 42,
   "metadata": {},
   "outputs": [
    {
     "data": {
      "image/png": "[encoded data removed]",
      "text/plain": [
       "<Figure size 576x360 with 1 Axes>"
      ]
     },
     "metadata": {},
     "output_type": "display_data"
    },
    {
     "data": {
      "text/plain": [
       "<Figure size 432x288 with 0 Axes>"
      ]
     },
     "metadata": {},
     "output_type": "display_data"
    }
   ],
   "source": [
    "pred_init, std_init = regressor_3d.predict(x.reshape(-1,3), return_std = True) \n",
    "\n",
    "with plt.style.context('seaborn-white'):\n",
    "    plt.figure(figsize=(8, 5))\n",
    "    plt.plot(x[:,1], pred_init, label='predicted')\n",
    "    plt.fill_between(x[:, 1], pred_init-std_init, pred_init+std_init, alpha=0.2)\n",
    "    plt.scatter(X_raw[:,1], y_raw, c='k', label='Analytic func') # label='CFD calc')\n",
    "    plt.title('Initial Estimation')\n",
    "    plt.xlabel('Bend Angle')\n",
    "    plt.ylabel(r'Predicted $\\Delta P/L$')\n",
    "    plt.legend()\n",
    "    plt.show()\n",
    "    plt.savefig('Init_known_func.svg')"
   ]
  },
  {
   "cell_type": "code",
   "execution_count": 43,
   "metadata": {},
   "outputs": [
    {
     "name": "stdout",
     "output_type": "stream",
     "text": [
      "Accuracy after query 1: 0.8467\n",
      "Accuracy after query 2: 0.8364\n",
      "Accuracy after query 3: 0.9114\n",
      "Accuracy after query 4: 0.9019\n",
      "Accuracy after query 5: 0.9164\n",
      "Accuracy after query 6: 0.9437\n",
      "Accuracy after query 7: 0.9630\n",
      "Accuracy after query 8: 0.9627\n",
      "Accuracy after query 9: 0.9750\n",
      "Accuracy after query 10: 0.9701\n"
     ]
    }
   ],
   "source": [
    "N_QUERIES = 10\n",
    "#performance_history = [unqueried_score]\n",
    "\n",
    "# Allow our model to query our unlabeled dataset for the most\n",
    "# informative points according to our query strategy (uncertainty sampling).\n",
    "for index in range(N_QUERIES):\n",
    "    query_index, query_instance = regressor_3d.query(X_pool)\n",
    "\n",
    "    # Teach our ActiveLearner model the record it has requested.\n",
    "    X, y = X_pool[query_index].reshape(-1, 3), y_pool[query_index].reshape(1, )\n",
    "    regressor_3d.teach(X=X, y=y)\n",
    "\n",
    "    # Remove the queried instance from the unlabeled pool.\n",
    "    X_pool, y_pool = np.delete(X_pool, query_index, axis=0), np.delete(y_pool, query_index)\n",
    "\n",
    "    # Calculate and report our model's accuracy.\n",
    "    model_accuracy = regressor_3d.score(X_raw.reshape(-1,3), y_raw.reshape(-1, 1))\n",
    "    print('Accuracy after query {n}: {acc:0.4f}'.format(n=index + 1, acc=model_accuracy))\n",
    "\n",
    "    # Save our model's performance for plotting.\n",
    "    #performance_history.append(model_accuracy)"
   ]
  },
  {
   "cell_type": "code",
   "execution_count": 44,
   "metadata": {},
   "outputs": [
    {
     "data": {
      "image/png": "[encoded data removed]",
      "text/plain": [
       "<Figure size 576x360 with 1 Axes>"
      ]
     },
     "metadata": {},
     "output_type": "display_data"
    },
    {
     "data": {
      "text/plain": [
       "<Figure size 432x288 with 0 Axes>"
      ]
     },
     "metadata": {},
     "output_type": "display_data"
    }
   ],
   "source": [
    "pred_final, std_final = regressor_3d.predict(x.reshape(-1,3), return_std = True) \n",
    "\n",
    "with plt.style.context('seaborn-white'):\n",
    "    plt.figure(figsize=(8, 5))\n",
    "    plt.plot(x[:,1], pred_final, label='predicted')\n",
    "    plt.fill_between(x[:, 1], pred_final-std_final, pred_final+std_final, alpha=0.2)\n",
    "    plt.scatter(X_raw[:,1], y_raw, c='k', label='Analytic func') # label='CFD calc')\n",
    "    plt.title(f'Estimation after {N_QUERIES} queries')\n",
    "    plt.xlabel('Bend Angle')\n",
    "    plt.ylabel(r'Predicted $\\Delta P/L$')\n",
    "    plt.legend()\n",
    "    plt.show()\n",
    "    plt.savefig('Init_known_func.svg')"
   ]
  }
 ],
 "metadata": {
  "kernelspec": {
   "display_name": "Python 3",
   "language": "python",
   "name": "python3"
  },
  "language_info": {
   "codemirror_mode": {
    "name": "ipython",
    "version": 3
   },
   "file_extension": ".py",
   "mimetype": "text/x-python",
   "name": "python",
   "nbconvert_exporter": "python",
   "pygments_lexer": "ipython3",
   "version": "3.7.4"
  }
 },
 "nbformat": 4,
 "nbformat_minor": 2
}
