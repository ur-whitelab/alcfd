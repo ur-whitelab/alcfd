{
 "cells": [
  {
   "cell_type": "code",
   "execution_count": 1,
   "metadata": {},
   "outputs": [],
   "source": [
    "import pandas as pd\n",
    "import numpy as np\n",
    "import sys\n",
    "sys.path.insert(1, '/gpfs/fs2/scratch/awhite38_lab/cfdsr/alcfd')\n",
    "import utilities as utils"
   ]
  },
  {
   "cell_type": "markdown",
   "metadata": {},
   "source": [
    "Defining input parameters"
   ]
  },
  {
   "cell_type": "code",
   "execution_count": 2,
   "metadata": {},
   "outputs": [],
   "source": [
    "pipe_D = np.array([0.1,0.02, 0.08, 0.5]) # [m]\n",
    "bend_angle = np.array([1, 1, 1, 1]) # [degrees]\n",
    "rho = np.array([1.225, 997, 997, 1.225]) # [kg m^-3]\n",
    "muo = np.array([1.7894e-5, 8.9e-4, 8.9e-4, 1.7894e-5]) # [Pa s]\n",
    "inlet_v = np.array([0.1, 0.05, 0.01, 0.05]) # [m/s]\n",
    "inlet_p = np.array([101325, 101325, 101325, 101325]) # [Pa]\n",
    "inputs = [pipe_D, bend_angle, rho, muo, inlet_v, inlet_p]"
   ]
  },
  {
   "cell_type": "code",
   "execution_count": 3,
   "metadata": {},
   "outputs": [
    {
     "name": "stdout",
     "output_type": "stream",
     "text": [
      "[ 684.58701241 1120.2247191   896.17977528 1711.46753102]\n"
     ]
    }
   ],
   "source": [
    "re_number = utils.check_laminar(pipe_D, rho, inlet_v, muo)\n",
    "print(re_number)"
   ]
  },
  {
   "cell_type": "code",
   "execution_count": 4,
   "metadata": {},
   "outputs": [
    {
     "name": "stdout",
     "output_type": "stream",
     "text": [
      "Model inputs are saved in:\n",
      " /gpfs/fs2/scratch/awhite38_lab/cfdsr/alcfd/examples/inputs_validation.txt\n",
      "Results are stored in:\n",
      " /gpfs/fs2/scratch/awhite38_lab/cfdsr/alcfd/examples/outputs_validation.txt.\n"
     ]
    },
    {
     "data": {
      "text/html": [
       "<div>\n",
       "<style scoped>\n",
       "    .dataframe tbody tr th:only-of-type {\n",
       "        vertical-align: middle;\n",
       "    }\n",
       "\n",
       "    .dataframe tbody tr th {\n",
       "        vertical-align: top;\n",
       "    }\n",
       "\n",
       "    .dataframe thead th {\n",
       "        text-align: right;\n",
       "    }\n",
       "</style>\n",
       "<table border=\"1\" class=\"dataframe\">\n",
       "  <thead>\n",
       "    <tr style=\"text-align: right;\">\n",
       "      <th></th>\n",
       "      <th>Pipe D</th>\n",
       "      <th>Elbow angle</th>\n",
       "      <th>Mesh size</th>\n",
       "      <th>Density</th>\n",
       "      <th>Viscosity</th>\n",
       "      <th>Inlet V</th>\n",
       "      <th>Inlet P</th>\n",
       "      <th>Pipe L/D</th>\n",
       "      <th>Del P/L</th>\n",
       "    </tr>\n",
       "  </thead>\n",
       "  <tbody>\n",
       "    <tr>\n",
       "      <th>0</th>\n",
       "      <td>0.10</td>\n",
       "      <td>1.0</td>\n",
       "      <td>0.005</td>\n",
       "      <td>1.225</td>\n",
       "      <td>0.000018</td>\n",
       "      <td>0.10</td>\n",
       "      <td>101325.0</td>\n",
       "      <td>10.0</td>\n",
       "      <td>0.005783</td>\n",
       "    </tr>\n",
       "    <tr>\n",
       "      <th>1</th>\n",
       "      <td>0.02</td>\n",
       "      <td>1.0</td>\n",
       "      <td>0.001</td>\n",
       "      <td>997.000</td>\n",
       "      <td>0.000890</td>\n",
       "      <td>0.05</td>\n",
       "      <td>101325.0</td>\n",
       "      <td>10.0</td>\n",
       "      <td>3.616446</td>\n",
       "    </tr>\n",
       "    <tr>\n",
       "      <th>2</th>\n",
       "      <td>0.08</td>\n",
       "      <td>1.0</td>\n",
       "      <td>0.004</td>\n",
       "      <td>997.000</td>\n",
       "      <td>0.000890</td>\n",
       "      <td>0.01</td>\n",
       "      <td>101325.0</td>\n",
       "      <td>10.0</td>\n",
       "      <td>0.045080</td>\n",
       "    </tr>\n",
       "    <tr>\n",
       "      <th>3</th>\n",
       "      <td>0.50</td>\n",
       "      <td>1.0</td>\n",
       "      <td>0.025</td>\n",
       "      <td>1.225</td>\n",
       "      <td>0.000018</td>\n",
       "      <td>0.05</td>\n",
       "      <td>101325.0</td>\n",
       "      <td>10.0</td>\n",
       "      <td>0.000117</td>\n",
       "    </tr>\n",
       "  </tbody>\n",
       "</table>\n",
       "</div>"
      ],
      "text/plain": [
       "   Pipe D  Elbow angle  Mesh size  Density  Viscosity  Inlet V   Inlet P  \\\n",
       "0    0.10          1.0      0.005    1.225   0.000018     0.10  101325.0   \n",
       "1    0.02          1.0      0.001  997.000   0.000890     0.05  101325.0   \n",
       "2    0.08          1.0      0.004  997.000   0.000890     0.01  101325.0   \n",
       "3    0.50          1.0      0.025    1.225   0.000018     0.05  101325.0   \n",
       "\n",
       "   Pipe L/D   Del P/L  \n",
       "0      10.0  0.005783  \n",
       "1      10.0  3.616446  \n",
       "2      10.0  0.045080  \n",
       "3      10.0  0.000117  "
      ]
     },
     "execution_count": 4,
     "metadata": {},
     "output_type": "execute_result"
    }
   ],
   "source": [
    "outputs = utils.run_model(*inputs, l_d_ratio=10, name='validation')\n",
    "outputs"
   ]
  },
  {
   "cell_type": "code",
   "execution_count": 5,
   "metadata": {},
   "outputs": [
    {
     "name": "stdout",
     "output_type": "stream",
     "text": [
      "[5.726080e-03 3.560000e+00 4.450000e-02 1.145216e-04]\n"
     ]
    }
   ],
   "source": [
    "del_pl_hp = utils.compute_Hagen_Poiseuille_del_PL(muo, inlet_v, pipe_D)   \n",
    "print(del_pl_hp)"
   ]
  },
  {
   "cell_type": "code",
   "execution_count": 6,
   "metadata": {},
   "outputs": [
    {
     "name": "stdout",
     "output_type": "stream",
     "text": [
      "Average error of the model is 1.52 %.\n"
     ]
    }
   ],
   "source": [
    "error  = np.mean((outputs['Del P/L'].values - del_pl_hp) / del_pl_hp *100)\n",
    "print(f'Average error of the model is {error :0.2f} %.')"
   ]
  },
  {
   "cell_type": "code",
   "execution_count": 7,
   "metadata": {},
   "outputs": [],
   "source": [
    "# from __future__ import print_function # Only Python 2.x\n",
    "# import subprocess\n",
    "\n",
    "# def execute(cmd):\n",
    "#     popen = subprocess.Popen(cmd, stdout=subprocess.PIPE, universal_newlines=True)\n",
    "#     for stdout_line in iter(popen.stdout.readline, \"\"):\n",
    "#         yield stdout_line \n",
    "#     popen.stdout.close()\n",
    "#     return_code = popen.wait()\n",
    "#     if return_code:\n",
    "#         raise subprocess.CalledProcessError(return_code, cmd)\n",
    "\n",
    "# # for debugging uncomment\n",
    "# for path in execute(cmdline.split(' ')):\n",
    "#     print(path, end=\"\")"
   ]
  }
 ],
 "metadata": {
  "kernelspec": {
   "display_name": "Python (alcfd)",
   "language": "python",
   "name": "alcfd"
  },
  "language_info": {
   "codemirror_mode": {
    "name": "ipython",
    "version": 3
   },
   "file_extension": ".py",
   "mimetype": "text/x-python",
   "name": "python",
   "nbconvert_exporter": "python",
   "pygments_lexer": "ipython3",
   "version": "3.8.6"
  }
 },
 "nbformat": 4,
 "nbformat_minor": 4
}
