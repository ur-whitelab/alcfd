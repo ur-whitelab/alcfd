{
 "cells": [
  {
   "cell_type": "code",
   "execution_count": 1,
   "metadata": {},
   "outputs": [],
   "source": [
    "import pandas as pd\n",
    "import numpy as np\n",
    "import sys\n",
    "sys.path.insert(1, '/gpfs/fs2/scratch/awhite38_lab/cfdsr/alcfd')\n",
    "import utilities as utils"
   ]
  },
  {
   "cell_type": "markdown",
   "metadata": {},
   "source": [
    "Defining input parameters"
   ]
  },
  {
   "cell_type": "code",
   "execution_count": 3,
   "metadata": {},
   "outputs": [],
   "source": [
    "inlet_D = np.array([200]) # [um]\n",
    "expansion_angle = np.array([40]) # [degrees]\n",
    "inlet_v = np.array([0.5]) # [m/s]\n",
    "inputs = [inlet_D, expansion_angle, inlet_v]"
   ]
  },
  {
   "cell_type": "code",
   "execution_count": 5,
   "metadata": {},
   "outputs": [
    {
     "name": "stdout",
     "output_type": "stream",
     "text": [
      "(array([26.5]), array([], dtype=int64))\n"
     ]
    }
   ],
   "source": [
    "# Using blood as fluid\n",
    "rho = 1060 # [kg m^-3]\n",
    "muo = 0.004 # [Pa s]\n",
    "re_number = utils.check_laminar(inlet_D*1e-6, inlet_v, rho, muo)\n",
    "print(re_number)"
   ]
  },
  {
   "cell_type": "code",
   "execution_count": 17,
   "metadata": {},
   "outputs": [],
   "source": [
    "import os\n",
    "import shutil\n",
    "def run_model_expansion(inlet_D, expansion_angle, inlet_v, rho=1060, muo=0.004, debug=False, run_parallel=False, name=None):\n",
    "    if name is None:\n",
    "        name = ''\n",
    "    path = os.getcwd()\n",
    "    inputs_dir = path + '/inputs' + f'_{name}.txt'\n",
    "    outputs_dir = path + '/outputs' + f'_{name}.txt'\n",
    "    input_types = (list, int, float, np.float64, np.int)\n",
    "    inputs = [inlet_D, expansion_angle, inlet_v]\n",
    "    for i, input in enumerate(inputs):\n",
    "        if isinstance(input, input_types):\n",
    "            inputs[i] = np.array(input)[np.newaxis,...]\n",
    "    inlet_D, expansion_angle, inlet_v = inputs\n",
    "    input_dict = {'D': inlet_D, 'Angle': expansion_angle,\n",
    "                  'V_in': inlet_v, 'outputs_file': outputs_dir}\n",
    "    df = pd.DataFrame(input_dict)\n",
    "    re_number, index_turbulent = utils.check_laminar(inlet_D*1e-6, inlet_v, rho, muo)\n",
    "    if index_turbulent.size != 0:\n",
    "        for i in index_turbulent:\n",
    "            df = df.drop(index=i)\n",
    "        print(\n",
    "            f'Warning: Dropped inputs {index_turbulent} as they result a turbulent flow.')\n",
    "    if not df.empty:\n",
    "        print('Inputs to the model are:\\n{}'.format(df))\n",
    "        df.to_csv(inputs_dir, header=True, sep='\\t', index=None)\n",
    "        print(f'Model inputs are saved in:\\n {inputs_dir}') \n",
    "        # re_number, a = check_laminar(pipe_D, rho, inlet_v, muo)\n",
    "        wb = '/scratch/dfoster_lab/ansys2020R2/v202/Framework/bin/Linux64/runwb2'\n",
    "        script = '/scratch/awhite38_lab/cfdsr/alcfd/archived_models/expansion/script.wbjn'\n",
    "        if not run_parallel:\n",
    "            shutil.copyfile(\n",
    "                inputs_dir, '/scratch/awhite38_lab/cfdsr/alcfd/archived_models/expansion/inputs.txt')\n",
    "        else:\n",
    "            ProjectPath = f'/scratch/awhite38_lab/cfdsr/alcfd/archived_models/expansion/expansion_{name}.wbpj'\n",
    "            input_file = inputs_dir\n",
    "            with open(script, \"r\") as f:\n",
    "                lines = f.readlines()\n",
    "                for m, line in enumerate(lines):\n",
    "                    if line.startswith('input_file'):\n",
    "                        lines[m] = f'input_file = \"{input_file}\"\\n'\n",
    "                    if line.startswith('    ProjectPath'):\n",
    "                        lines[m] = f'    ProjectPath=\"{ProjectPath}\",\\n'\n",
    "            script_parallel = f'/scratch/awhite38_lab/cfdsr/alcfd/archived_models/expansion/script_parallel_{name}.wbjn'\n",
    "            with open(script_parallel, \"w\") as f:\n",
    "                lines = \"\".join(lines)\n",
    "                f.write(lines)\n",
    "            script = script_parallel\n",
    "        if debug:\n",
    "            cmdline = f'{wb} -B -R {script} > run_log_{name}.txt'\n",
    "        else:\n",
    "            cmdline = f'{wb} -B -R {script}'\n",
    "        try:\n",
    "                os.system(cmdline)\n",
    "        except Exception:\n",
    "                print('Failed to launch ANSYS Workbench!')\n",
    "                sys.exit(0)\n",
    "        outputs = pd.read_csv(outputs_dir, delimiter='\\t')\n",
    "        outputs = outputs.drop(columns=['Mesh max size', 'Inlet R', 'inlet_L_by_inlet_D', 'expansion_L_by_inlet_D'])\n",
    "        print(f'Results are stored in:\\n {outputs_dir}.')\n",
    "        if run_parallel:\n",
    "            shutil.rmtree(\n",
    "                f'/scratch/awhite38_lab/cfdsr/alcfd/archived_models/expansion/expansion_{name}_files')\n",
    "            os.remove(\n",
    "                f'/scratch/awhite38_lab/cfdsr/alcfd/archived_models/expansion/expansion_{name}.wbpj')\n",
    "            os.remove(script)\n",
    "        return outputs\n",
    "    else: \n",
    "        print('Model cannot run. All inputs resulted a turbulent flow.')\n"
   ]
  },
  {
   "cell_type": "code",
   "execution_count": 19,
   "metadata": {},
   "outputs": [
    {
     "name": "stderr",
     "output_type": "stream",
     "text": [
      "<ipython-input-17-98b4e0f79caf>:9: DeprecationWarning: `np.int` is a deprecated alias for the builtin `int`. To silence this warning, use `int` by itself. Doing this will not modify any behavior and is safe. When replacing `np.int`, you may wish to use e.g. `np.int64` or `np.int32` to specify the precision. If you wish to review your current use, check the release note link for additional information.\n",
      "Deprecated in NumPy 1.20; for more details and guidance: https://numpy.org/devdocs/release/1.20.0-notes.html#deprecations\n",
      "  input_types = (list, int, float, np.float64, np.int)\n"
     ]
    },
    {
     "name": "stdout",
     "output_type": "stream",
     "text": [
      "Inputs to the model are:\n",
      "     D  Angle  V_in                                       outputs_file\n",
      "0  200     40   0.5  /gpfs/fs2/scratch/awhite38_lab/cfdsr/alcfd/exa...\n",
      "Model inputs are saved in:\n",
      " /gpfs/fs2/scratch/awhite38_lab/cfdsr/alcfd/examples/inputs_test.txt\n",
      "Results are stored in:\n",
      " /gpfs/fs2/scratch/awhite38_lab/cfdsr/alcfd/examples/outputs_test.txt.\n"
     ]
    },
    {
     "data": {
      "text/html": [
       "<div>\n",
       "<style scoped>\n",
       "    .dataframe tbody tr th:only-of-type {\n",
       "        vertical-align: middle;\n",
       "    }\n",
       "\n",
       "    .dataframe tbody tr th {\n",
       "        vertical-align: top;\n",
       "    }\n",
       "\n",
       "    .dataframe thead th {\n",
       "        text-align: right;\n",
       "    }\n",
       "</style>\n",
       "<table border=\"1\" class=\"dataframe\">\n",
       "  <thead>\n",
       "    <tr style=\"text-align: right;\">\n",
       "      <th></th>\n",
       "      <th>Inlet D</th>\n",
       "      <th>Expansion angle</th>\n",
       "      <th>Mesh size</th>\n",
       "      <th>Viscosity</th>\n",
       "      <th>Density</th>\n",
       "      <th>Inlet P</th>\n",
       "      <th>Inlet V</th>\n",
       "      <th>System vol</th>\n",
       "      <th>Backflow percent</th>\n",
       "      <th>Backflow vol</th>\n",
       "    </tr>\n",
       "  </thead>\n",
       "  <tbody>\n",
       "    <tr>\n",
       "      <th>0</th>\n",
       "      <td>200.0</td>\n",
       "      <td>40.0</td>\n",
       "      <td>0.000025</td>\n",
       "      <td>0.004</td>\n",
       "      <td>1060.0</td>\n",
       "      <td>15998.7</td>\n",
       "      <td>0.5</td>\n",
       "      <td>3.528010e-10</td>\n",
       "      <td>48.895581</td>\n",
       "      <td>1.725041e-10</td>\n",
       "    </tr>\n",
       "  </tbody>\n",
       "</table>\n",
       "</div>"
      ],
      "text/plain": [
       "   Inlet D  Expansion angle  Mesh size  Viscosity  Density  Inlet P  Inlet V  \\\n",
       "0    200.0             40.0   0.000025      0.004   1060.0  15998.7      0.5   \n",
       "\n",
       "     System vol  Backflow percent  Backflow vol  \n",
       "0  3.528010e-10         48.895581  1.725041e-10  "
      ]
     },
     "execution_count": 19,
     "metadata": {},
     "output_type": "execute_result"
    }
   ],
   "source": [
    "outputs = run_model_expansion(*inputs, name='test', debug=True)\n",
    "outputs"
   ]
  },
  {
   "cell_type": "code",
   "execution_count": null,
   "metadata": {},
   "outputs": [],
   "source": [
    "# /scratch/dfoster_lab/ansys2020R2/v202/Framework/bin/Linux64/runwb2 -B -R /scratch/awhite38_lab/cfdsr/alcfd/archived_models/expansion/script.wbjn"
   ]
  }
 ],
 "metadata": {
  "kernelspec": {
   "display_name": "Python (alcfd)",
   "language": "python",
   "name": "alcfd"
  },
  "language_info": {
   "codemirror_mode": {
    "name": "ipython",
    "version": 3
   },
   "file_extension": ".py",
   "mimetype": "text/x-python",
   "name": "python",
   "nbconvert_exporter": "python",
   "pygments_lexer": "ipython3",
   "version": "3.8.6"
  }
 },
 "nbformat": 4,
 "nbformat_minor": 4
}
