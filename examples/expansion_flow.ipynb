{
 "cells": [
  {
   "cell_type": "code",
   "execution_count": 1,
   "metadata": {},
   "outputs": [],
   "source": [
    "import pandas as pd\n",
    "import numpy as np\n",
    "import sys\n",
    "sys.path.insert(1, '/gpfs/fs2/scratch/awhite38_lab/cfdsr/alcfd')\n",
    "import utilities as utils"
   ]
  },
  {
   "cell_type": "markdown",
   "metadata": {},
   "source": [
    "Defining input parameters"
   ]
  },
  {
   "cell_type": "code",
   "execution_count": 2,
   "metadata": {},
   "outputs": [],
   "source": [
    "# note the unit for inlet_D\n",
    "inlet_D = np.array([200]) # [um]\n",
    "expansion_angle = np.array([40]) # [degrees]\n",
    "inlet_v = np.array([0.5]) # [m/s]\n",
    "inputs = [inlet_D, expansion_angle, inlet_v]"
   ]
  },
  {
   "cell_type": "code",
   "execution_count": 3,
   "metadata": {},
   "outputs": [
    {
     "name": "stdout",
     "output_type": "stream",
     "text": [
      "(array([26.5]), array([], dtype=int64))\n"
     ]
    }
   ],
   "source": [
    "# Using blood as fluid\n",
    "rho = 1060 # [kg m^-3]\n",
    "muo = 0.004 # [Pa s]\n",
    "re_number = utils.check_laminar(inlet_D*1e-6, inlet_v, rho, muo)\n",
    "print(re_number)"
   ]
  },
  {
   "cell_type": "code",
   "execution_count": 4,
   "metadata": {},
   "outputs": [
    {
     "name": "stdout",
     "output_type": "stream",
     "text": [
      "Inputs to the model are:\n",
      "     D  Angle  V_in                                       outputs_file\n",
      "0  200     40   0.5  /gpfs/fs2/scratch/awhite38_lab/cfdsr/alcfd/exa...\n",
      "Model inputs are saved in:\n",
      " /gpfs/fs2/scratch/awhite38_lab/cfdsr/alcfd/examples/inputs_par_test.txt\n",
      "Results are stored in:\n",
      " /gpfs/fs2/scratch/awhite38_lab/cfdsr/alcfd/examples/outputs_par_test.txt.\n"
     ]
    },
    {
     "data": {
      "text/html": [
       "<div>\n",
       "<style scoped>\n",
       "    .dataframe tbody tr th:only-of-type {\n",
       "        vertical-align: middle;\n",
       "    }\n",
       "\n",
       "    .dataframe tbody tr th {\n",
       "        vertical-align: top;\n",
       "    }\n",
       "\n",
       "    .dataframe thead th {\n",
       "        text-align: right;\n",
       "    }\n",
       "</style>\n",
       "<table border=\"1\" class=\"dataframe\">\n",
       "  <thead>\n",
       "    <tr style=\"text-align: right;\">\n",
       "      <th></th>\n",
       "      <th>Inlet D (um)</th>\n",
       "      <th>Expansion angle</th>\n",
       "      <th>Mesh size</th>\n",
       "      <th>Viscosity</th>\n",
       "      <th>Density</th>\n",
       "      <th>Inlet P</th>\n",
       "      <th>Inlet V</th>\n",
       "      <th>System vol</th>\n",
       "      <th>Backflow percent</th>\n",
       "      <th>Backflow vol</th>\n",
       "    </tr>\n",
       "  </thead>\n",
       "  <tbody>\n",
       "    <tr>\n",
       "      <th>0</th>\n",
       "      <td>200.0</td>\n",
       "      <td>40.0</td>\n",
       "      <td>0.000025</td>\n",
       "      <td>0.004</td>\n",
       "      <td>1060.0</td>\n",
       "      <td>15998.7</td>\n",
       "      <td>0.5</td>\n",
       "      <td>3.528010e-10</td>\n",
       "      <td>48.895581</td>\n",
       "      <td>1.725041e-10</td>\n",
       "    </tr>\n",
       "  </tbody>\n",
       "</table>\n",
       "</div>"
      ],
      "text/plain": [
       "   Inlet D (um)  Expansion angle  Mesh size  Viscosity  Density  Inlet P  \\\n",
       "0         200.0             40.0   0.000025      0.004   1060.0  15998.7   \n",
       "\n",
       "   Inlet V    System vol  Backflow percent  Backflow vol  \n",
       "0      0.5  3.528010e-10         48.895581  1.725041e-10  "
      ]
     },
     "execution_count": 4,
     "metadata": {},
     "output_type": "execute_result"
    }
   ],
   "source": [
    "outputs = utils.run_model_expansion(*inputs, name='par_test', debug=True, run_parallel=True)\n",
    "outputs"
   ]
  },
  {
   "cell_type": "code",
   "execution_count": null,
   "metadata": {},
   "outputs": [],
   "source": [
    "# /scratch/dfoster_lab/ansys2020R2/v202/Framework/bin/Linux64/runwb2 -B -R /scratch/awhite38_lab/cfdsr/alcfd/archived_models/expansion/script.wbjn"
   ]
  }
 ],
 "metadata": {
  "kernelspec": {
   "display_name": "Python (alcfd)",
   "language": "python",
   "name": "alcfd"
  },
  "language_info": {
   "codemirror_mode": {
    "name": "ipython",
    "version": 3
   },
   "file_extension": ".py",
   "mimetype": "text/x-python",
   "name": "python",
   "nbconvert_exporter": "python",
   "pygments_lexer": "ipython3",
   "version": "3.8.6"
  }
 },
 "nbformat": 4,
 "nbformat_minor": 4
}
