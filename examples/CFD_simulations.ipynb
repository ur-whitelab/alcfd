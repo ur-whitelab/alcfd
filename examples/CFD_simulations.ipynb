{
 "cells": [
  {
   "cell_type": "markdown",
   "metadata": {},
   "source": [
    "## Running CFD simulations"
   ]
  },
  {
   "cell_type": "code",
   "execution_count": 16,
   "metadata": {},
   "outputs": [],
   "source": [
    "from alcfd import *"
   ]
  },
  {
   "cell_type": "markdown",
   "metadata": {},
   "source": [
    "## Bent Pipe System\n",
    "\n",
    "### Defining input parameters"
   ]
  },
  {
   "cell_type": "code",
   "execution_count": 17,
   "metadata": {},
   "outputs": [],
   "source": [
    "pipe_D = np.array([0.1,0.02, 0.08, 0.5]) # [m]\n",
    "bend_angle = np.array([1, 1, 1, 1]) # [degrees]\n",
    "rho = np.array([1.225, 997, 997, 1.225]) # [kg m^-3]\n",
    "muo = np.array([1.7894e-5, 8.9e-4, 8.9e-4, 1.7894e-5]) # [Pa s]\n",
    "inlet_v = np.array([0.1, 0.05, 0.01, 0.05]) # [m/s]\n",
    "inlet_p = np.array([101325, 101325, 101325, 101325]) # [Pa]\n",
    "inputs = [pipe_D, bend_angle, inlet_v, rho, muo, inlet_p]"
   ]
  },
  {
   "cell_type": "markdown",
   "metadata": {},
   "source": [
    "### Check if flow is laminar"
   ]
  },
  {
   "cell_type": "code",
   "execution_count": 18,
   "metadata": {},
   "outputs": [
    {
     "name": "stdout",
     "output_type": "stream",
     "text": [
      "(array([ 684.58701241, 1120.2247191 ,  896.17977528, 1711.46753102]), array([], dtype=int64))\n"
     ]
    }
   ],
   "source": [
    "re_number = check_laminar(pipe_D, inlet_v, rho, muo)\n",
    "print(re_number)"
   ]
  },
  {
   "cell_type": "markdown",
   "metadata": {},
   "source": [
    "### Run CFD simulations"
   ]
  },
  {
   "cell_type": "code",
   "execution_count": null,
   "metadata": {
    "scrolled": true
   },
   "outputs": [],
   "source": [
    "outputs = run_bent_pipe_model(*inputs, l_d_ratio=10, name='validation')\n",
    "outputs"
   ]
  },
  {
   "cell_type": "markdown",
   "metadata": {},
   "source": [
    "### Compare with baseline"
   ]
  },
  {
   "cell_type": "code",
   "execution_count": 19,
   "metadata": {},
   "outputs": [
    {
     "name": "stdout",
     "output_type": "stream",
     "text": [
      "[5.726080e-03 3.560000e+00 4.450000e-02 1.145216e-04]\n"
     ]
    }
   ],
   "source": [
    "del_pl_hp = compute_Hagen_Poiseuille_del_PL(muo, inlet_v, pipe_D)   \n",
    "print(del_pl_hp)"
   ]
  },
  {
   "cell_type": "code",
   "execution_count": null,
   "metadata": {},
   "outputs": [],
   "source": [
    "error  = np.mean((outputs['Del P/L'].values - del_pl_hp) / del_pl_hp *100)\n",
    "print(f'Average error of the model is {error :0.2f} %.')"
   ]
  },
  {
   "cell_type": "markdown",
   "metadata": {},
   "source": [
    "## Backflow in expansion joint\n",
    "\n",
    "Follow the same steps as the bent pipe systems, change the input patams and use `run_expansion_model()` to run CFD simulations for this system."
   ]
  },
  {
   "cell_type": "code",
   "execution_count": 20,
   "metadata": {},
   "outputs": [
    {
     "name": "stdout",
     "output_type": "stream",
     "text": [
      "(array([26.5]), array([], dtype=int64))\n"
     ]
    }
   ],
   "source": [
    "# note the unit for inlet_D\n",
    "inlet_D = np.array([200]) # [um]\n",
    "expansion_angle = np.array([40]) # [degrees]\n",
    "inlet_v = np.array([0.5]) # [m/s]\n",
    "inputs = [inlet_D, expansion_angle, inlet_v]\n",
    "# Using blood as fluid\n",
    "rho = 1060 # [kg m^-3]\n",
    "muo = 0.004 # [Pa s]\n",
    "re_number = check_laminar(inlet_D*1e-6, inlet_v, rho, muo)\n",
    "print(re_number)"
   ]
  },
  {
   "cell_type": "code",
   "execution_count": null,
   "metadata": {
    "scrolled": true
   },
   "outputs": [],
   "source": [
    "outputs = run_expansion_model(*inputs, name='par_test', debug=True, run_parallel=True)\n",
    "outputs"
   ]
  }
 ],
 "metadata": {
  "kernelspec": {
   "display_name": "Python 3",
   "language": "python",
   "name": "python3"
  },
  "language_info": {
   "codemirror_mode": {
    "name": "ipython",
    "version": 3
   },
   "file_extension": ".py",
   "mimetype": "text/x-python",
   "name": "python",
   "nbconvert_exporter": "python",
   "pygments_lexer": "ipython3",
   "version": "3.7.11"
  }
 },
 "nbformat": 4,
 "nbformat_minor": 4
}
