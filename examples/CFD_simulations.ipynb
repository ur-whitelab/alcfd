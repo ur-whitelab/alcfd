{
 "cells": [
  {
   "cell_type": "markdown",
   "metadata": {},
   "source": [
    "## Running CFD simulations"
   ]
  },
  {
   "cell_type": "code",
   "execution_count": 1,
   "metadata": {},
   "outputs": [],
   "source": [
    "from alcfd import *"
   ]
  },
  {
   "cell_type": "markdown",
   "metadata": {},
   "source": [
    "## Bent Pipe System\n",
    "\n",
    "### Defining input parameters"
   ]
  },
  {
   "cell_type": "code",
   "execution_count": 2,
   "metadata": {},
   "outputs": [],
   "source": [
    "pipe_D = np.array([0.1,0.02, 0.08, 0.5]) # [m]\n",
    "bend_angle = np.array([1, 1, 1, 1]) # [degrees]\n",
    "rho = np.array([1.225, 997, 997, 1.225]) # [kg m^-3]\n",
    "muo = np.array([1.7894e-5, 8.9e-4, 8.9e-4, 1.7894e-5]) # [Pa s]\n",
    "inlet_v = np.array([0.1, 0.05, 0.01, 0.05]) # [m/s]\n",
    "inlet_p = np.array([101325, 101325, 101325, 101325]) # [Pa]\n",
    "inputs = [pipe_D, bend_angle, inlet_v, rho, muo, inlet_p]"
   ]
  },
  {
   "cell_type": "markdown",
   "metadata": {},
   "source": [
    "### Check if flow is laminar"
   ]
  },
  {
   "cell_type": "code",
   "execution_count": 3,
   "metadata": {},
   "outputs": [
    {
     "name": "stdout",
     "output_type": "stream",
     "text": [
      "(array([ 684.58701241, 1120.2247191 ,  896.17977528, 1711.46753102]), array([], dtype=int64))\n"
     ]
    }
   ],
   "source": [
    "re_number = check_laminar(pipe_D, inlet_v, rho, muo)\n",
    "print(re_number)"
   ]
  },
  {
   "cell_type": "markdown",
   "metadata": {},
   "source": [
    "### Run CFD simulations"
   ]
  },
  {
   "cell_type": "code",
   "execution_count": 4,
   "metadata": {
    "scrolled": true
   },
   "outputs": [
    {
     "name": "stdout",
     "output_type": "stream",
     "text": [
      "Inputs to the model are:\n",
      "      D  L_D_ratio  Angle  Density  Viscosity  V_in    P_in  \\\n",
      "0  0.10         10      1    1.225   0.000018  0.10  101325   \n",
      "1  0.02         10      1  997.000   0.000890  0.05  101325   \n",
      "2  0.08         10      1  997.000   0.000890  0.01  101325   \n",
      "3  0.50         10      1    1.225   0.000018  0.05  101325   \n",
      "\n",
      "                                        outputs_file  \n",
      "0  /gpfs/fs2/scratch/mgholiza/test_installable_al...  \n",
      "1  /gpfs/fs2/scratch/mgholiza/test_installable_al...  \n",
      "2  /gpfs/fs2/scratch/mgholiza/test_installable_al...  \n",
      "3  /gpfs/fs2/scratch/mgholiza/test_installable_al...  \n",
      "Model inputs are saved in:\n",
      " /gpfs/fs2/scratch/mgholiza/test_installable_alcfd/alcfd/examples/inputs_validation.txt\n",
      "Results are stored in:\n",
      " /gpfs/fs2/scratch/mgholiza/test_installable_alcfd/alcfd/examples/outputs_validation.txt.\n"
     ]
    },
    {
     "data": {
      "text/html": [
       "<div>\n",
       "<style scoped>\n",
       "    .dataframe tbody tr th:only-of-type {\n",
       "        vertical-align: middle;\n",
       "    }\n",
       "\n",
       "    .dataframe tbody tr th {\n",
       "        vertical-align: top;\n",
       "    }\n",
       "\n",
       "    .dataframe thead th {\n",
       "        text-align: right;\n",
       "    }\n",
       "</style>\n",
       "<table border=\"1\" class=\"dataframe\">\n",
       "  <thead>\n",
       "    <tr style=\"text-align: right;\">\n",
       "      <th></th>\n",
       "      <th>Pipe D</th>\n",
       "      <th>Elbow angle</th>\n",
       "      <th>Mesh size</th>\n",
       "      <th>Density</th>\n",
       "      <th>Viscosity</th>\n",
       "      <th>Inlet V</th>\n",
       "      <th>Inlet P</th>\n",
       "      <th>Pipe L/D</th>\n",
       "      <th>Del P/L</th>\n",
       "    </tr>\n",
       "  </thead>\n",
       "  <tbody>\n",
       "    <tr>\n",
       "      <th>0</th>\n",
       "      <td>0.10</td>\n",
       "      <td>1.0</td>\n",
       "      <td>0.005</td>\n",
       "      <td>1.225</td>\n",
       "      <td>0.000018</td>\n",
       "      <td>0.10</td>\n",
       "      <td>101325.0</td>\n",
       "      <td>10.0</td>\n",
       "      <td>0.005785</td>\n",
       "    </tr>\n",
       "    <tr>\n",
       "      <th>1</th>\n",
       "      <td>0.02</td>\n",
       "      <td>1.0</td>\n",
       "      <td>0.001</td>\n",
       "      <td>997.000</td>\n",
       "      <td>0.000890</td>\n",
       "      <td>0.05</td>\n",
       "      <td>101325.0</td>\n",
       "      <td>10.0</td>\n",
       "      <td>3.616446</td>\n",
       "    </tr>\n",
       "    <tr>\n",
       "      <th>2</th>\n",
       "      <td>0.08</td>\n",
       "      <td>1.0</td>\n",
       "      <td>0.004</td>\n",
       "      <td>997.000</td>\n",
       "      <td>0.000890</td>\n",
       "      <td>0.01</td>\n",
       "      <td>101325.0</td>\n",
       "      <td>10.0</td>\n",
       "      <td>0.045080</td>\n",
       "    </tr>\n",
       "    <tr>\n",
       "      <th>3</th>\n",
       "      <td>0.50</td>\n",
       "      <td>1.0</td>\n",
       "      <td>0.025</td>\n",
       "      <td>1.225</td>\n",
       "      <td>0.000018</td>\n",
       "      <td>0.05</td>\n",
       "      <td>101325.0</td>\n",
       "      <td>10.0</td>\n",
       "      <td>0.000117</td>\n",
       "    </tr>\n",
       "  </tbody>\n",
       "</table>\n",
       "</div>"
      ],
      "text/plain": [
       "   Pipe D  Elbow angle  Mesh size  Density  Viscosity  Inlet V   Inlet P  \\\n",
       "0    0.10          1.0      0.005    1.225   0.000018     0.10  101325.0   \n",
       "1    0.02          1.0      0.001  997.000   0.000890     0.05  101325.0   \n",
       "2    0.08          1.0      0.004  997.000   0.000890     0.01  101325.0   \n",
       "3    0.50          1.0      0.025    1.225   0.000018     0.05  101325.0   \n",
       "\n",
       "   Pipe L/D   Del P/L  \n",
       "0      10.0  0.005785  \n",
       "1      10.0  3.616446  \n",
       "2      10.0  0.045080  \n",
       "3      10.0  0.000117  "
      ]
     },
     "execution_count": 4,
     "metadata": {},
     "output_type": "execute_result"
    }
   ],
   "source": [
    "outputs = run_bent_pipe_model(*inputs, l_d_ratio=10, name='validation')\n",
    "outputs"
   ]
  },
  {
   "cell_type": "markdown",
   "metadata": {},
   "source": [
    "### Compare with baseline"
   ]
  },
  {
   "cell_type": "code",
   "execution_count": 5,
   "metadata": {},
   "outputs": [
    {
     "name": "stdout",
     "output_type": "stream",
     "text": [
      "[5.726080e-03 3.560000e+00 4.450000e-02 1.145216e-04]\n"
     ]
    }
   ],
   "source": [
    "del_pl_hp = compute_Hagen_Poiseuille_del_PL(muo, inlet_v, pipe_D)   \n",
    "print(del_pl_hp)"
   ]
  },
  {
   "cell_type": "code",
   "execution_count": 6,
   "metadata": {},
   "outputs": [
    {
     "name": "stdout",
     "output_type": "stream",
     "text": [
      "Average error of the model is 1.52 %.\n"
     ]
    }
   ],
   "source": [
    "error  = np.mean((outputs['Del P/L'].values - del_pl_hp) / del_pl_hp *100)\n",
    "print(f'Average error of the model is {error :0.2f} %.')"
   ]
  },
  {
   "cell_type": "markdown",
   "metadata": {},
   "source": [
    "## Backflow in expansion joint\n",
    "\n",
    "Follow the same steps as the bent pipe systems, change the input params and use `run_expansion_model()` to run CFD simulations for this system."
   ]
  },
  {
   "cell_type": "code",
   "execution_count": 7,
   "metadata": {},
   "outputs": [
    {
     "name": "stdout",
     "output_type": "stream",
     "text": [
      "(array([26.5]), array([], dtype=int64))\n"
     ]
    }
   ],
   "source": [
    "# note the unit for inlet_D\n",
    "inlet_D = np.array([200]) # [um]\n",
    "expansion_angle = np.array([40]) # [degrees]\n",
    "inlet_v = np.array([0.5]) # [m/s]\n",
    "inputs = [inlet_D, expansion_angle, inlet_v]\n",
    "# Using blood as fluid\n",
    "rho = 1060 # [kg m^-3]\n",
    "muo = 0.004 # [Pa s]\n",
    "re_number = check_laminar(inlet_D*1e-6, inlet_v, rho, muo)\n",
    "print(re_number)"
   ]
  },
  {
   "cell_type": "code",
   "execution_count": 8,
   "metadata": {
    "scrolled": true
   },
   "outputs": [
    {
     "name": "stdout",
     "output_type": "stream",
     "text": [
      "Inputs to the model are:\n",
      "     D  Angle  V_in                                       outputs_file\n",
      "0  200     40   0.5  /gpfs/fs2/scratch/mgholiza/test_installable_al...\n",
      "Model inputs are saved in:\n",
      " /gpfs/fs2/scratch/mgholiza/test_installable_alcfd/alcfd/examples/inputs_par_test.txt\n",
      "Results are stored in:\n",
      " /gpfs/fs2/scratch/mgholiza/test_installable_alcfd/alcfd/examples/outputs_par_test.txt.\n"
     ]
    },
    {
     "data": {
      "text/html": [
       "<div>\n",
       "<style scoped>\n",
       "    .dataframe tbody tr th:only-of-type {\n",
       "        vertical-align: middle;\n",
       "    }\n",
       "\n",
       "    .dataframe tbody tr th {\n",
       "        vertical-align: top;\n",
       "    }\n",
       "\n",
       "    .dataframe thead th {\n",
       "        text-align: right;\n",
       "    }\n",
       "</style>\n",
       "<table border=\"1\" class=\"dataframe\">\n",
       "  <thead>\n",
       "    <tr style=\"text-align: right;\">\n",
       "      <th></th>\n",
       "      <th>Inlet D (um)</th>\n",
       "      <th>Expansion angle</th>\n",
       "      <th>Mesh size</th>\n",
       "      <th>Viscosity</th>\n",
       "      <th>Density</th>\n",
       "      <th>Inlet P</th>\n",
       "      <th>Inlet V</th>\n",
       "      <th>System vol</th>\n",
       "      <th>Backflow percent</th>\n",
       "      <th>Backflow vol</th>\n",
       "    </tr>\n",
       "  </thead>\n",
       "  <tbody>\n",
       "    <tr>\n",
       "      <th>0</th>\n",
       "      <td>200.0</td>\n",
       "      <td>40.0</td>\n",
       "      <td>0.000025</td>\n",
       "      <td>0.004</td>\n",
       "      <td>1060.0</td>\n",
       "      <td>15998.7</td>\n",
       "      <td>0.5</td>\n",
       "      <td>3.528010e-10</td>\n",
       "      <td>48.775337</td>\n",
       "      <td>1.720799e-10</td>\n",
       "    </tr>\n",
       "  </tbody>\n",
       "</table>\n",
       "</div>"
      ],
      "text/plain": [
       "   Inlet D (um)  Expansion angle  Mesh size  Viscosity  Density  Inlet P  \\\n",
       "0         200.0             40.0   0.000025      0.004   1060.0  15998.7   \n",
       "\n",
       "   Inlet V    System vol  Backflow percent  Backflow vol  \n",
       "0      0.5  3.528010e-10         48.775337  1.720799e-10  "
      ]
     },
     "execution_count": 8,
     "metadata": {},
     "output_type": "execute_result"
    }
   ],
   "source": [
    "outputs = run_expansion_model(*inputs, name='par_test', debug=True, run_parallel=True)\n",
    "outputs"
   ]
  }
 ],
 "metadata": {
  "kernelspec": {
   "display_name": "Python (alcfd)",
   "language": "python",
   "name": "alcfd"
  },
  "language_info": {
   "codemirror_mode": {
    "name": "ipython",
    "version": 3
   },
   "file_extension": ".py",
   "mimetype": "text/x-python",
   "name": "python",
   "nbconvert_exporter": "python",
   "pygments_lexer": "ipython3",
   "version": "3.8.6"
  }
 },
 "nbformat": 4,
 "nbformat_minor": 4
}
