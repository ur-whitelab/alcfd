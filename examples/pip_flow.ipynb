{
 "cells": [
  {
   "cell_type": "code",
   "execution_count": 1,
   "metadata": {},
   "outputs": [],
   "source": [
    "import pandas as pd\n",
    "import numpy as np\n",
    "import sys\n",
    "sys.path.insert(1, '/gpfs/fs2/scratch/awhite38_lab/cfdsr/alcfd')\n",
    "import utilities as utils"
   ]
  },
  {
   "cell_type": "markdown",
   "metadata": {},
   "source": [
    "Defining input parameters"
   ]
  },
  {
   "cell_type": "code",
   "execution_count": 2,
   "metadata": {},
   "outputs": [],
   "source": [
    "pipe_D = np.array([0.1, 0.2, 0.4, 0.6]) # [m]\n",
    "bend_angle = np.array([1, 120, 60, 90]) # [degrees]\n",
    "rho = np.array([1.225, 1.225, 1.225, 1.225]) # [kg m^-3]\n",
    "muo = np.array([1.7894e-5, 1.7894e-5, 1.7894e-5, 1.7894e-5]) # [Pa s]\n",
    "inlet_v = np.array([0.1, 0.1, 0.05, 0.01]) # [m/s]\n",
    "inlet_p = np.array([101325, 101325, 101325, 101325]) # [Pa]\n",
    "inputs = [pipe_D, bend_angle, rho, muo, inlet_v, inlet_p]"
   ]
  },
  {
   "cell_type": "code",
   "execution_count": 3,
   "metadata": {},
   "outputs": [
    {
     "name": "stdout",
     "output_type": "stream",
     "text": [
      "[ 684.58701241 1369.17402481 1369.17402481  410.75220744]\n"
     ]
    }
   ],
   "source": [
    "re_number = utils.check_laminar(pipe_D, rho, inlet_v, muo)\n",
    "print(re_number)"
   ]
  },
  {
   "cell_type": "code",
   "execution_count": 4,
   "metadata": {},
   "outputs": [
    {
     "name": "stdout",
     "output_type": "stream",
     "text": [
      "No input was given for pipe L/D. Assuming L/D = 10.\n",
      "Model inputs are saved in:\n",
      " /gpfs/fs2/scratch/awhite38_lab/cfdsr/alcfd/examples/inputs_pipe_flow.txt\n",
      "Results are stored in:\n",
      " /gpfs/fs2/scratch/awhite38_lab/cfdsr/alcfd/examples/outputs_pipe_flow.txt.\n"
     ]
    },
    {
     "data": {
      "text/html": [
       "<div>\n",
       "<style scoped>\n",
       "    .dataframe tbody tr th:only-of-type {\n",
       "        vertical-align: middle;\n",
       "    }\n",
       "\n",
       "    .dataframe tbody tr th {\n",
       "        vertical-align: top;\n",
       "    }\n",
       "\n",
       "    .dataframe thead th {\n",
       "        text-align: right;\n",
       "    }\n",
       "</style>\n",
       "<table border=\"1\" class=\"dataframe\">\n",
       "  <thead>\n",
       "    <tr style=\"text-align: right;\">\n",
       "      <th></th>\n",
       "      <th>Pipe D</th>\n",
       "      <th>Elbow angle</th>\n",
       "      <th>Mesh size</th>\n",
       "      <th>Density</th>\n",
       "      <th>Viscosity</th>\n",
       "      <th>Inlet V</th>\n",
       "      <th>Inlet P</th>\n",
       "      <th>Pipe L/D</th>\n",
       "      <th>Del P/L</th>\n",
       "    </tr>\n",
       "  </thead>\n",
       "  <tbody>\n",
       "    <tr>\n",
       "      <th>0</th>\n",
       "      <td>0.1</td>\n",
       "      <td>1.0</td>\n",
       "      <td>0.005</td>\n",
       "      <td>1.225</td>\n",
       "      <td>0.000018</td>\n",
       "      <td>0.10</td>\n",
       "      <td>101325.0</td>\n",
       "      <td>10.0</td>\n",
       "      <td>0.005806</td>\n",
       "    </tr>\n",
       "    <tr>\n",
       "      <th>1</th>\n",
       "      <td>0.2</td>\n",
       "      <td>120.0</td>\n",
       "      <td>0.010</td>\n",
       "      <td>1.225</td>\n",
       "      <td>0.000018</td>\n",
       "      <td>0.10</td>\n",
       "      <td>101325.0</td>\n",
       "      <td>10.0</td>\n",
       "      <td>0.003999</td>\n",
       "    </tr>\n",
       "    <tr>\n",
       "      <th>2</th>\n",
       "      <td>0.4</td>\n",
       "      <td>60.0</td>\n",
       "      <td>0.020</td>\n",
       "      <td>1.225</td>\n",
       "      <td>0.000018</td>\n",
       "      <td>0.05</td>\n",
       "      <td>101325.0</td>\n",
       "      <td>10.0</td>\n",
       "      <td>0.000477</td>\n",
       "    </tr>\n",
       "    <tr>\n",
       "      <th>3</th>\n",
       "      <td>0.6</td>\n",
       "      <td>90.0</td>\n",
       "      <td>0.030</td>\n",
       "      <td>1.225</td>\n",
       "      <td>0.000018</td>\n",
       "      <td>0.01</td>\n",
       "      <td>101325.0</td>\n",
       "      <td>10.0</td>\n",
       "      <td>0.000030</td>\n",
       "    </tr>\n",
       "  </tbody>\n",
       "</table>\n",
       "</div>"
      ],
      "text/plain": [
       "   Pipe D  Elbow angle  Mesh size  Density  Viscosity  Inlet V   Inlet P  \\\n",
       "0     0.1          1.0      0.005    1.225   0.000018     0.10  101325.0   \n",
       "1     0.2        120.0      0.010    1.225   0.000018     0.10  101325.0   \n",
       "2     0.4         60.0      0.020    1.225   0.000018     0.05  101325.0   \n",
       "3     0.6         90.0      0.030    1.225   0.000018     0.01  101325.0   \n",
       "\n",
       "   Pipe L/D   Del P/L  \n",
       "0      10.0  0.005806  \n",
       "1      10.0  0.003999  \n",
       "2      10.0  0.000477  \n",
       "3      10.0  0.000030  "
      ]
     },
     "execution_count": 4,
     "metadata": {},
     "output_type": "execute_result"
    }
   ],
   "source": [
    "outputs = utils.run_model(*inputs, name='pipe_flow')\n",
    "outputs"
   ]
  },
  {
   "cell_type": "code",
   "execution_count": 7,
   "metadata": {},
   "outputs": [],
   "source": [
    "# from __future__ import print_function # Only Python 2.x\n",
    "# import subprocess\n",
    "\n",
    "# def execute(cmd):\n",
    "#     popen = subprocess.Popen(cmd, stdout=subprocess.PIPE, universal_newlines=True)\n",
    "#     for stdout_line in iter(popen.stdout.readline, \"\"):\n",
    "#         yield stdout_line \n",
    "#     popen.stdout.close()\n",
    "#     return_code = popen.wait()\n",
    "#     if return_code:\n",
    "#         raise subprocess.CalledProcessError(return_code, cmd)\n",
    "\n",
    "# # for debugging uncomment\n",
    "# for path in execute(cmdline.split(' ')):\n",
    "#     print(path, end=\"\")"
   ]
  },
  {
   "cell_type": "code",
   "execution_count": null,
   "metadata": {},
   "outputs": [],
   "source": []
  }
 ],
 "metadata": {
  "kernelspec": {
   "display_name": "Python (alcfd)",
   "language": "python",
   "name": "alcfd"
  },
  "language_info": {
   "codemirror_mode": {
    "name": "ipython",
    "version": 3
   },
   "file_extension": ".py",
   "mimetype": "text/x-python",
   "name": "python",
   "nbconvert_exporter": "python",
   "pygments_lexer": "ipython3",
   "version": "3.8.6"
  }
 },
 "nbformat": 4,
 "nbformat_minor": 4
}
