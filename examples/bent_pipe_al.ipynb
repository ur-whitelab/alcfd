{
 "cells": [
  {
   "cell_type": "markdown",
   "metadata": {},
   "source": [
    "# Active learning for bent pipe system\n",
    "\n",
    "This system has 3 features - $d, \\langle v \\rangle, \\theta$ and the label is pressure drop $\\Delta P$. "
   ]
  },
  {
   "cell_type": "code",
   "execution_count": 1,
   "metadata": {},
   "outputs": [],
   "source": [
    "# Import required functions\n",
    "\n",
    "from alcfd import *\n",
    "import warnings\n",
    "warnings.filterwarnings('ignore')"
   ]
  },
  {
   "cell_type": "markdown",
   "metadata": {},
   "source": [
    "## Prepare train and test data"
   ]
  },
  {
   "cell_type": "code",
   "execution_count": 2,
   "metadata": {},
   "outputs": [],
   "source": [
    "# Load data pool\n",
    "input_file = 'bent_pipe_train.dat'\n",
    "data = pd.read_csv(input_file, delimiter=' ')\n",
    "#Isolate test data\n",
    "test_data = data.loc[ (data['Elbow angle'] > 120) & (data['Pipe_D'] > 0.07)]\n",
    "X_test = np.stack((test_data['Pipe_D'].astype('float'), \n",
    "                  test_data['Elbow angle'].astype('float'), \n",
    "                  test_data['Inlet_V'].astype('float')), axis=-1)\n",
    "y_test = np.array(test_data['Del_P'].astype('float'))\n",
    "# Rest is training data pool\n",
    "train_pool = data.loc[~((data['Elbow angle'] > 120) & (data['Pipe_D'] > 0.07) )]"
   ]
  },
  {
   "cell_type": "code",
   "execution_count": 3,
   "metadata": {
    "scrolled": true
   },
   "outputs": [
    {
     "name": "stdout",
     "output_type": "stream",
     "text": [
      "Done!\n"
     ]
    }
   ],
   "source": [
    "# Define features and labels\n",
    "features = ['Pipe_D', 'angle', 'Inlet_V']\n",
    "label = 'Del_P'\n",
    "\n",
    "# This code prodices training sets for 5, 10,...,20 active learned points, with 5 runs for each\n",
    "for i, j in enumerate(np.arange(5, 20, 5)):\n",
    "    for k in range(5):\n",
    "        X_train, y_train, X_pool, y_pool = sample_initial_training_points(train_pool, features, label)\n",
    "        regressor_3d = active_learner(X_train, y_train)\n",
    "        N_QUERIES = j\n",
    "        Xs, ys, X_val, y_val = query_data(N_QUERIES, X_pool, y_pool, regressor_3d, \n",
    "                                          X_test=X_test, y_test=y_test)\n",
    "        pred = regressor_3d.predict(X_test)\n",
    "        directory = create_train_dat(f'cfd-sr-bent-pipe/active_learning_example/points{j}_{k}', Xs, ys, features, label)\n",
    "print(f'Done!')"
   ]
  },
  {
   "cell_type": "code",
   "execution_count": null,
   "metadata": {},
   "outputs": [],
   "source": []
  }
 ],
 "metadata": {
  "kernelspec": {
   "display_name": "Python 3",
   "language": "python",
   "name": "python3"
  },
  "language_info": {
   "codemirror_mode": {
    "name": "ipython",
    "version": 3
   },
   "file_extension": ".py",
   "mimetype": "text/x-python",
   "name": "python",
   "nbconvert_exporter": "python",
   "pygments_lexer": "ipython3",
   "version": "3.7.11"
  }
 },
 "nbformat": 4,
 "nbformat_minor": 2
}
