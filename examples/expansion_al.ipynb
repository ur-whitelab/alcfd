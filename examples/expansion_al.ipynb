{
 "cells": [
  {
   "cell_type": "markdown",
   "metadata": {},
   "source": [
    "# Active learning for the expansion joint"
   ]
  },
  {
   "cell_type": "code",
   "execution_count": 8,
   "metadata": {},
   "outputs": [],
   "source": [
    "# Import required packages\n",
    "from alcfd import *\n",
    "import warnings\n",
    "warnings.filterwarnings('ignore')"
   ]
  },
  {
   "cell_type": "code",
   "execution_count": 9,
   "metadata": {},
   "outputs": [],
   "source": [
    "# Load training data\n",
    "input_file = 'expansion_train.dat'\n",
    "data = pd.read_csv(input_file, delimiter=' ')\n",
    "data = data.rename(columns={'Backflow percent': 'backflow_percent'})\n",
    "#convert units\n",
    "data['angle'] = np.round(np.radians(data['exp_angle']), decimals=4)\n",
    "data['inlet_D'] = data['inlet_D'] * 1000 #converting to mm\n",
    "data['inlet_V'] = data['inlet_V'] * 1000\n",
    "data['Density'] = data['Density'] * 10 ** -6 # converting to g/mm3\n",
    "# Isolate test data\n",
    "test_data = data.loc[ (data['exp_angle'] > 50) & (data['inlet_D'] > 0.0025)]\n",
    "X_test = np.stack((test_data['inlet_D'].astype('float'), \n",
    "                   test_data['angle'].astype('float'), \n",
    "                   test_data['inlet_V'].astype('float')), axis=-1)\n",
    "y_test = np.array(test_data['backflow_percent']).astype(float)\n",
    "# Rest is the training pool\n",
    "train_data = data.loc[~((data['exp_angle'] > 50) & (data['inlet_D'] > 0.0025) )]"
   ]
  },
  {
   "cell_type": "code",
   "execution_count": 12,
   "metadata": {
    "scrolled": true
   },
   "outputs": [
    {
     "name": "stdout",
     "output_type": "stream",
     "text": [
      "Done!\n"
     ]
    }
   ],
   "source": [
    "# Whatt are the features and labels?\n",
    "features=['inlet_D', 'angle', 'inlet_V' ]\n",
    "label = 'backflow_percent'\n",
    "\n",
    "# This code produces training sets for 5, 10,...,20 active learned points, with 5 runs for each\n",
    "for i, j in enumerate(np.arange(5, 25, 5)):\n",
    "    for k in range(5):\n",
    "        X_train, y_train, X_pool, y_pool = sample_initial_training_points(train_data, features, label)\n",
    "        regressor_3d = active_learner(X_train, y_train)\n",
    "        N_QUERIES = j\n",
    "        Xs, ys, X_val, y_val = query_data(N_QUERIES, X_pool, y_pool, regressor_3d, X_test, y_test)\n",
    "        directory = create_train_dat(f'expansion_al_example/points{j}_{k}/', Xs, ys, features, label, density=1060., viscosity=0.004)\n",
    "print(f'Done!')\n"
   ]
  },
  {
   "cell_type": "code",
   "execution_count": null,
   "metadata": {},
   "outputs": [],
   "source": []
  }
 ],
 "metadata": {
  "kernelspec": {
   "display_name": "Python 3",
   "language": "python",
   "name": "python3"
  },
  "language_info": {
   "codemirror_mode": {
    "name": "ipython",
    "version": 3
   },
   "file_extension": ".py",
   "mimetype": "text/x-python",
   "name": "python",
   "nbconvert_exporter": "python",
   "pygments_lexer": "ipython3",
   "version": "3.7.11"
  }
 },
 "nbformat": 4,
 "nbformat_minor": 2
}
