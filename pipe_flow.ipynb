{
 "cells": [
  {
   "cell_type": "code",
   "execution_count": 1,
   "metadata": {},
   "outputs": [],
   "source": [
    "import pandas as pd\n",
    "import os\n",
    "import sys"
   ]
  },
  {
   "cell_type": "markdown",
   "metadata": {},
   "source": [
    "Defining input parameters"
   ]
  },
  {
   "cell_type": "code",
   "execution_count": 2,
   "metadata": {},
   "outputs": [],
   "source": [
    "pipe_D = [0.5] # [m]\n",
    "bend_angle = [120] # [degrees]\n",
    "inlet_v = [2] # [m/s]\n",
    "dict = {'D': pipe_D, 'Angle': bend_angle, 'V': inlet_v}\n",
    "df = pd.DataFrame(dict) \n",
    "df.to_csv('inputs.txt', header=True,sep ='\\t', index=None)"
   ]
  },
  {
   "cell_type": "code",
   "execution_count": 3,
   "metadata": {},
   "outputs": [],
   "source": [
    "script = 'test.wbjn'\n",
    "wb = 'RunWB2.exe'\n",
    "cmdline = '{} -B -R {}'.format(wb, script)\n",
    "\n",
    "try:\n",
    "    os.system(cmdline)\n",
    "except Exception:\n",
    "    print('Failed to launch ANSYS Workbench!')\n",
    "    sys.exit(0)"
   ]
  },
  {
   "cell_type": "code",
   "execution_count": 4,
   "metadata": {},
   "outputs": [
    {
     "name": "stdout",
     "output_type": "stream",
     "text": [
      "Delta P is 1.4879908\n",
      "\n"
     ]
    }
   ],
   "source": [
    "with open('outputs.txt','r') as file:\n",
    "    for line in file.readlines():\n",
    "        pass\n",
    "    last_line =line\n",
    "del_p = line[2:].split(',')[-1]\n",
    "print(f'Delta P is {del_p}')\n"
   ]
  }
 ],
 "metadata": {
  "kernelspec": {
   "display_name": "alcfd",
   "language": "python",
   "name": "alcfd"
  },
  "language_info": {
   "codemirror_mode": {
    "name": "ipython",
    "version": 3
   },
   "file_extension": ".py",
   "mimetype": "text/x-python",
   "name": "python",
   "nbconvert_exporter": "python",
   "pygments_lexer": "ipython3",
   "version": "3.8.6"
  }
 },
 "nbformat": 4,
 "nbformat_minor": 4
}
