{
 "cells": [
  {
   "cell_type": "code",
   "execution_count": 1,
   "metadata": {},
   "outputs": [],
   "source": [
    "import pandas as pd\n",
    "import numpy as np\n",
    "import utilities as utils"
   ]
  },
  {
   "cell_type": "markdown",
   "metadata": {},
   "source": [
    "Defining input parameters"
   ]
  },
  {
   "cell_type": "code",
   "execution_count": 2,
   "metadata": {},
   "outputs": [],
   "source": [
    "pipe_D = np.array([0.1, 0.2, 0.4, 0.6]) # [m]\n",
    "bend_angle = np.array([1, 1, 60, 90]) # [degrees]\n",
    "rho = np.array([1.225, 1.225, 1.225, 1.225]) # [kg m^-3]\n",
    "muo = np.array([1.7894e-5, 1.7894e-5, 1.7894e-5, 1.7894e-5]) # [Pa s]\n",
    "inlet_v = np.array([0.1, 0.1, 0.05, 0.01]) # [m/s]\n",
    "inlet_p = np.array([101325, 101325, 101325, 101325]) # [Pa]\n",
    "inputs = [pipe_D, bend_angle, rho, muo, inlet_v, inlet_p]"
   ]
  },
  {
   "cell_type": "code",
   "execution_count": 3,
   "metadata": {},
   "outputs": [
    {
     "name": "stdout",
     "output_type": "stream",
     "text": [
      "[ 684.58701241 1369.17402481 1369.17402481  410.75220744]\n"
     ]
    }
   ],
   "source": [
    "re_number = utils.check_laminar(pipe_D, rho, inlet_v, muo)\n",
    "print(re_number)"
   ]
  },
  {
   "cell_type": "code",
   "execution_count": 4,
   "metadata": {},
   "outputs": [
    {
     "name": "stdout",
     "output_type": "stream",
     "text": [
      "Results are stored in outputs.txt\n"
     ]
    },
    {
     "data": {
      "text/html": [
       "<div>\n",
       "<style scoped>\n",
       "    .dataframe tbody tr th:only-of-type {\n",
       "        vertical-align: middle;\n",
       "    }\n",
       "\n",
       "    .dataframe tbody tr th {\n",
       "        vertical-align: top;\n",
       "    }\n",
       "\n",
       "    .dataframe thead th {\n",
       "        text-align: right;\n",
       "    }\n",
       "</style>\n",
       "<table border=\"1\" class=\"dataframe\">\n",
       "  <thead>\n",
       "    <tr style=\"text-align: right;\">\n",
       "      <th></th>\n",
       "      <th>pipe_d</th>\n",
       "      <th>elbow_angle</th>\n",
       "      <th>mesh_element_size</th>\n",
       "      <th>mesh_max_size</th>\n",
       "      <th>density</th>\n",
       "      <th>viscosity</th>\n",
       "      <th>inlet_v</th>\n",
       "      <th>inlet_p</th>\n",
       "      <th>p0</th>\n",
       "      <th>p1</th>\n",
       "      <th>del_p</th>\n",
       "    </tr>\n",
       "  </thead>\n",
       "  <tbody>\n",
       "    <tr>\n",
       "      <th>0</th>\n",
       "      <td>0.1</td>\n",
       "      <td>1.0</td>\n",
       "      <td>0.005</td>\n",
       "      <td>0.005</td>\n",
       "      <td>1.225</td>\n",
       "      <td>0.000018</td>\n",
       "      <td>0.10</td>\n",
       "      <td>101325.0</td>\n",
       "      <td>101325.01</td>\n",
       "      <td>101325.0</td>\n",
       "      <td>0.014977</td>\n",
       "    </tr>\n",
       "    <tr>\n",
       "      <th>1</th>\n",
       "      <td>0.2</td>\n",
       "      <td>1.0</td>\n",
       "      <td>0.010</td>\n",
       "      <td>0.010</td>\n",
       "      <td>1.225</td>\n",
       "      <td>0.000018</td>\n",
       "      <td>0.10</td>\n",
       "      <td>101325.0</td>\n",
       "      <td>101325.01</td>\n",
       "      <td>101325.0</td>\n",
       "      <td>0.009695</td>\n",
       "    </tr>\n",
       "    <tr>\n",
       "      <th>2</th>\n",
       "      <td>0.4</td>\n",
       "      <td>60.0</td>\n",
       "      <td>0.020</td>\n",
       "      <td>0.020</td>\n",
       "      <td>1.225</td>\n",
       "      <td>0.000018</td>\n",
       "      <td>0.05</td>\n",
       "      <td>101325.0</td>\n",
       "      <td>101325.00</td>\n",
       "      <td>101325.0</td>\n",
       "      <td>0.003362</td>\n",
       "    </tr>\n",
       "    <tr>\n",
       "      <th>3</th>\n",
       "      <td>0.6</td>\n",
       "      <td>90.0</td>\n",
       "      <td>0.030</td>\n",
       "      <td>0.030</td>\n",
       "      <td>1.225</td>\n",
       "      <td>0.000018</td>\n",
       "      <td>0.01</td>\n",
       "      <td>101325.0</td>\n",
       "      <td>101325.00</td>\n",
       "      <td>101325.0</td>\n",
       "      <td>0.000284</td>\n",
       "    </tr>\n",
       "  </tbody>\n",
       "</table>\n",
       "</div>"
      ],
      "text/plain": [
       "   pipe_d  elbow_angle  mesh_element_size  mesh_max_size  density  viscosity  \\\n",
       "0     0.1          1.0              0.005          0.005    1.225   0.000018   \n",
       "1     0.2          1.0              0.010          0.010    1.225   0.000018   \n",
       "2     0.4         60.0              0.020          0.020    1.225   0.000018   \n",
       "3     0.6         90.0              0.030          0.030    1.225   0.000018   \n",
       "\n",
       "   inlet_v   inlet_p         p0        p1     del_p  \n",
       "0     0.10  101325.0  101325.01  101325.0  0.014977  \n",
       "1     0.10  101325.0  101325.01  101325.0  0.009695  \n",
       "2     0.05  101325.0  101325.00  101325.0  0.003362  \n",
       "3     0.01  101325.0  101325.00  101325.0  0.000284  "
      ]
     },
     "execution_count": 4,
     "metadata": {},
     "output_type": "execute_result"
    }
   ],
   "source": [
    "outputs = utils.run_model(*inputs)\n",
    "outputs"
   ]
  },
  {
   "cell_type": "code",
   "execution_count": 5,
   "metadata": {},
   "outputs": [
    {
     "name": "stdout",
     "output_type": "stream",
     "text": [
      "0.008016511999999998\n"
     ]
    }
   ],
   "source": [
    "del_p_hp = utils.compute_Hagen_Poiseuille_del_P(muo[0], 14*pipe_D[0], inlet_v[0], pipe_D[0])   \n",
    "print(del_p_hp)"
   ]
  },
  {
   "cell_type": "code",
   "execution_count": 17,
   "metadata": {},
   "outputs": [
    {
     "name": "stdout",
     "output_type": "stream",
     "text": [
      "Opening ANSYS WB...\n",
      "Restoring project from archive...\n",
      "Project loaded.\n",
      "Running simulation...\n",
      "Simulation complete.\n",
      "Exporting results...\n",
      "DP 0,0.1,1,0.005,0.005,1.225,1.7894E-05,0.1,101325,101325.01,101325,0.014977433\n",
      "\n",
      "[0.10000000000000001, 1.0, 0.0050000000000000001, 0.0050000000000000001, 1.225, 1.7893999999999998e-05, 0.10000000000000001, 101325.0, 101325.01, 101325.0]\n",
      "[[0.10000000000000001, 1.0, 0.0050000000000000001, 0.0050000000000000001, 1.225, 1.7893999999999998e-05, 0.10000000000000001, 101325.0, 101325.01, 101325.0]]\n",
      "Done!\n"
     ]
    }
   ],
   "source": [
    "from __future__ import print_function # Only Python 2.x\n",
    "import subprocess\n",
    "\n",
    "def execute(cmd):\n",
    "    popen = subprocess.Popen(cmd, stdout=subprocess.PIPE, universal_newlines=True)\n",
    "    for stdout_line in iter(popen.stdout.readline, \"\"):\n",
    "        yield stdout_line \n",
    "    popen.stdout.close()\n",
    "    return_code = popen.wait()\n",
    "    if return_code:\n",
    "        raise subprocess.CalledProcessError(return_code, cmd)\n",
    "\n",
    "# for debugging uncomment\n",
    "for path in execute(cmdline.split(' ')):\n",
    "    print(path, end=\"\")"
   ]
  }
 ],
 "metadata": {
  "kernelspec": {
   "display_name": "Python (alcfd)",
   "language": "python",
   "name": "alcfd"
  },
  "language_info": {
   "codemirror_mode": {
    "name": "ipython",
    "version": 3
   },
   "file_extension": ".py",
   "mimetype": "text/x-python",
   "name": "python",
   "nbconvert_exporter": "python",
   "pygments_lexer": "ipython3",
   "version": "3.8.6"
  }
 },
 "nbformat": 4,
 "nbformat_minor": 4
}
